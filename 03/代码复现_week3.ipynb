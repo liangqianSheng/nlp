{
 "cells": [
  {
   "cell_type": "code",
   "execution_count": 2,
   "metadata": {},
   "outputs": [
    {
     "data": {
      "text/plain": [
       "array([[0.30814103, 0.23912365],\n",
       "       [0.76063898, 0.80089787],\n",
       "       [0.35278442, 0.52733987],\n",
       "       [0.11500073, 0.40081126],\n",
       "       [0.10765748, 0.63886639],\n",
       "       [0.56085655, 0.73846214],\n",
       "       [0.76644402, 0.40542945],\n",
       "       [0.83024955, 0.94478827],\n",
       "       [0.91872523, 0.62285268],\n",
       "       [0.74662674, 0.58464338],\n",
       "       [0.91018429, 0.29593936],\n",
       "       [0.82096875, 0.72814103],\n",
       "       [0.57519814, 0.81149094],\n",
       "       [0.19467985, 0.39424783],\n",
       "       [0.88849076, 0.60408339],\n",
       "       [0.78813757, 0.36772772],\n",
       "       [0.32842081, 0.99925307],\n",
       "       [0.18246827, 0.41523128],\n",
       "       [0.02967824, 0.22526847],\n",
       "       [0.73667322, 0.42367367]])"
      ]
     },
     "execution_count": 2,
     "metadata": {},
     "output_type": "execute_result"
    }
   ],
   "source": [
    "%matplotlib inline\n",
    "import numpy as np\n",
    "ramdom_data = np.random.random((20,2))\n",
    "ramdom_data\n"
   ]
  },
  {
   "cell_type": "code",
   "execution_count": 3,
   "metadata": {},
   "outputs": [
    {
     "data": {
      "text/plain": [
       "array([0.30814103, 0.76063898, 0.35278442, 0.11500073, 0.10765748,\n",
       "       0.56085655, 0.76644402, 0.83024955, 0.91872523, 0.74662674,\n",
       "       0.91018429, 0.82096875, 0.57519814, 0.19467985, 0.88849076,\n",
       "       0.78813757, 0.32842081, 0.18246827, 0.02967824, 0.73667322])"
      ]
     },
     "execution_count": 3,
     "metadata": {},
     "output_type": "execute_result"
    }
   ],
   "source": [
    "import matplotlib.pyplot as plt\n",
    "X = ramdom_data[:,0]\n",
    "X"
   ]
  },
  {
   "cell_type": "code",
   "execution_count": 4,
   "metadata": {},
   "outputs": [],
   "source": [
    "y = ramdom_data[:,1]  ## 感觉这一步没什么用"
   ]
  },
  {
   "cell_type": "code",
   "execution_count": 5,
   "metadata": {},
   "outputs": [
    {
     "data": {
      "text/plain": [
       "[7.129089773796526,\n",
       " 11.192562310344213,\n",
       " 11.727311254844333,\n",
       " 10.541009726393241,\n",
       " 7.442610293577486,\n",
       " 12.515477737949023,\n",
       " 13.270349893259176,\n",
       " 11.125343913441334,\n",
       " 17.3109180160617,\n",
       " 10.004798250415908,\n",
       " 19.196469536103038,\n",
       " 19.000981242022522,\n",
       " 14.707655084931936,\n",
       " 2.6087099787371795,\n",
       " 19.905776151935804,\n",
       " 18.56104339070201,\n",
       " 11.400838840862523,\n",
       " 9.445074839723471,\n",
       " 4.39768848242912,\n",
       " 18.8714211552095]"
      ]
     },
     "execution_count": 5,
     "metadata": {},
     "output_type": "execute_result"
    }
   ],
   "source": [
    "import random\n",
    "\n",
    "def assmuing_function(x):\n",
    "    return 13.4* x +5 + random.randint(-5,5)\n",
    "\n",
    "y = [assmuing_function(x) for x in X]\n",
    "y"
   ]
  },
  {
   "cell_type": "code",
   "execution_count": 6,
   "metadata": {},
   "outputs": [
    {
     "data": {
      "text/plain": [
       "<matplotlib.collections.PathCollection at 0x7f3fa938f690>"
      ]
     },
     "execution_count": 6,
     "metadata": {},
     "output_type": "execute_result"
    },
    {
     "data": {
      "image/png": "[encoded data removed]",
      "text/plain": [
       "<Figure size 432x288 with 1 Axes>"
      ]
     },
     "metadata": {
      "needs_background": "light"
     },
     "output_type": "display_data"
    }
   ],
   "source": [
    "plt.scatter(X,y)"
   ]
  },
  {
   "cell_type": "code",
   "execution_count": 7,
   "metadata": {},
   "outputs": [
    {
     "data": {
      "text/plain": [
       "array([ 7.12908977, 11.19256231, 11.72731125, 10.54100973,  7.44261029,\n",
       "       12.51547774, 13.27034989, 11.12534391, 17.31091802, 10.00479825,\n",
       "       19.19646954, 19.00098124, 14.70765508,  2.60870998, 19.90577615,\n",
       "       18.56104339, 11.40083884,  9.44507484,  4.39768848, 18.87142116])"
      ]
     },
     "execution_count": 7,
     "metadata": {},
     "output_type": "execute_result"
    }
   ],
   "source": [
    "y = np.array(y)\n",
    "y"
   ]
  },
  {
   "cell_type": "markdown",
   "metadata": {},
   "source": [
    "### regression"
   ]
  },
  {
   "cell_type": "code",
   "execution_count": 8,
   "metadata": {},
   "outputs": [
    {
     "data": {
      "text/plain": [
       "array([[0.30814103],\n",
       "       [0.76063898],\n",
       "       [0.35278442],\n",
       "       [0.11500073],\n",
       "       [0.10765748],\n",
       "       [0.56085655],\n",
       "       [0.76644402],\n",
       "       [0.83024955],\n",
       "       [0.91872523],\n",
       "       [0.74662674],\n",
       "       [0.91018429],\n",
       "       [0.82096875],\n",
       "       [0.57519814],\n",
       "       [0.19467985],\n",
       "       [0.88849076],\n",
       "       [0.78813757],\n",
       "       [0.32842081],\n",
       "       [0.18246827],\n",
       "       [0.02967824],\n",
       "       [0.73667322]])"
      ]
     },
     "execution_count": 8,
     "metadata": {},
     "output_type": "execute_result"
    }
   ],
   "source": [
    "X.reshape(-1,1) ## X维度（num_samples,num_features)"
   ]
  },
  {
   "cell_type": "code",
   "execution_count": 8,
   "metadata": {},
   "outputs": [
    {
     "data": {
      "text/plain": [
       "array([11.27808647, 16.64587486,  8.46419639, 11.94103833,  8.04740382,\n",
       "       13.13742215, 15.20433471,  9.04500253, 19.45094472, 19.14699686,\n",
       "       18.77125235, 14.30784501, 10.31099722, 20.48356488,  7.79697514,\n",
       "       18.66985331, 10.72490974, 16.02372249,  4.07575885,  3.83106759])"
      ]
     },
     "execution_count": 8,
     "metadata": {},
     "output_type": "execute_result"
    }
   ],
   "source": [
    "y"
   ]
  },
  {
   "cell_type": "code",
   "execution_count": 9,
   "metadata": {},
   "outputs": [],
   "source": [
    "import numpy as np\n",
    "from sklearn.linear_model import LinearRegression\n",
    "\n",
    "reg = LinearRegression().fit(X.reshape(-1,1),y)"
   ]
  },
  {
   "cell_type": "code",
   "execution_count": 10,
   "metadata": {},
   "outputs": [
    {
     "data": {
      "text/plain": [
       "array([15.48472834])"
      ]
     },
     "execution_count": 10,
     "metadata": {},
     "output_type": "execute_result"
    }
   ],
   "source": [
    "reg.coef_"
   ]
  },
  {
   "cell_type": "code",
   "execution_count": 11,
   "metadata": {},
   "outputs": [
    {
     "data": {
      "text/plain": [
       "3.7181647724296383"
      ]
     },
     "execution_count": 11,
     "metadata": {},
     "output_type": "execute_result"
    }
   ],
   "source": [
    "reg.intercept_"
   ]
  },
  {
   "cell_type": "code",
   "execution_count": 12,
   "metadata": {},
   "outputs": [
    {
     "data": {
      "text/plain": [
       "0.6971931657125174"
      ]
     },
     "execution_count": 12,
     "metadata": {},
     "output_type": "execute_result"
    }
   ],
   "source": [
    "reg.score(X.reshape(-1,1),y)"
   ]
  },
  {
   "cell_type": "code",
   "execution_count": 13,
   "metadata": {},
   "outputs": [],
   "source": [
    "def f(x):\n",
    "    return reg.coef_* x + reg.intercept_"
   ]
  },
  {
   "cell_type": "code",
   "execution_count": 14,
   "metadata": {},
   "outputs": [
    {
     "data": {
      "text/plain": [
       "[<matplotlib.lines.Line2D at 0x7f9df15dfe10>]"
      ]
     },
     "execution_count": 14,
     "metadata": {},
     "output_type": "execute_result"
    },
    {
     "data": {
      "image/png": "[encoded data removed]",
      "text/plain": [
       "<Figure size 432x288 with 1 Axes>"
      ]
     },
     "metadata": {
      "needs_background": "light"
     },
     "output_type": "display_data"
    }
   ],
   "source": [
    "plt.scatter(X,y)\n",
    "plt.plot(X, f(X), color='green')"
   ]
  },
  {
   "cell_type": "code",
   "execution_count": 15,
   "metadata": {},
   "outputs": [
    {
     "data": {
      "text/plain": [
       "array([19.20289311])"
      ]
     },
     "execution_count": 15,
     "metadata": {},
     "output_type": "execute_result"
    }
   ],
   "source": [
    "reg.predict([[1]])"
   ]
  },
  {
   "cell_type": "markdown",
   "metadata": {},
   "source": [
    "### KNN"
   ]
  },
  {
   "cell_type": "code",
   "execution_count": 16,
   "metadata": {},
   "outputs": [
    {
     "data": {
      "text/plain": [
       "[(0.39388704997646196, 11.27808646968459),\n",
       " (0.9437220041330506, 16.64587485538288),\n",
       " (0.25852211860801577, 8.46419638934741),\n",
       " (0.8911222636582135, 11.94103833302006),\n",
       " (0.4512987921947297, 8.047403815409378),\n",
       " (0.45801657824746567, 13.137422148516041),\n",
       " (0.6122637843628929, 15.204334710462765),\n",
       " (0.6003733232984905, 9.045002532199772),\n",
       " (0.8545481137378437, 19.450944724087105),\n",
       " (0.9811191687576251, 19.14699686135218),\n",
       " (0.7291979365924479, 18.771252350338802),\n",
       " (0.6199884335359209, 14.30784500938134),\n",
       " (0.5455968071626254, 10.31099721597918),\n",
       " (0.8569824536594937, 20.483564879037218),\n",
       " (0.059475756562587856, 7.796975137938677),\n",
       " (0.7216308439598431, 18.6698533090619),\n",
       " (0.5764858016861515, 10.72490974259443),\n",
       " (0.897292723469578, 16.023722494492347),\n",
       " (0.22953424222186758, 4.075758845773025),\n",
       " (0.13664683499085772, 3.8310675888774934)]"
      ]
     },
     "execution_count": 16,
     "metadata": {},
     "output_type": "execute_result"
    }
   ],
   "source": [
    "def model(X,y):\n",
    "    return [(Xi,yi) for Xi,yi in zip(X,y) ]\n",
    "model(X,y)"
   ]
  },
  {
   "cell_type": "code",
   "execution_count": 17,
   "metadata": {},
   "outputs": [],
   "source": [
    "from scipy.spatial.distance import cosine"
   ]
  },
  {
   "cell_type": "code",
   "execution_count": 18,
   "metadata": {},
   "outputs": [],
   "source": [
    "def distance(x1, x2):\n",
    "    return cosine(x1, x2)"
   ]
  },
  {
   "cell_type": "code",
   "execution_count": 19,
   "metadata": {},
   "outputs": [],
   "source": [
    "def knn(x,k=5):\n",
    "    similars = sorted(model(X,y), key=lambda xi:distance(xi[0],x))[:k]\n",
    "    y_hat = [_y for _x,_y in similars]\n",
    "    \n",
    "    return np.mean(y_hat)\n"
   ]
  },
  {
   "cell_type": "code",
   "execution_count": 20,
   "metadata": {},
   "outputs": [
    {
     "data": {
      "text/plain": [
       "11.275319972568862"
      ]
     },
     "execution_count": 20,
     "metadata": {},
     "output_type": "execute_result"
    }
   ],
   "source": [
    "knn(1)"
   ]
  },
  {
   "cell_type": "markdown",
   "metadata": {},
   "source": [
    "### Decision Tree"
   ]
  },
  {
   "cell_type": "code",
   "execution_count": 21,
   "metadata": {},
   "outputs": [],
   "source": [
    "from collections import Counter"
   ]
  },
  {
   "cell_type": "markdown",
   "metadata": {},
   "source": [
    "$$ Entropy = -\\sum_i^n Pr(x_i) log(Pr(x_i)) $$"
   ]
  },
  {
   "cell_type": "code",
   "execution_count": null,
   "metadata": {},
   "outputs": [],
   "source": []
  },
  {
   "cell_type": "code",
   "execution_count": 22,
   "metadata": {},
   "outputs": [],
   "source": [
    "from icecream import ic ## 调试用\n",
    "import numpy as np\n",
    "def entropy(elements):\n",
    "    counter = Counter(elements)  ## 计算每个数字个数\n",
    "    ## 计算信息熵的概率，概率为每个数字出现个数除以数字总数\n",
    "    probs=[counter[c]/len(elements) for c in set(elements)]## set 为了不重复\n",
    "    ic(probs)#打印变量\n",
    "    return -sum(p * np.log(p) for p in probs)\n",
    "\n",
    "\n"
   ]
  },
  {
   "cell_type": "code",
   "execution_count": 23,
   "metadata": {},
   "outputs": [
    {
     "name": "stderr",
     "output_type": "stream",
     "text": [
      "ic| probs: [1.0]\n"
     ]
    },
    {
     "data": {
      "text/plain": [
       "-0.0"
      ]
     },
     "execution_count": 23,
     "metadata": {},
     "output_type": "execute_result"
    }
   ],
   "source": [
    "entropy([1, 1, 1, 1])"
   ]
  },
  {
   "cell_type": "code",
   "execution_count": 24,
   "metadata": {},
   "outputs": [
    {
     "name": "stderr",
     "output_type": "stream",
     "text": [
      "ic| probs: [0.25, 0.75]\n"
     ]
    },
    {
     "data": {
      "text/plain": [
       "0.5623351446188083"
      ]
     },
     "execution_count": 24,
     "metadata": {},
     "output_type": "execute_result"
    }
   ],
   "source": [
    "entropy([3, 3, 3, 1])"
   ]
  },
  {
   "cell_type": "code",
   "execution_count": 25,
   "metadata": {},
   "outputs": [
    {
     "name": "stderr",
     "output_type": "stream",
     "text": [
      "ic| probs: [0.25, 0.75]\n"
     ]
    },
    {
     "data": {
      "text/plain": [
       "0.5623351446188083"
      ]
     },
     "execution_count": 25,
     "metadata": {},
     "output_type": "execute_result"
    }
   ],
   "source": [
    "entropy([2, 3, 3, 3])"
   ]
  },
  {
   "cell_type": "code",
   "execution_count": 26,
   "metadata": {
    "scrolled": false
   },
   "outputs": [
    {
     "name": "stderr",
     "output_type": "stream",
     "text": [
      "ic| probs: [0.25, 0.25, 0.25, 0.25]\n",
      "ic| Error: Failed to access the underlying source code for analysis. Was ic() invoked in an interpreter (e.g. python -i), a frozen application (e.g. packaged with PyInstaller), or did the underlying source code change during execution?\n"
     ]
    },
    {
     "data": {
      "text/plain": [
       "1.3862943611198906"
      ]
     },
     "execution_count": 26,
     "metadata": {},
     "output_type": "execute_result"
    }
   ],
   "source": [
    "from icecream import ic\n",
    "ic(entropy([1,2,3,4]))  ## 这里在pycharm里面没有报错，但是jupyter里面报错了，不知道为什么，结果是对的，只是打印有问题"
   ]
  },
  {
   "cell_type": "code",
   "execution_count": 27,
   "metadata": {},
   "outputs": [],
   "source": [
    "mock_data = {\n",
    "    'gender':['F', 'F', 'F', 'F', 'M', 'M', 'M'],\n",
    "    'income': ['+10', '-10', '+10', '+10', '+10', '+10', '-10'],\n",
    "    'family_number': [1, 1, 2, 1, 1, 1, 2],\n",
    "   # 'pet': [1, 1, 1, 0, 0, 0, 1],\n",
    "    'bought': [1, 1, 1, 0, 0, 0, 1],\n",
    "}"
   ]
  },
  {
   "cell_type": "code",
   "execution_count": 28,
   "metadata": {},
   "outputs": [],
   "source": [
    "import pandas as pd"
   ]
  },
  {
   "cell_type": "code",
   "execution_count": 29,
   "metadata": {},
   "outputs": [],
   "source": [
    "dataset = pd.DataFrame.from_dict(mock_data)"
   ]
  },
  {
   "cell_type": "code",
   "execution_count": 30,
   "metadata": {},
   "outputs": [
    {
     "data": {
      "text/html": [
       "<div>\n",
       "<style scoped>\n",
       "    .dataframe tbody tr th:only-of-type {\n",
       "        vertical-align: middle;\n",
       "    }\n",
       "\n",
       "    .dataframe tbody tr th {\n",
       "        vertical-align: top;\n",
       "    }\n",
       "\n",
       "    .dataframe thead th {\n",
       "        text-align: right;\n",
       "    }\n",
       "</style>\n",
       "<table border=\"1\" class=\"dataframe\">\n",
       "  <thead>\n",
       "    <tr style=\"text-align: right;\">\n",
       "      <th></th>\n",
       "      <th>gender</th>\n",
       "      <th>income</th>\n",
       "      <th>family_number</th>\n",
       "      <th>bought</th>\n",
       "    </tr>\n",
       "  </thead>\n",
       "  <tbody>\n",
       "    <tr>\n",
       "      <td>0</td>\n",
       "      <td>F</td>\n",
       "      <td>+10</td>\n",
       "      <td>1</td>\n",
       "      <td>1</td>\n",
       "    </tr>\n",
       "    <tr>\n",
       "      <td>1</td>\n",
       "      <td>F</td>\n",
       "      <td>-10</td>\n",
       "      <td>1</td>\n",
       "      <td>1</td>\n",
       "    </tr>\n",
       "    <tr>\n",
       "      <td>2</td>\n",
       "      <td>F</td>\n",
       "      <td>+10</td>\n",
       "      <td>2</td>\n",
       "      <td>1</td>\n",
       "    </tr>\n",
       "    <tr>\n",
       "      <td>3</td>\n",
       "      <td>F</td>\n",
       "      <td>+10</td>\n",
       "      <td>1</td>\n",
       "      <td>0</td>\n",
       "    </tr>\n",
       "    <tr>\n",
       "      <td>4</td>\n",
       "      <td>M</td>\n",
       "      <td>+10</td>\n",
       "      <td>1</td>\n",
       "      <td>0</td>\n",
       "    </tr>\n",
       "    <tr>\n",
       "      <td>5</td>\n",
       "      <td>M</td>\n",
       "      <td>+10</td>\n",
       "      <td>1</td>\n",
       "      <td>0</td>\n",
       "    </tr>\n",
       "    <tr>\n",
       "      <td>6</td>\n",
       "      <td>M</td>\n",
       "      <td>-10</td>\n",
       "      <td>2</td>\n",
       "      <td>1</td>\n",
       "    </tr>\n",
       "  </tbody>\n",
       "</table>\n",
       "</div>"
      ],
      "text/plain": [
       "  gender income  family_number  bought\n",
       "0      F    +10              1       1\n",
       "1      F    -10              1       1\n",
       "2      F    +10              2       1\n",
       "3      F    +10              1       0\n",
       "4      M    +10              1       0\n",
       "5      M    +10              1       0\n",
       "6      M    -10              2       1"
      ]
     },
     "execution_count": 30,
     "metadata": {},
     "output_type": "execute_result"
    }
   ],
   "source": [
    "dataset"
   ]
  },
  {
   "cell_type": "code",
   "execution_count": 31,
   "metadata": {},
   "outputs": [
    {
     "name": "stderr",
     "output_type": "stream",
     "text": [
      "ic| probs: [0.25, 0.75]\n",
      "ic| probs: [0.6666666666666666, 0.3333333333333333]\n",
      "ic| probs: [0.6, 0.4]\n",
      "ic| probs: [1.0]\n",
      "ic| probs: [0.6, 0.4]\n",
      "ic| probs: [1.0]\n",
      "ic| probs: [1.0]\n",
      "ic| probs: [1.0]\n"
     ]
    },
    {
     "name": "stdout",
     "output_type": "stream",
     "text": [
      "1.198849312913621\n",
      "0.6730116670092565\n",
      "0.6730116670092565\n",
      "-0.0\n"
     ]
    }
   ],
   "source": [
    "# split_by_gender: \n",
    "print(entropy([1, 1, 1, 0]) + entropy([0, 0, 1]))\n",
    "\n",
    "# split_by_income:\n",
    "print(entropy([1, 1, 0, 0, 0]) + entropy([1, 1]))\n",
    "\n",
    "# split_by_family_number\n",
    "print(entropy([1, 1, 0, 0, 0]) + entropy([1, 1]))\n",
    "\n",
    "# 我们最希望找到一种feature， split_by_some_feature: \n",
    "# split_by_pet\n",
    "print(entropy([1, 1, 1, 1]) + entropy([0, 0, 0]))"
   ]
  },
  {
   "cell_type": "code",
   "execution_count": 32,
   "metadata": {},
   "outputs": [
    {
     "data": {
      "text/plain": [
       "{'F', 'M'}"
      ]
     },
     "execution_count": 32,
     "metadata": {},
     "output_type": "execute_result"
    }
   ],
   "source": [
    "set(mock_data['gender'])"
   ]
  },
  {
   "cell_type": "code",
   "execution_count": 33,
   "metadata": {},
   "outputs": [],
   "source": [
    "# 把family member 为1 的特征提取出来"
   ]
  },
  {
   "cell_type": "code",
   "execution_count": 35,
   "metadata": {},
   "outputs": [
    {
     "data": {
      "text/plain": [
       "0     True\n",
       "1     True\n",
       "2    False\n",
       "3     True\n",
       "4     True\n",
       "5     True\n",
       "6    False\n",
       "Name: family_number, dtype: bool"
      ]
     },
     "execution_count": 35,
     "metadata": {},
     "output_type": "execute_result"
    }
   ],
   "source": [
    "dataset['family_number'] == 1"
   ]
  },
  {
   "cell_type": "code",
   "execution_count": 36,
   "metadata": {},
   "outputs": [
    {
     "data": {
      "text/plain": [
       "0    1\n",
       "1    1\n",
       "3    0\n",
       "4    0\n",
       "5    0\n",
       "Name: bought, dtype: int64"
      ]
     },
     "execution_count": 36,
     "metadata": {},
     "output_type": "execute_result"
    }
   ],
   "source": [
    "dataset[dataset['family_number'] == 1]['bought']"
   ]
  },
  {
   "cell_type": "code",
   "execution_count": 37,
   "metadata": {},
   "outputs": [
    {
     "data": {
      "text/plain": [
       "[1, 1, 0, 0, 0]"
      ]
     },
     "execution_count": 37,
     "metadata": {},
     "output_type": "execute_result"
    }
   ],
   "source": [
    "sub_split_1 = dataset[dataset['family_number'] == 1]['bought'].tolist()\n",
    "sub_split_1\n"
   ]
  },
  {
   "cell_type": "code",
   "execution_count": 38,
   "metadata": {},
   "outputs": [
    {
     "data": {
      "text/html": [
       "<div>\n",
       "<style scoped>\n",
       "    .dataframe tbody tr th:only-of-type {\n",
       "        vertical-align: middle;\n",
       "    }\n",
       "\n",
       "    .dataframe tbody tr th {\n",
       "        vertical-align: top;\n",
       "    }\n",
       "\n",
       "    .dataframe thead th {\n",
       "        text-align: right;\n",
       "    }\n",
       "</style>\n",
       "<table border=\"1\" class=\"dataframe\">\n",
       "  <thead>\n",
       "    <tr style=\"text-align: right;\">\n",
       "      <th></th>\n",
       "      <th>gender</th>\n",
       "      <th>income</th>\n",
       "      <th>family_number</th>\n",
       "      <th>bought</th>\n",
       "    </tr>\n",
       "  </thead>\n",
       "  <tbody>\n",
       "    <tr>\n",
       "      <td>0</td>\n",
       "      <td>F</td>\n",
       "      <td>+10</td>\n",
       "      <td>1</td>\n",
       "      <td>1</td>\n",
       "    </tr>\n",
       "    <tr>\n",
       "      <td>1</td>\n",
       "      <td>F</td>\n",
       "      <td>-10</td>\n",
       "      <td>1</td>\n",
       "      <td>1</td>\n",
       "    </tr>\n",
       "    <tr>\n",
       "      <td>3</td>\n",
       "      <td>F</td>\n",
       "      <td>+10</td>\n",
       "      <td>1</td>\n",
       "      <td>0</td>\n",
       "    </tr>\n",
       "    <tr>\n",
       "      <td>4</td>\n",
       "      <td>M</td>\n",
       "      <td>+10</td>\n",
       "      <td>1</td>\n",
       "      <td>0</td>\n",
       "    </tr>\n",
       "    <tr>\n",
       "      <td>5</td>\n",
       "      <td>M</td>\n",
       "      <td>+10</td>\n",
       "      <td>1</td>\n",
       "      <td>0</td>\n",
       "    </tr>\n",
       "  </tbody>\n",
       "</table>\n",
       "</div>"
      ],
      "text/plain": [
       "  gender income  family_number  bought\n",
       "0      F    +10              1       1\n",
       "1      F    -10              1       1\n",
       "3      F    +10              1       0\n",
       "4      M    +10              1       0\n",
       "5      M    +10              1       0"
      ]
     },
     "execution_count": 38,
     "metadata": {},
     "output_type": "execute_result"
    }
   ],
   "source": [
    "splited_data = dataset[dataset['family_number'] == 1]\n",
    "splited_data"
   ]
  },
  {
   "cell_type": "code",
   "execution_count": 39,
   "metadata": {},
   "outputs": [
    {
     "data": {
      "text/html": [
       "<div>\n",
       "<style scoped>\n",
       "    .dataframe tbody tr th:only-of-type {\n",
       "        vertical-align: middle;\n",
       "    }\n",
       "\n",
       "    .dataframe tbody tr th {\n",
       "        vertical-align: top;\n",
       "    }\n",
       "\n",
       "    .dataframe thead th {\n",
       "        text-align: right;\n",
       "    }\n",
       "</style>\n",
       "<table border=\"1\" class=\"dataframe\">\n",
       "  <thead>\n",
       "    <tr style=\"text-align: right;\">\n",
       "      <th></th>\n",
       "      <th>gender</th>\n",
       "      <th>income</th>\n",
       "      <th>family_number</th>\n",
       "      <th>bought</th>\n",
       "    </tr>\n",
       "  </thead>\n",
       "  <tbody>\n",
       "    <tr>\n",
       "      <td>0</td>\n",
       "      <td>F</td>\n",
       "      <td>+10</td>\n",
       "      <td>1</td>\n",
       "      <td>1</td>\n",
       "    </tr>\n",
       "    <tr>\n",
       "      <td>3</td>\n",
       "      <td>F</td>\n",
       "      <td>+10</td>\n",
       "      <td>1</td>\n",
       "      <td>0</td>\n",
       "    </tr>\n",
       "    <tr>\n",
       "      <td>4</td>\n",
       "      <td>M</td>\n",
       "      <td>+10</td>\n",
       "      <td>1</td>\n",
       "      <td>0</td>\n",
       "    </tr>\n",
       "    <tr>\n",
       "      <td>5</td>\n",
       "      <td>M</td>\n",
       "      <td>+10</td>\n",
       "      <td>1</td>\n",
       "      <td>0</td>\n",
       "    </tr>\n",
       "  </tbody>\n",
       "</table>\n",
       "</div>"
      ],
      "text/plain": [
       "  gender income  family_number  bought\n",
       "0      F    +10              1       1\n",
       "3      F    +10              1       0\n",
       "4      M    +10              1       0\n",
       "5      M    +10              1       0"
      ]
     },
     "execution_count": 39,
     "metadata": {},
     "output_type": "execute_result"
    }
   ],
   "source": [
    "# 在这个基础上把收入超过10k的人特征提取出来\n",
    "splited_data[splited_data['income'] == '+10']"
   ]
  },
  {
   "cell_type": "code",
   "execution_count": 40,
   "metadata": {},
   "outputs": [
    {
     "data": {
      "text/html": [
       "<div>\n",
       "<style scoped>\n",
       "    .dataframe tbody tr th:only-of-type {\n",
       "        vertical-align: middle;\n",
       "    }\n",
       "\n",
       "    .dataframe tbody tr th {\n",
       "        vertical-align: top;\n",
       "    }\n",
       "\n",
       "    .dataframe thead th {\n",
       "        text-align: right;\n",
       "    }\n",
       "</style>\n",
       "<table border=\"1\" class=\"dataframe\">\n",
       "  <thead>\n",
       "    <tr style=\"text-align: right;\">\n",
       "      <th></th>\n",
       "      <th>gender</th>\n",
       "      <th>income</th>\n",
       "      <th>family_number</th>\n",
       "      <th>bought</th>\n",
       "    </tr>\n",
       "  </thead>\n",
       "  <tbody>\n",
       "    <tr>\n",
       "      <td>1</td>\n",
       "      <td>F</td>\n",
       "      <td>-10</td>\n",
       "      <td>1</td>\n",
       "      <td>1</td>\n",
       "    </tr>\n",
       "  </tbody>\n",
       "</table>\n",
       "</div>"
      ],
      "text/plain": [
       "  gender income  family_number  bought\n",
       "1      F    -10              1       1"
      ]
     },
     "execution_count": 40,
     "metadata": {},
     "output_type": "execute_result"
    }
   ],
   "source": [
    "# 在这个基础上把收入低于10k的人特征提取出来\n",
    "splited_data[splited_data['income'] == '-10']"
   ]
  },
  {
   "cell_type": "code",
   "execution_count": 41,
   "metadata": {},
   "outputs": [
    {
     "name": "stderr",
     "output_type": "stream",
     "text": [
      "ic| probs: [0.6, 0.4]\n",
      "ic| probs: [1.0]\n"
     ]
    },
    {
     "data": {
      "text/plain": [
       "0.6730116670092565"
      ]
     },
     "execution_count": 41,
     "metadata": {},
     "output_type": "execute_result"
    }
   ],
   "source": [
    "sub_split_2 = dataset[dataset['family_number'] != 1]['bought'].tolist()\n",
    "\n",
    "# 观察按家庭成员人数分割以后数据熵的情况，寻找数据熵最少的分割特征\n",
    "entropy(sub_split_1) + entropy(sub_split_2)"
   ]
  },
  {
   "cell_type": "code",
   "execution_count": 42,
   "metadata": {},
   "outputs": [
    {
     "data": {
      "text/plain": [
       "[0, 0, 1]"
      ]
     },
     "execution_count": 42,
     "metadata": {},
     "output_type": "execute_result"
    }
   ],
   "source": [
    "# 观察按性别分割以后数据熵的情况，寻找数据熵最少的分割特征\n",
    "_sub_split_1 = dataset[dataset[\"gender\"] == \"M\"][\"bought\"].tolist()\n",
    "_sub_split_1"
   ]
  },
  {
   "cell_type": "code",
   "execution_count": 43,
   "metadata": {},
   "outputs": [
    {
     "data": {
      "text/plain": [
       "[1, 1, 1, 0]"
      ]
     },
     "execution_count": 43,
     "metadata": {},
     "output_type": "execute_result"
    }
   ],
   "source": [
    "_sub_split_2 = dataset[dataset[\"gender\"] == \"F\"][\"bought\"].tolist()\n",
    "_sub_split_2"
   ]
  },
  {
   "cell_type": "code",
   "execution_count": 44,
   "metadata": {},
   "outputs": [
    {
     "name": "stderr",
     "output_type": "stream",
     "text": [
      "ic| probs: [0.6666666666666666, 0.3333333333333333]\n",
      "ic| probs: [0.25, 0.75]\n"
     ]
    },
    {
     "data": {
      "text/plain": [
       "1.198849312913621"
      ]
     },
     "execution_count": 44,
     "metadata": {},
     "output_type": "execute_result"
    }
   ],
   "source": [
    "entropy(_sub_split_1) + entropy(_sub_split_2)"
   ]
  },
  {
   "cell_type": "code",
   "execution_count": 45,
   "metadata": {},
   "outputs": [
    {
     "name": "stderr",
     "output_type": "stream",
     "text": [
      "ic| probs: [0.6, 0.4]\n",
      "ic| probs: [1.0]\n"
     ]
    },
    {
     "data": {
      "text/plain": [
       "0.6730116670092565"
      ]
     },
     "execution_count": 45,
     "metadata": {},
     "output_type": "execute_result"
    }
   ],
   "source": [
    "entropy(sub_split_1) + entropy(sub_split_2)"
   ]
  },
  {
   "cell_type": "code",
   "execution_count": 46,
   "metadata": {},
   "outputs": [],
   "source": [
    "#从上面这个过程可以看出，按照性别分数据熵比较大，所以更倾向于用家庭成员的特征来分割\n"
   ]
  },
  {
   "cell_type": "code",
   "execution_count": 47,
   "metadata": {},
   "outputs": [
    {
     "data": {
      "text/plain": [
       "{'family_number', 'gender', 'income'}"
      ]
     },
     "execution_count": 47,
     "metadata": {},
     "output_type": "execute_result"
    }
   ],
   "source": [
    "set(dataset.columns.to_list())-{'bought'}\n",
    "#这是一个把某特征去掉的操作"
   ]
  },
  {
   "cell_type": "code",
   "execution_count": 55,
   "metadata": {},
   "outputs": [],
   "source": [
    "#下面这个函数的目的是计算所有特征中数据熵最少的\n",
    "def find_the_optimal_spilter(training_data: pd.DataFrame, target: str):\n",
    "    features = set(dataset.columns.to_list())-{target}\n",
    "    split = None\n",
    "    entropy_min = float('inf') # 求最小值，要初始化最大值\n",
    "    \n",
    "    for feature in features:\n",
    "        ic(feature)\n",
    "        values = set(training_data[feature])\n",
    "        \n",
    "        for value in values:\n",
    "            ic(value)\n",
    "            split_1 = training_data[training_data[feature] == value][target].tolist()\n",
    "            ic(split_1)\n",
    "            split_2 = training_data[training_data[feature] != value][target].tolist()\n",
    "            ic(split_2)\n",
    "            \n",
    "            entropy_add = entropy(split_1)+entropy(split_2)\n",
    "            ic(entropy_add)\n",
    "    \n",
    "            if entropy_add<= entropy_min:\n",
    "                entropy_min = entropy_add\n",
    "                split = (feature,value)\n",
    "                \n",
    "        ic(split)\n",
    "        ic(entropy_min)\n",
    "    return split"
   ]
  },
  {
   "cell_type": "code",
   "execution_count": 66,
   "metadata": {},
   "outputs": [
    {
     "name": "stderr",
     "output_type": "stream",
     "text": [
      "ic| feature: 'gender'\n",
      "ic| value: 'F'\n",
      "ic| split_1: [1, 1, 1, 0]\n",
      "ic| split_2: [0, 0, 1]\n",
      "ic| probs: [0.25, 0.75]\n",
      "ic| probs: [0.6666666666666666, 0.3333333333333333]\n",
      "ic| entropy_add: 1.198849312913621\n",
      "ic| value: 'M'\n",
      "ic| split_1: [0, 0, 1]\n",
      "ic| split_2: [1, 1, 1, 0]\n",
      "ic| probs: [0.6666666666666666, 0.3333333333333333]\n",
      "ic| probs: [0.25, 0.75]\n",
      "ic| entropy_add: 1.198849312913621\n",
      "ic| split: ('gender', 'M')\n",
      "ic| entropy_min: 1.198849312913621\n",
      "ic| feature: 'family_number'\n",
      "ic| value: 1\n",
      "ic| split_1: [1, 1, 0, 0, 0]\n",
      "ic| split_2: [1, 1]\n",
      "ic| probs: [0.6, 0.4]\n",
      "ic| probs: [1.0]\n",
      "ic| entropy_add: 0.6730116670092565\n",
      "ic| value: 2\n",
      "ic| split_1: [1, 1]\n",
      "ic| split_2: [1, 1, 0, 0, 0]\n",
      "ic| probs: [1.0]\n",
      "ic| probs: [0.6, 0.4]\n",
      "ic| entropy_add: 0.6730116670092565\n",
      "ic| split: ('family_number', 2)\n",
      "ic| entropy_min: 0.6730116670092565\n",
      "ic| feature: 'income'\n",
      "ic| value: '-10'\n",
      "ic| split_1: [1, 1]\n",
      "ic| split_2: [1, 1, 0, 0, 0]\n",
      "ic| probs: [1.0]\n",
      "ic| probs: [0.6, 0.4]\n",
      "ic| entropy_add: 0.6730116670092565\n",
      "ic| value: '+10'\n",
      "ic| split_1: [1, 1, 0, 0, 0]\n",
      "ic| split_2: [1, 1]\n",
      "ic| probs: [0.6, 0.4]\n",
      "ic| probs: [1.0]\n",
      "ic| entropy_add: 0.6730116670092565\n",
      "ic| split: ('income', '+10')\n",
      "ic| entropy_min: 0.6730116670092565\n",
      "ic| feature: 'pet'\n",
      "ic| value: 0\n",
      "ic| split_1: [0, 0, 0]\n",
      "ic| split_2: [1, 1, 1, 1]\n",
      "ic| probs: [1.0]\n",
      "ic| probs: [1.0]\n",
      "ic| entropy_add: -0.0\n",
      "ic| value: 1\n",
      "ic| split_1: [1, 1, 1, 1]\n",
      "ic| split_2: [0, 0, 0]\n",
      "ic| probs: [1.0]\n",
      "ic| probs: [1.0]\n",
      "ic| entropy_add: -0.0\n",
      "ic| split: ('pet', 1)\n",
      "ic| entropy_min: -0.0\n"
     ]
    },
    {
     "data": {
      "text/plain": [
       "('pet', 1)"
      ]
     },
     "execution_count": 66,
     "metadata": {},
     "output_type": "execute_result"
    }
   ],
   "source": [
    "mock_data = {\n",
    "    'gender':['F', 'F', 'F', 'F', 'M', 'M', 'M'],\n",
    "    'income': ['+10', '-10', '+10', '+10', '+10', '+10', '-10'],\n",
    "    'family_number': [1, 1, 2, 1, 1, 1, 2],\n",
    "    'pet': [1, 1, 1, 0, 0, 0, 1],\n",
    "    'bought': [1, 1, 1, 0, 0, 0, 1],\n",
    "}\n",
    "dataset = pd.DataFrame.from_dict(mock_data)\n",
    "find_the_optimal_spilter(training_data=dataset, target='bought')"
   ]
  },
  {
   "cell_type": "code",
   "execution_count": 72,
   "metadata": {},
   "outputs": [],
   "source": [
    "dataset.drop('pet',axis=1,inplace=True)"
   ]
  },
  {
   "cell_type": "code",
   "execution_count": 73,
   "metadata": {},
   "outputs": [
    {
     "name": "stderr",
     "output_type": "stream",
     "text": [
      "ic| feature: 'gender'\n",
      "ic| value: 'F'\n",
      "ic| split_1: [1, 1, 1, 0]\n",
      "ic| split_2: [0, 0, 1]\n",
      "ic| probs: [0.25, 0.75]\n",
      "ic| probs: [0.6666666666666666, 0.3333333333333333]\n",
      "ic| entropy_add: 1.198849312913621\n",
      "ic| value: 'M'\n",
      "ic| split_1: [0, 0, 1]\n",
      "ic| split_2: [1, 1, 1, 0]\n",
      "ic| probs: [0.6666666666666666, 0.3333333333333333]\n",
      "ic| probs: [0.25, 0.75]\n",
      "ic| entropy_add: 1.198849312913621\n",
      "ic| split: ('gender', 'M')\n",
      "ic| entropy_min: 1.198849312913621\n",
      "ic| feature: 'family_number'\n",
      "ic| value: 1\n",
      "ic| split_1: [1, 1, 0, 0, 0]\n",
      "ic| split_2: [1, 1]\n",
      "ic| probs: [0.6, 0.4]\n",
      "ic| probs: [1.0]\n",
      "ic| entropy_add: 0.6730116670092565\n",
      "ic| value: 2\n",
      "ic| split_1: [1, 1]\n",
      "ic| split_2: [1, 1, 0, 0, 0]\n",
      "ic| probs: [1.0]\n",
      "ic| probs: [0.6, 0.4]\n",
      "ic| entropy_add: 0.6730116670092565\n",
      "ic| split: ('family_number', 2)\n",
      "ic| entropy_min: 0.6730116670092565\n",
      "ic| feature: 'income'\n",
      "ic| value: '-10'\n",
      "ic| split_1: [1, 1]\n",
      "ic| split_2: [1, 1, 0, 0, 0]\n",
      "ic| probs: [1.0]\n",
      "ic| probs: [0.6, 0.4]\n",
      "ic| entropy_add: 0.6730116670092565\n",
      "ic| value: '+10'\n",
      "ic| split_1: [1, 1, 0, 0, 0]\n",
      "ic| split_2: [1, 1]\n",
      "ic| probs: [0.6, 0.4]\n",
      "ic| probs: [1.0]\n",
      "ic| entropy_add: 0.6730116670092565\n",
      "ic| split: ('income', '+10')\n",
      "ic| entropy_min: 0.6730116670092565\n"
     ]
    },
    {
     "data": {
      "text/plain": [
       "('income', '+10')"
      ]
     },
     "execution_count": 73,
     "metadata": {},
     "output_type": "execute_result"
    }
   ],
   "source": [
    "find_the_optimal_spilter(dataset, 'bought')"
   ]
  },
  {
   "cell_type": "code",
   "execution_count": 75,
   "metadata": {},
   "outputs": [
    {
     "data": {
      "text/html": [
       "<div>\n",
       "<style scoped>\n",
       "    .dataframe tbody tr th:only-of-type {\n",
       "        vertical-align: middle;\n",
       "    }\n",
       "\n",
       "    .dataframe tbody tr th {\n",
       "        vertical-align: top;\n",
       "    }\n",
       "\n",
       "    .dataframe thead th {\n",
       "        text-align: right;\n",
       "    }\n",
       "</style>\n",
       "<table border=\"1\" class=\"dataframe\">\n",
       "  <thead>\n",
       "    <tr style=\"text-align: right;\">\n",
       "      <th></th>\n",
       "      <th>gender</th>\n",
       "      <th>income</th>\n",
       "      <th>family_number</th>\n",
       "      <th>bought</th>\n",
       "    </tr>\n",
       "  </thead>\n",
       "  <tbody>\n",
       "    <tr>\n",
       "      <td>0</td>\n",
       "      <td>F</td>\n",
       "      <td>+10</td>\n",
       "      <td>1</td>\n",
       "      <td>1</td>\n",
       "    </tr>\n",
       "    <tr>\n",
       "      <td>3</td>\n",
       "      <td>F</td>\n",
       "      <td>+10</td>\n",
       "      <td>1</td>\n",
       "      <td>0</td>\n",
       "    </tr>\n",
       "    <tr>\n",
       "      <td>4</td>\n",
       "      <td>M</td>\n",
       "      <td>+10</td>\n",
       "      <td>1</td>\n",
       "      <td>0</td>\n",
       "    </tr>\n",
       "    <tr>\n",
       "      <td>5</td>\n",
       "      <td>M</td>\n",
       "      <td>+10</td>\n",
       "      <td>1</td>\n",
       "      <td>0</td>\n",
       "    </tr>\n",
       "  </tbody>\n",
       "</table>\n",
       "</div>"
      ],
      "text/plain": [
       "  gender income  family_number  bought\n",
       "0      F    +10              1       1\n",
       "3      F    +10              1       0\n",
       "4      M    +10              1       0\n",
       "5      M    +10              1       0"
      ]
     },
     "execution_count": 75,
     "metadata": {},
     "output_type": "execute_result"
    }
   ],
   "source": [
    "#验证家庭成员为1，分完以后再按照收入分的熵是不是正确\n",
    "fm_n_1 = dataset[dataset['family_number'] == 1]\n",
    "fm_n_1[fm_n_1['income'] == '+10']"
   ]
  },
  {
   "cell_type": "code",
   "execution_count": 76,
   "metadata": {},
   "outputs": [
    {
     "name": "stderr",
     "output_type": "stream",
     "text": [
      "ic| probs: [0.5, 0.5]\n",
      "ic| probs: [1.0]\n",
      "ic| probs: [0.75, 0.25]\n"
     ]
    },
    {
     "name": "stdout",
     "output_type": "stream",
     "text": [
      "0.6931471805599453\n",
      "0.5623351446188083\n"
     ]
    }
   ],
   "source": [
    "# split_gender \n",
    "print(entropy([1, 0]) + entropy([0, 0]))\n",
    "\n",
    "# split_family_number\n",
    "print(entropy([1, 0, 0, 0]))"
   ]
  },
  {
   "cell_type": "code",
   "execution_count": 77,
   "metadata": {},
   "outputs": [
    {
     "name": "stderr",
     "output_type": "stream",
     "text": [
      "ic| feature: 'gender'\n",
      "ic| value: 'F'\n",
      "ic| split_1: [1, 0]\n",
      "ic| split_2: [0, 0]\n",
      "ic| probs: [0.5, 0.5]\n",
      "ic| probs: [1.0]\n",
      "ic| entropy_add: 0.6931471805599453\n",
      "ic| value: 'M'\n",
      "ic| split_1: [0, 0]\n",
      "ic| split_2: [1, 0]\n",
      "ic| probs: [1.0]\n",
      "ic| probs: [0.5, 0.5]\n",
      "ic| entropy_add: 0.6931471805599453\n",
      "ic| split: ('gender', 'M')\n",
      "ic| entropy_min: 0.6931471805599453\n",
      "ic| feature: 'family_number'\n",
      "ic| value: 1\n",
      "ic| split_1: [1, 0, 0, 0]\n",
      "ic| split_2: []\n",
      "ic| probs: [0.75, 0.25]\n",
      "ic| probs: []\n",
      "ic| entropy_add: 0.5623351446188083\n",
      "ic| split: ('family_number', 1)\n",
      "ic| entropy_min: 0.5623351446188083\n",
      "ic| feature: 'income'\n",
      "ic| value: '+10'\n",
      "ic| split_1: [1, 0, 0, 0]\n",
      "ic| split_2: []\n",
      "ic| probs: [0.75, 0.25]\n",
      "ic| probs: []\n",
      "ic| entropy_add: 0.5623351446188083\n",
      "ic| split: ('income', '+10')\n",
      "ic| entropy_min: 0.5623351446188083\n"
     ]
    },
    {
     "data": {
      "text/plain": [
       "('income', '+10')"
      ]
     },
     "execution_count": 77,
     "metadata": {},
     "output_type": "execute_result"
    }
   ],
   "source": [
    "find_the_optimal_spilter(fm_n_1[fm_n_1['income'] == '+10'], 'bought')"
   ]
  },
  {
   "cell_type": "markdown",
   "metadata": {},
   "source": [
    "### KMeans"
   ]
  },
  {
   "cell_type": "code",
   "execution_count": 78,
   "metadata": {},
   "outputs": [],
   "source": [
    "from sklearn.cluster import KMeans"
   ]
  },
  {
   "cell_type": "code",
   "execution_count": 81,
   "metadata": {},
   "outputs": [],
   "source": [
    "x1 = [random.randint(0,100) for x in range(100)]\n",
    "y1 = [random.randint(0,100) for y in range(100)]"
   ]
  },
  {
   "cell_type": "code",
   "execution_count": 84,
   "metadata": {},
   "outputs": [],
   "source": [
    "data = [(x1,y1) for x1,y1 in zip(x1,y1)]"
   ]
  },
  {
   "cell_type": "code",
   "execution_count": 86,
   "metadata": {},
   "outputs": [
    {
     "data": {
      "text/plain": [
       "[(69, 72), (67, 79), (41, 14)]"
      ]
     },
     "execution_count": 86,
     "metadata": {},
     "output_type": "execute_result"
    }
   ],
   "source": [
    "data[:3]"
   ]
  },
  {
   "cell_type": "code",
   "execution_count": 87,
   "metadata": {},
   "outputs": [],
   "source": [
    "cluster = KMeans(n_clusters=6, max_iter=500)"
   ]
  },
  {
   "cell_type": "code",
   "execution_count": 88,
   "metadata": {},
   "outputs": [
    {
     "data": {
      "text/plain": [
       "KMeans(algorithm='auto', copy_x=True, init='k-means++', max_iter=500,\n",
       "       n_clusters=6, n_init=10, n_jobs=None, precompute_distances='auto',\n",
       "       random_state=None, tol=0.0001, verbose=0)"
      ]
     },
     "execution_count": 88,
     "metadata": {},
     "output_type": "execute_result"
    }
   ],
   "source": [
    "cluster.fit(data)"
   ]
  },
  {
   "cell_type": "code",
   "execution_count": 89,
   "metadata": {},
   "outputs": [
    {
     "data": {
      "text/plain": [
       "array([[33.28571429, 83.9047619 ],\n",
       "       [43.27272727,  9.27272727],\n",
       "       [75.75      , 71.125     ],\n",
       "       [87.33333333, 12.08333333],\n",
       "       [54.07142857, 41.42857143],\n",
       "       [13.16666667, 39.16666667]])"
      ]
     },
     "execution_count": 89,
     "metadata": {},
     "output_type": "execute_result"
    }
   ],
   "source": [
    "cluster.cluster_centers_"
   ]
  },
  {
   "cell_type": "code",
   "execution_count": 90,
   "metadata": {},
   "outputs": [
    {
     "data": {
      "text/plain": [
       "array([2, 2, 1, 4, 2, 0, 0, 0, 1, 5, 5, 1, 0, 1, 4, 3, 5, 2, 5, 2, 1, 0,\n",
       "       5, 5, 5, 5, 0, 0, 3, 5, 3, 3, 2, 2, 5, 0, 2, 1, 1, 2, 1, 4, 3, 4,\n",
       "       2, 3, 2, 2, 0, 0, 4, 0, 4, 2, 2, 2, 1, 3, 4, 3, 0, 2, 2, 4, 5, 2,\n",
       "       1, 0, 0, 4, 0, 2, 2, 4, 4, 5, 3, 3, 1, 4, 5, 2, 0, 3, 0, 2, 0, 5,\n",
       "       3, 2, 4, 5, 4, 0, 0, 5, 0, 5, 5, 2], dtype=int32)"
      ]
     },
     "execution_count": 90,
     "metadata": {},
     "output_type": "execute_result"
    }
   ],
   "source": [
    "cluster.labels_"
   ]
  },
  {
   "cell_type": "code",
   "execution_count": 93,
   "metadata": {},
   "outputs": [],
   "source": [
    "from collections import defaultdict\n",
    "\n",
    "centers = defaultdict(list)\n",
    "for label, location in zip(cluster.labels_, data):\n",
    "    centers[label].append(location)\n"
   ]
  },
  {
   "cell_type": "code",
   "execution_count": 97,
   "metadata": {},
   "outputs": [
    {
     "data": {
      "image/png": "[encoded data removed]",
      "text/plain": [
       "<Figure size 432x288 with 1 Axes>"
      ]
     },
     "metadata": {
      "needs_background": "light"
     },
     "output_type": "display_data"
    }
   ],
   "source": [
    "color = ['red', 'green', 'grey', 'black', 'yellow', 'orange']\n",
    "\n",
    "for i,c in enumerate(centers):\n",
    "    for loca in centers[c]:\n",
    "        plt.scatter(*loca, c=color[i])\n",
    "\n",
    "\n",
    "for center in cluster.cluster_centers_:\n",
    "    plt.scatter(*center, s=100)"
   ]
  },
  {
   "cell_type": "code",
   "execution_count": 100,
   "metadata": {},
   "outputs": [],
   "source": [
    "#KNN是分类算法\n",
    "#Kmeans是聚类算法\n"
   ]
  },
  {
   "cell_type": "code",
   "execution_count": null,
   "metadata": {},
   "outputs": [],
   "source": []
  }
 ],
 "metadata": {
  "kernelspec": {
   "display_name": "Python 3",
   "language": "python",
   "name": "python3"
  },
  "language_info": {
   "codemirror_mode": {
    "name": "ipython",
    "version": 3
   },
   "file_extension": ".py",
   "mimetype": "text/x-python",
   "name": "python",
   "nbconvert_exporter": "python",
   "pygments_lexer": "ipython3",
   "version": "3.7.4"
  }
 },
 "nbformat": 4,
 "nbformat_minor": 2
}
