{
 "cells": [
  {
   "cell_type": "markdown",
   "metadata": {},
   "source": [
    "## Assignment-03 First Step of Machine Learning: Model and Evaluation"
   ]
  },
  {
   "cell_type": "markdown",
   "metadata": {},
   "source": [
    "同学们，今天我们的学习了基本的机器学习概念，相比你已经对机器学习的这些方法有一个基本的认识了。值得说明的是，机器学习不仅仅是一系列方法，更重要的是一种思维体系，即：依据以往的、现有的数据，构建某种方法来解决未见过的问题。而且决策树，贝叶斯只是实现这个目标的一个方法，包括之后的神经网络。很有可能有一天，神经网络也会被淘汰，但是重要的是我们要理解机器学习的目标，就是尽可能的自动化解决未知的问题。"
   ]
  },
  {
   "cell_type": "markdown",
   "metadata": {},
   "source": [
    "![](https://timgsa.baidu.com/timg?image&quality=80&size=b9999_10000&sec=1571556399207&di=4a97dc15ad08dd49d3748d1edf6109b3&imgtype=0&src=http%3A%2F%2Fc.hiphotos.baidu.com%2Fzhidao%2Fwh%3D450%2C600%2Fsign%3Dae742c6aedcd7b89e93932873a146e91%2F5d6034a85edf8db1b16050c40223dd54574e74c7.jpg)"
   ]
  },
  {
   "cell_type": "markdown",
   "metadata": {},
   "source": [
    "## Part-1 Programming Review 编程回顾"
   ]
  },
  {
   "cell_type": "markdown",
   "metadata": {},
   "source": [
    "#### 1. Re-code the Linear-Regression Model using scikit-learning(10 points)"
   ]
  },
  {
   "cell_type": "markdown",
   "metadata": {},
   "source": [
    "<评阅点>： \n",
    "> + 是否完成线性回归模型 (4')\n",
    "+ 能够进行预测新数据(3')\n",
    "+ 能够进行可视化操作(3')"
   ]
  },
  {
   "cell_type": "code",
   "execution_count": 2,
   "metadata": {},
   "outputs": [],
   "source": [
    "# you code here\n",
    "# 见另一个文件"
   ]
  },
  {
   "cell_type": "markdown",
   "metadata": {},
   "source": [
    "#### 2. Complete the unfinished KNN Model using pure python to solve the previous Line-Regression problem. (8 points)"
   ]
  },
  {
   "cell_type": "markdown",
   "metadata": {},
   "source": [
    "<评阅点>:\n",
    "> + 是否完成了KNN模型 (4')\n",
    "+ 是否能够预测新的数据 (4')"
   ]
  },
  {
   "cell_type": "code",
   "execution_count": 2,
   "metadata": {},
   "outputs": [],
   "source": [
    "# you code here"
   ]
  },
  {
   "cell_type": "markdown",
   "metadata": {},
   "source": [
    "#### 3. Re-code the Decision Tree, which could sort the features by salience. (12 points)"
   ]
  },
  {
   "cell_type": "markdown",
   "metadata": {},
   "source": [
    "<评阅点>\n",
    "> + 是否实现了信息熵 (1' )\n",
    "+ 是否实现了最优先特征点的选择(5')\n",
    "+ 是否实现了持续的特征选则(6')"
   ]
  },
  {
   "cell_type": "code",
   "execution_count": 3,
   "metadata": {},
   "outputs": [],
   "source": [
    "# you code here"
   ]
  },
  {
   "cell_type": "markdown",
   "metadata": {},
   "source": [
    "#### 4. Finish the K-Means using 2-D matplotlib (8 points)"
   ]
  },
  {
   "cell_type": "markdown",
   "metadata": {},
   "source": [
    "<评阅点>\n",
    "> + 是否完成了KMeans模型，基于scikit-learning (3')\n",
    "+ 是否完成了可视化任务（5'）"
   ]
  },
  {
   "cell_type": "markdown",
   "metadata": {},
   "source": [
    "## Part-2 Question and Answer 问答"
   ]
  },
  {
   "cell_type": "markdown",
   "metadata": {},
   "source": [
    "#### 1. What's the *model*? why  all the models are wrong, but some are useful? (5 points) "
   ]
  },
  {
   "cell_type": "markdown",
   "metadata": {},
   "source": [
    "Ans: Model means target functions that maps input variables (X) to an output variable (Y). We can not find a function to fit all the data and make the right predictions. But some functions can have a better performance which can be used to solve specific predictions problems."
   ]
  },
  {
   "cell_type": "markdown",
   "metadata": {},
   "source": [
    "<评阅点>\n",
    "> + 对模型的理解是否正确,对模型的抽象性是否正确(5')"
   ]
  },
  {
   "cell_type": "markdown",
   "metadata": {},
   "source": [
    "#### 2. What's the underfitting and overfitting? List the reasons that could make model overfitting or underfitting. (10 points)"
   ]
  },
  {
   "cell_type": "markdown",
   "metadata": {},
   "source": [
    "Ans: Overfitting refers to a model that models the training data too well.\n",
    "\n",
    "Overfitting happens when a model learns the detail and noise in the training data to the extent that it negatively impacts the performance of the model on new data. This means that the noise or random fluctuations in the training data is picked up and learned as concepts by the model. The problem is that these concepts do not apply to new data and negatively impact the models ability to generalize.\n",
    "\n",
    "Overfitting is more likely with nonparametric and nonlinear models that have more flexibility when learning a target function. As such, many nonparametric machine learning algorithms also include parameters or techniques to limit and constrain how much detail the model learns.\n",
    "\n",
    "Underfitting refers to a model that can neither model the training data nor generalize to new data.\n",
    "\n",
    "Underfitting happens when a model can not learn the detail well and miss some important features."
   ]
  },
  {
   "cell_type": "markdown",
   "metadata": {},
   "source": [
    "<评阅点>\n",
    "> + 对过拟合和欠拟合的理解是否正确 (3')\n",
    "+ 对欠拟合产生的原因是否理解正确(2')\n",
    "+ 对过拟合产生的原因是否理解正确(5')"
   ]
  },
  {
   "cell_type": "markdown",
   "metadata": {},
   "source": [
    "#### 3. What's the precision, recall, AUC, F1, F2score. What are they mainly target on? (12')"
   ]
  },
  {
   "cell_type": "markdown",
   "metadata": {},
   "source": [
    "Ans: Recall is the Ratio of the correct predictions and the total number of correct items in the set. It is expressed as % of the total correct(positive) items correctly predicted by the model. \n",
    "\n",
    "Precision is measured over the total predictions of the model. It is the ratio between the correct predictions and the total predictions.\n",
    "\n",
    "Unlike precision-recall curves, ROC (Receiver Operator Characteristic) curves work best for balanced data sets such as ours. Briefly, AUC is the area under the ROC curve that represents the tradeoff between Recall (TPR) and Specificity (FPR). \n",
    "\n",
    "F1，F2 score： It combines precision and recall into one metric by calculating the harmonic mean between those two.\n",
    "\n",
    "Recall is the opposite of precision, it measures false negatives against true positives. False negatives are especially important to prevent in disease detection and other predictions involving safety.\n",
    "\n",
    "F1-score is a balanced metric that appropriately quantifies the correctness of models across many domains."
   ]
  },
  {
   "cell_type": "markdown",
   "metadata": {},
   "source": [
    "<评阅点>\n",
    "> + 对precision, recall, AUC, F1, F2 理解是否正确(6‘)\n",
    "+ 对precision, recall, AUC, F1, F2的使用侧重点是否理解正确 (6’)"
   ]
  },
  {
   "cell_type": "markdown",
   "metadata": {},
   "source": [
    "#### 4. Based on our course and yourself mind, what's the machine learning?  (8')"
   ]
  },
  {
   "cell_type": "markdown",
   "metadata": {},
   "source": [
    "Ans: Machine learning is using data to approximate a target function (f) that maps input variables (X) to an output variable (Y). We dont need to calculate the function by ourselves, we can converge a loss function to find the target function."
   ]
  },
  {
   "cell_type": "markdown",
   "metadata": {},
   "source": [
    "<评阅点> 开放式问题，是否能说出来机器学习这种思维方式和传统的分析式编程的区别（8'）"
   ]
  },
  {
   "cell_type": "markdown",
   "metadata": {},
   "source": [
    "#### 5. \"正确定义了机器学习模型的评价标准(evaluation)， 问题基本上就已经解决一半\". 这句话是否正确？你是怎么看待的？ (8‘)"
   ]
  },
  {
   "cell_type": "markdown",
   "metadata": {},
   "source": [
    "<评阅点> 开放式问题，主要看能理解评价指标对机器学习模型的重要性."
   ]
  },
  {
   "cell_type": "markdown",
   "metadata": {},
   "source": [
    "Evaluation for machine learning is to evaluate the target funtion. A suitable evaluation can help us to find the suitable target function and get the expected results."
   ]
  },
  {
   "cell_type": "markdown",
   "metadata": {},
   "source": [
    "## Part-03 Programming Practice 编程练习"
   ]
  },
  {
   "cell_type": "markdown",
   "metadata": {},
   "source": [
    "1. In our course and previous practice, we complete some importance components of Decision Tree. In this problem, you need to build a **completed** Decision Tree Model. You show finish a `predicate()` function, which accepts three parameters **<gender, income, family_number>**, and outputs the predicated 'bought': 1 or 0.  (20 points)"
   ]
  },
  {
   "cell_type": "code",
   "execution_count": 1,
   "metadata": {},
   "outputs": [
    {
     "data": {
      "text/html": [
       "<div>\n",
       "<style scoped>\n",
       "    .dataframe tbody tr th:only-of-type {\n",
       "        vertical-align: middle;\n",
       "    }\n",
       "\n",
       "    .dataframe tbody tr th {\n",
       "        vertical-align: top;\n",
       "    }\n",
       "\n",
       "    .dataframe thead th {\n",
       "        text-align: right;\n",
       "    }\n",
       "</style>\n",
       "<table border=\"1\" class=\"dataframe\">\n",
       "  <thead>\n",
       "    <tr style=\"text-align: right;\">\n",
       "      <th></th>\n",
       "      <th>gender</th>\n",
       "      <th>income</th>\n",
       "      <th>family_number</th>\n",
       "      <th>bought</th>\n",
       "    </tr>\n",
       "  </thead>\n",
       "  <tbody>\n",
       "    <tr>\n",
       "      <td>0</td>\n",
       "      <td>F</td>\n",
       "      <td>+10</td>\n",
       "      <td>1</td>\n",
       "      <td>1</td>\n",
       "    </tr>\n",
       "    <tr>\n",
       "      <td>1</td>\n",
       "      <td>F</td>\n",
       "      <td>-10</td>\n",
       "      <td>1</td>\n",
       "      <td>1</td>\n",
       "    </tr>\n",
       "    <tr>\n",
       "      <td>2</td>\n",
       "      <td>F</td>\n",
       "      <td>+10</td>\n",
       "      <td>2</td>\n",
       "      <td>1</td>\n",
       "    </tr>\n",
       "    <tr>\n",
       "      <td>3</td>\n",
       "      <td>F</td>\n",
       "      <td>+10</td>\n",
       "      <td>1</td>\n",
       "      <td>0</td>\n",
       "    </tr>\n",
       "    <tr>\n",
       "      <td>4</td>\n",
       "      <td>M</td>\n",
       "      <td>+10</td>\n",
       "      <td>1</td>\n",
       "      <td>0</td>\n",
       "    </tr>\n",
       "    <tr>\n",
       "      <td>5</td>\n",
       "      <td>M</td>\n",
       "      <td>+10</td>\n",
       "      <td>1</td>\n",
       "      <td>0</td>\n",
       "    </tr>\n",
       "    <tr>\n",
       "      <td>6</td>\n",
       "      <td>M</td>\n",
       "      <td>-10</td>\n",
       "      <td>2</td>\n",
       "      <td>1</td>\n",
       "    </tr>\n",
       "  </tbody>\n",
       "</table>\n",
       "</div>"
      ],
      "text/plain": [
       "  gender income  family_number  bought\n",
       "0      F    +10              1       1\n",
       "1      F    -10              1       1\n",
       "2      F    +10              2       1\n",
       "3      F    +10              1       0\n",
       "4      M    +10              1       0\n",
       "5      M    +10              1       0\n",
       "6      M    -10              2       1"
      ]
     },
     "execution_count": 1,
     "metadata": {},
     "output_type": "execute_result"
    }
   ],
   "source": [
    "mock_data = {\n",
    "    'gender':['F', 'F', 'F', 'F', 'M', 'M', 'M'],\n",
    "    'income': ['+10', '-10', '+10', '+10', '+10', '+10', '-10'],\n",
    "    'family_number': [1, 1, 2, 1, 1, 1, 2],\n",
    "   # 'pet': [1, 1, 1, 0, 0, 0, 1],\n",
    "    'bought': [1, 1, 1, 0, 0, 0, 1],\n",
    "}\n",
    "\n",
    "import pandas as pd\n",
    "dataset = pd.DataFrame.from_dict(mock_data)\n",
    "dataset\n"
   ]
  },
  {
   "cell_type": "code",
   "execution_count": 2,
   "metadata": {},
   "outputs": [
    {
     "data": {
      "text/plain": [
       "('income', '-10')"
      ]
     },
     "execution_count": 2,
     "metadata": {},
     "output_type": "execute_result"
    }
   ],
   "source": [
    "from icecream import ic\n",
    "from collections import Counter\n",
    "import numpy as np\n",
    "def entropy(elements):\n",
    "    counter = Counter(elements)  ## 计算每个数字个数\n",
    "    ## 计算信息熵的概率，概率为每个数字出现个数除以数字总数\n",
    "    probs=[counter[c]/len(elements) for c in set(elements)]## set 为了不重复\n",
    "\n",
    "    return -sum(p * np.log(p) for p in probs)\n",
    "\n",
    "#下面这个函数的目的是计算所有特征中数据熵最少的\n",
    "def find_the_optimal_spilter(training_data: pd.DataFrame, target: str):\n",
    "    features = set(training_data.columns.to_list())-{target}\n",
    "    split = None\n",
    "    entropy_min = float('inf') # 求最小值，要初始化最大值\n",
    "    \n",
    "    for feature in features:\n",
    "#         ic(feature)\n",
    "        values = set(training_data[feature])\n",
    "        \n",
    "        for value in values:\n",
    "#             ic(value)\n",
    "            split_1 = training_data[training_data[feature] == value][target].tolist()\n",
    "#             ic(split_1)\n",
    "            split_2 = training_data[training_data[feature] != value][target].tolist()\n",
    "#             ic(split_2)\n",
    "            \n",
    "            entropy_add = entropy(split_1)+entropy(split_2)\n",
    "#             ic(entropy_add)\n",
    "    \n",
    "            if entropy_add<= entropy_min:\n",
    "                entropy_min = entropy_add\n",
    "                split = (feature,value)\n",
    "                \n",
    "#         ic(split)\n",
    "#         ic(entropy_min)\n",
    "    return split\n",
    "\n",
    "\n",
    "find_the_optimal_spilter(dataset, 'bought')\n"
   ]
  },
  {
   "cell_type": "code",
   "execution_count": 9,
   "metadata": {},
   "outputs": [
    {
     "data": {
      "text/html": [
       "<div>\n",
       "<style scoped>\n",
       "    .dataframe tbody tr th:only-of-type {\n",
       "        vertical-align: middle;\n",
       "    }\n",
       "\n",
       "    .dataframe tbody tr th {\n",
       "        vertical-align: top;\n",
       "    }\n",
       "\n",
       "    .dataframe thead th {\n",
       "        text-align: right;\n",
       "    }\n",
       "</style>\n",
       "<table border=\"1\" class=\"dataframe\">\n",
       "  <thead>\n",
       "    <tr style=\"text-align: right;\">\n",
       "      <th></th>\n",
       "      <th>gender</th>\n",
       "      <th>income</th>\n",
       "      <th>bought</th>\n",
       "    </tr>\n",
       "  </thead>\n",
       "  <tbody>\n",
       "    <tr>\n",
       "      <td>2</td>\n",
       "      <td>F</td>\n",
       "      <td>+10</td>\n",
       "      <td>1</td>\n",
       "    </tr>\n",
       "    <tr>\n",
       "      <td>6</td>\n",
       "      <td>M</td>\n",
       "      <td>-10</td>\n",
       "      <td>1</td>\n",
       "    </tr>\n",
       "  </tbody>\n",
       "</table>\n",
       "</div>"
      ],
      "text/plain": [
       "  gender income  bought\n",
       "2      F    +10       1\n",
       "6      M    -10       1"
      ]
     },
     "execution_count": 9,
     "metadata": {},
     "output_type": "execute_result"
    }
   ],
   "source": [
    "dataset_left = dataset[dataset['family_number'] == 2].copy()\n",
    "dataset_right = dataset[dataset['family_number'] != 2].copy()\n",
    "dataset_left.drop('family_number',axis=1,inplace=True)\n",
    "dataset_left"
   ]
  },
  {
   "cell_type": "code",
   "execution_count": 4,
   "metadata": {},
   "outputs": [
    {
     "data": {
      "text/html": [
       "<div>\n",
       "<style scoped>\n",
       "    .dataframe tbody tr th:only-of-type {\n",
       "        vertical-align: middle;\n",
       "    }\n",
       "\n",
       "    .dataframe tbody tr th {\n",
       "        vertical-align: top;\n",
       "    }\n",
       "\n",
       "    .dataframe thead th {\n",
       "        text-align: right;\n",
       "    }\n",
       "</style>\n",
       "<table border=\"1\" class=\"dataframe\">\n",
       "  <thead>\n",
       "    <tr style=\"text-align: right;\">\n",
       "      <th></th>\n",
       "      <th>gender</th>\n",
       "      <th>income</th>\n",
       "      <th>bought</th>\n",
       "    </tr>\n",
       "  </thead>\n",
       "  <tbody>\n",
       "    <tr>\n",
       "      <td>0</td>\n",
       "      <td>F</td>\n",
       "      <td>+10</td>\n",
       "      <td>1</td>\n",
       "    </tr>\n",
       "    <tr>\n",
       "      <td>1</td>\n",
       "      <td>F</td>\n",
       "      <td>-10</td>\n",
       "      <td>1</td>\n",
       "    </tr>\n",
       "    <tr>\n",
       "      <td>3</td>\n",
       "      <td>F</td>\n",
       "      <td>+10</td>\n",
       "      <td>0</td>\n",
       "    </tr>\n",
       "    <tr>\n",
       "      <td>4</td>\n",
       "      <td>M</td>\n",
       "      <td>+10</td>\n",
       "      <td>0</td>\n",
       "    </tr>\n",
       "    <tr>\n",
       "      <td>5</td>\n",
       "      <td>M</td>\n",
       "      <td>+10</td>\n",
       "      <td>0</td>\n",
       "    </tr>\n",
       "  </tbody>\n",
       "</table>\n",
       "</div>"
      ],
      "text/plain": [
       "  gender income  bought\n",
       "0      F    +10       1\n",
       "1      F    -10       1\n",
       "3      F    +10       0\n",
       "4      M    +10       0\n",
       "5      M    +10       0"
      ]
     },
     "execution_count": 4,
     "metadata": {},
     "output_type": "execute_result"
    }
   ],
   "source": [
    "dataset_right.drop('family_number',axis=1,inplace=True)\n",
    "dataset_right"
   ]
  },
  {
   "cell_type": "code",
   "execution_count": 5,
   "metadata": {},
   "outputs": [
    {
     "data": {
      "text/plain": [
       "('income', '-10')"
      ]
     },
     "execution_count": 5,
     "metadata": {},
     "output_type": "execute_result"
    }
   ],
   "source": [
    "find_the_optimal_spilter(dataset_left, 'bought')"
   ]
  },
  {
   "cell_type": "code",
   "execution_count": 6,
   "metadata": {},
   "outputs": [
    {
     "data": {
      "text/plain": [
       "3"
      ]
     },
     "execution_count": 6,
     "metadata": {},
     "output_type": "execute_result"
    }
   ],
   "source": [
    "dataset_left.shape[1]\n"
   ]
  },
  {
   "cell_type": "code",
   "execution_count": 49,
   "metadata": {},
   "outputs": [
    {
     "data": {
      "text/plain": [
       "'not sure'"
      ]
     },
     "execution_count": 49,
     "metadata": {},
     "output_type": "execute_result"
    }
   ],
   "source": [
    "def predicate(gender, income, family_number):\n",
    "    input = {}\n",
    "    input['gender']= gender\n",
    "    input['income']= income\n",
    "    input['family_number']= family_number\n",
    "    dataset_drop = dataset.copy()\n",
    "#     ic(dataset)\n",
    "    while(dataset_drop.shape[0] != 1 and dataset_drop.shape[1] != 1):\n",
    "        feature, value = find_the_optimal_spilter(dataset_drop, 'bought')\n",
    "        if input[feature]==value:\n",
    "            dataset_drop = dataset_drop[dataset_drop[feature] == value]\n",
    "            dataset_drop.drop(feature,axis=1,inplace=True)\n",
    "        else:\n",
    "            dataset_drop = dataset_drop[dataset_drop[feature] != value]\n",
    "            dataset_drop.drop(feature,axis=1,inplace=True)\n",
    "\n",
    "#     ic(dataset_drop)\n",
    "    if dataset_drop.shape[0] != 1:\n",
    "        bought = dataset_drop['bought']\n",
    "#         ic(bought)\n",
    "        \n",
    "        counter = Counter(bought)  ## 计算每个数字个数\n",
    "    ## 计算信息熵的概率，概率为每个数字出现个数除以数字总数\n",
    "        probs=[(counter[c]/len(bought),c) for c in set(bought)]## set 为了不重复\n",
    "#         ic(probs)\n",
    "        if probs[0][0]==0.5 and probs[1][0]==0.5:\n",
    "            return \"not sure\"\n",
    "        elif len(probs)==1:\n",
    "            return dataset_drop['bought'].tolist()[0]\n",
    "        else:        \n",
    "            ans = probs.sort(key=lambda x: x[0],reverse=True)[0]\n",
    "            return ans[1]\n",
    "    else: \n",
    "        return dataset_drop['bought'].tolist()[0]\n",
    "        \n",
    "    \n",
    "    \n",
    "predicate('F', '+10', 1)   "
   ]
  },
  {
   "cell_type": "code",
   "execution_count": 50,
   "metadata": {},
   "outputs": [
    {
     "data": {
      "text/html": [
       "<div>\n",
       "<style scoped>\n",
       "    .dataframe tbody tr th:only-of-type {\n",
       "        vertical-align: middle;\n",
       "    }\n",
       "\n",
       "    .dataframe tbody tr th {\n",
       "        vertical-align: top;\n",
       "    }\n",
       "\n",
       "    .dataframe thead th {\n",
       "        text-align: right;\n",
       "    }\n",
       "</style>\n",
       "<table border=\"1\" class=\"dataframe\">\n",
       "  <thead>\n",
       "    <tr style=\"text-align: right;\">\n",
       "      <th></th>\n",
       "      <th>gender</th>\n",
       "      <th>income</th>\n",
       "      <th>family_number</th>\n",
       "      <th>bought</th>\n",
       "    </tr>\n",
       "  </thead>\n",
       "  <tbody>\n",
       "    <tr>\n",
       "      <td>0</td>\n",
       "      <td>F</td>\n",
       "      <td>+10</td>\n",
       "      <td>1</td>\n",
       "      <td>1</td>\n",
       "    </tr>\n",
       "    <tr>\n",
       "      <td>1</td>\n",
       "      <td>F</td>\n",
       "      <td>-10</td>\n",
       "      <td>1</td>\n",
       "      <td>1</td>\n",
       "    </tr>\n",
       "    <tr>\n",
       "      <td>2</td>\n",
       "      <td>F</td>\n",
       "      <td>+10</td>\n",
       "      <td>2</td>\n",
       "      <td>1</td>\n",
       "    </tr>\n",
       "    <tr>\n",
       "      <td>3</td>\n",
       "      <td>F</td>\n",
       "      <td>+10</td>\n",
       "      <td>1</td>\n",
       "      <td>0</td>\n",
       "    </tr>\n",
       "    <tr>\n",
       "      <td>4</td>\n",
       "      <td>M</td>\n",
       "      <td>+10</td>\n",
       "      <td>1</td>\n",
       "      <td>0</td>\n",
       "    </tr>\n",
       "    <tr>\n",
       "      <td>5</td>\n",
       "      <td>M</td>\n",
       "      <td>+10</td>\n",
       "      <td>1</td>\n",
       "      <td>0</td>\n",
       "    </tr>\n",
       "    <tr>\n",
       "      <td>6</td>\n",
       "      <td>M</td>\n",
       "      <td>-10</td>\n",
       "      <td>2</td>\n",
       "      <td>1</td>\n",
       "    </tr>\n",
       "  </tbody>\n",
       "</table>\n",
       "</div>"
      ],
      "text/plain": [
       "  gender income  family_number  bought\n",
       "0      F    +10              1       1\n",
       "1      F    -10              1       1\n",
       "2      F    +10              2       1\n",
       "3      F    +10              1       0\n",
       "4      M    +10              1       0\n",
       "5      M    +10              1       0\n",
       "6      M    -10              2       1"
      ]
     },
     "execution_count": 50,
     "metadata": {},
     "output_type": "execute_result"
    }
   ],
   "source": [
    "dataset"
   ]
  },
  {
   "cell_type": "code",
   "execution_count": 54,
   "metadata": {},
   "outputs": [
    {
     "name": "stdout",
     "output_type": "stream",
     "text": [
      "no!, predict result:not sure, data shows:1\n",
      "yes\n",
      "yes\n",
      "no!, predict result:not sure, data shows:0\n",
      "yes\n",
      "yes\n",
      "yes\n"
     ]
    }
   ],
   "source": [
    "for i in range(len(dataset)):\n",
    "    gender = dataset.loc[i,\"gender\"]\n",
    "    income = dataset.loc[i,\"income\"]\n",
    "    family_member = dataset.loc[i,\"family_number\"]\n",
    "    predict_result = predicate(gender,income,family_member)\n",
    "    if predict_result == dataset.loc[i,\"bought\"]:\n",
    "        print('yes')\n",
    "    else:\n",
    "        print(\"no!, predict result:{}, data shows:{}\".format(predict_result,dataset.loc[i,\"bought\"]))"
   ]
  },
  {
   "cell_type": "markdown",
   "metadata": {},
   "source": [
    "#### 以上把表格里面所有的结果放进去重新验证了一下，除了有两个case的条件一样，但是bought有两个结果造成预测不确定以外，其余分类基本都正常"
   ]
  },
  {
   "cell_type": "code",
   "execution_count": 29,
   "metadata": {},
   "outputs": [
    {
     "name": "stderr",
     "output_type": "stream",
     "text": [
      "ic| dataset:   gender income  family_number  bought\n",
      "             0      F    +10              1       1\n",
      "             1      F    -10              1       1\n",
      "             2      F    +10              2       1\n",
      "             3      F    +10              1       0\n",
      "             4      M    +10              1       0\n",
      "             5      M    +10              1       0\n",
      "             6      M    -10              2       1\n",
      "ic| feature: 'income', value: '-10'\n",
      "ic| input[feature]: '+10'\n",
      "ic| feature: 'income'\n",
      "ic| <ipython-input-27-9fd38dd5793c>:18 in predicate() at 07:15:40.162\n",
      "ic| dataset_drop:   gender income  family_number  bought\n",
      "                  0      F    +10              1       1\n",
      "                  2      F    +10              2       1\n",
      "                  3      F    +10              1       0\n",
      "                  4      M    +10              1       0\n",
      "                  5      M    +10              1       0\n",
      "ic| dataset_drop:   gender  family_number  bought\n",
      "                  0      F              1       1\n",
      "                  2      F              2       1\n",
      "                  3      F              1       0\n",
      "                  4      M              1       0\n",
      "                  5      M              1       0\n",
      "ic| feature: 'family_number', value: 2\n",
      "ic| input[feature]: 1\n",
      "ic| feature: 'family_number'\n",
      "ic| <ipython-input-27-9fd38dd5793c>:18 in predicate() at 07:15:40.239\n",
      "ic| dataset_drop:   gender  family_number  bought\n",
      "                  0      F              1       1\n",
      "                  3      F              1       0\n",
      "                  4      M              1       0\n",
      "                  5      M              1       0\n",
      "ic| dataset_drop:   gender  bought\n",
      "                  0      F       1\n",
      "                  3      F       0\n",
      "                  4      M       0\n",
      "                  5      M       0\n",
      "ic| feature: 'gender', value: 'M'\n",
      "ic| input[feature]: 'M'\n",
      "ic| feature: 'gender'\n",
      "ic| dataset_drop:    bought\n",
      "                  4       0\n",
      "                  5       0\n",
      "ic| dataset_drop:    bought\n",
      "                  4       0\n",
      "                  5       0\n",
      "ic| bought: 4    0\n",
      "            5    0\n",
      "            Name: bought, dtype: int64\n",
      "ic| probs: [(1.0, 0)]\n"
     ]
    },
    {
     "data": {
      "text/plain": [
       "0"
      ]
     },
     "execution_count": 29,
     "metadata": {},
     "output_type": "execute_result"
    }
   ],
   "source": [
    "predicate('M', '+10', 1) "
   ]
  },
  {
   "cell_type": "code",
   "execution_count": 30,
   "metadata": {},
   "outputs": [
    {
     "name": "stderr",
     "output_type": "stream",
     "text": [
      "ic| dataset:   gender income  family_number  bought\n",
      "             0      F    +10              1       1\n",
      "             1      F    -10              1       1\n",
      "             2      F    +10              2       1\n",
      "             3      F    +10              1       0\n",
      "             4      M    +10              1       0\n",
      "             5      M    +10              1       0\n",
      "             6      M    -10              2       1\n",
      "ic| feature: 'income', value: '-10'\n",
      "ic| input[feature]: '-10'\n",
      "ic| feature: 'income'\n",
      "ic| dataset_drop:   gender  family_number  bought\n",
      "                  1      F              1       1\n",
      "                  6      M              2       1\n",
      "ic| feature: 'gender', value: 'M'\n",
      "ic| input[feature]: 'M'\n",
      "ic| feature: 'gender'\n",
      "ic| dataset_drop:    family_number  bought\n",
      "                  6              2       1\n",
      "ic| dataset_drop:    family_number  bought\n",
      "                  6              2       1\n"
     ]
    },
    {
     "data": {
      "text/plain": [
       "1"
      ]
     },
     "execution_count": 30,
     "metadata": {},
     "output_type": "execute_result"
    }
   ],
   "source": [
    "predicate('M', '-10', 1) "
   ]
  },
  {
   "cell_type": "code",
   "execution_count": null,
   "metadata": {},
   "outputs": [],
   "source": []
  },
  {
   "cell_type": "markdown",
   "metadata": {},
   "source": [
    "<评阅点>\n",
    "> + 是否将之前的决策树模型的部分进行合并组装， predicate函数能够顺利运行(8')\n",
    "+ 是够能够输入未曾见过的X变量，例如gender, income, family_number 分别是： <M, -10, 1>, 模型能够预测出结果 (12')"
   ]
  },
  {
   "cell_type": "markdown",
   "metadata": {},
   "source": [
    "2. 将上一节课(第二节课)的线性回归问题中的Loss函数改成\"绝对值\"，并且改变其偏导的求值方式，观察其结果的变化。(19 point)"
   ]
  },
  {
   "cell_type": "code",
   "execution_count": 73,
   "metadata": {},
   "outputs": [],
   "source": [
    "from sklearn.datasets import load_boston\n",
    "import random\n",
    "import matplotlib.pyplot as plt"
   ]
  },
  {
   "cell_type": "code",
   "execution_count": 74,
   "metadata": {},
   "outputs": [],
   "source": [
    "dataset = load_boston()"
   ]
  },
  {
   "cell_type": "code",
   "execution_count": 75,
   "metadata": {},
   "outputs": [
    {
     "data": {
      "text/plain": [
       "<matplotlib.collections.PathCollection at 0x7f3346581710>"
      ]
     },
     "execution_count": 75,
     "metadata": {},
     "output_type": "execute_result"
    },
    {
     "data": {
      "image/png": "[encoded data removed]",
      "text/plain": [
       "<Figure size 432x288 with 1 Axes>"
      ]
     },
     "metadata": {
      "needs_background": "light"
     },
     "output_type": "display_data"
    }
   ],
   "source": [
    "x,y=dataset['data'],dataset['target']\n",
    "X_rm = x[:,5]\n",
    "# plot the RM with respect to y\n",
    "plt.scatter(X_rm,y)"
   ]
  },
  {
   "cell_type": "markdown",
   "metadata": {},
   "source": [
    "### Assume that the target funciton is a linear function\n",
    "$$ y = k*rm + b$$"
   ]
  },
  {
   "cell_type": "code",
   "execution_count": 84,
   "metadata": {},
   "outputs": [],
   "source": [
    "# you code here\n",
    "import random\n",
    "#define target function\n",
    "def price(rm, k, b):\n",
    "    return k * rm + b\n",
    "\n",
    "# define loss function \n",
    "def loss(y,y_hat):\n",
    "    return sum(abs(y_i - y_hat_i) for y_i, y_hat_i in zip(list(y),list(y_hat)))/len(list(y))\n",
    "\n"
   ]
  },
  {
   "cell_type": "markdown",
   "metadata": {},
   "source": [
    "### Define mean square loss"
   ]
  },
  {
   "cell_type": "markdown",
   "metadata": {},
   "source": [
    "$$ loss = \\frac{1}{n} \\sum{|y_i - \\hat{y_i}|}$$"
   ]
  },
  {
   "cell_type": "markdown",
   "metadata": {},
   "source": [
    "$$ loss = \\frac{1}{n} \\sum{|y_i - (kx_i + b_i)|} $$"
   ]
  },
  {
   "cell_type": "code",
   "execution_count": 124,
   "metadata": {},
   "outputs": [],
   "source": [
    "# define partial derivative \n",
    "def partial_derivative_k(x, y, y_hat): \n",
    "    n = len(y)\n",
    "    gradient = 0\n",
    "    for x_i, y_i, y_hat_i in zip(list(x),list(y),list(y_hat)):\n",
    "        gradient += x_i *(1 if y_i-y_hat_i>0 else -1)\n",
    "    return -1/n * gradient\n",
    "\n",
    "def partial_derivative_b(y, y_hat):\n",
    "    n = len(y)\n",
    "    gradient = 0\n",
    "    for y_i, y_hat_i in zip(list(y),list(y_hat)):\n",
    "        gradient += 1 if y_i-y_hat_i>0 else -1\n",
    "    return -1 / n * gradient"
   ]
  },
  {
   "cell_type": "markdown",
   "metadata": {},
   "source": [
    "### Define partial derivatives"
   ]
  },
  {
   "cell_type": "markdown",
   "metadata": {},
   "source": [
    "$$if (y_i - \\hat{y_i} > 0):$$ \n",
    "$$ a = 1 $$\n",
    "$$ else: $$ $$ a = -1 $$\n",
    "$$ \\frac{\\partial{loss}}{\\partial{k}} = -\\frac{1}{n}\\sum a（x_i）$$\n",
    "$$ \\frac{\\partial{loss}}{\\partial{b}} = -\\frac{1}{n}\\sum(a)$$"
   ]
  },
  {
   "cell_type": "markdown",
   "metadata": {},
   "source": []
  },
  {
   "cell_type": "code",
   "execution_count": 146,
   "metadata": {},
   "outputs": [
    {
     "name": "stdout",
     "output_type": "stream",
     "text": [
      "Iteration 0, the loss is 63.40905411071491, parameters k is 24.739349459530402 and b is -69.57137844875129\n",
      "Iteration 1, the loss is 63.005933867959634, parameters k is 24.676643866645026 and b is -69.58133892305959\n",
      "Iteration 2, the loss is 62.602813625204234, parameters k is 24.61393827375965 and b is -69.59129939736789\n",
      "Iteration 3, the loss is 62.19969338244906, parameters k is 24.551232680874275 and b is -69.60125987167619\n",
      "Iteration 4, the loss is 61.79657313969377, parameters k is 24.4885270879889 and b is -69.61122034598449\n",
      "Iteration 5, the loss is 61.39345289693856, parameters k is 24.425821495103524 and b is -69.62118082029279\n",
      "Iteration 6, the loss is 60.99033265418327, parameters k is 24.363115902218148 and b is -69.6311412946011\n",
      "Iteration 7, the loss is 60.587212411427934, parameters k is 24.300410309332772 and b is -69.6411017689094\n",
      "Iteration 8, the loss is 60.18409216867261, parameters k is 24.237704716447396 and b is -69.6510622432177\n",
      "Iteration 9, the loss is 59.780971925917434, parameters k is 24.17499912356202 and b is -69.661022717526\n",
      "Iteration 10, the loss is 59.37785168316218, parameters k is 24.112293530676645 and b is -69.6709831918343\n",
      "Iteration 11, the loss is 58.975342079202555, parameters k is 24.04958793779127 and b is -69.6809436661426\n",
      "Iteration 12, the loss is 58.57526918014035, parameters k is 23.987078787593642 and b is -69.69086461475919\n",
      "Iteration 13, the loss is 58.17667208730305, parameters k is 23.924722325143048 and b is -69.7007460376841\n",
      "Iteration 14, the loss is 57.77807499446574, parameters k is 23.862365862692453 and b is -69.710627460609\n",
      "Iteration 15, the loss is 57.37947790162837, parameters k is 23.80000940024186 and b is -69.72050888353391\n",
      "Iteration 16, the loss is 56.98088080879108, parameters k is 23.737652937791264 and b is -69.73039030645882\n",
      "Iteration 17, the loss is 56.582283715953785, parameters k is 23.67529647534067 and b is -69.74027172938372\n",
      "Iteration 18, the loss is 56.18368662311648, parameters k is 23.612940012890075 and b is -69.75015315230863\n",
      "Iteration 19, the loss is 55.78508953027918, parameters k is 23.55058355043948 and b is -69.76003457523353\n",
      "Iteration 20, the loss is 55.38649243744183, parameters k is 23.488227087988886 and b is -69.76991599815844\n",
      "Iteration 21, the loss is 54.98789534460453, parameters k is 23.42587062553829 and b is -69.77979742108334\n",
      "Iteration 22, the loss is 54.58929825176721, parameters k is 23.363514163087697 and b is -69.78967884400825\n",
      "Iteration 23, the loss is 54.190701158929926, parameters k is 23.301157700637102 and b is -69.79956026693316\n",
      "Iteration 24, the loss is 53.792104066092534, parameters k is 23.238801238186507 and b is -69.80944168985806\n",
      "Iteration 25, the loss is 53.39350697325527, parameters k is 23.176444775735913 and b is -69.81932311278297\n",
      "Iteration 26, the loss is 52.99490988041794, parameters k is 23.11408831328532 and b is -69.82920453570787\n",
      "Iteration 27, the loss is 52.596312787580636, parameters k is 23.051731850834724 and b is -69.83908595863278\n",
      "Iteration 28, the loss is 52.19771569474339, parameters k is 22.98937538838413 and b is -69.84896738155769\n",
      "Iteration 29, the loss is 51.799118601906066, parameters k is 22.927018925933535 and b is -69.85884880448259\n",
      "Iteration 30, the loss is 51.40052150906872, parameters k is 22.86466246348294 and b is -69.8687302274075\n",
      "Iteration 31, the loss is 51.00192441623142, parameters k is 22.802306001032346 and b is -69.8786116503324\n",
      "Iteration 32, the loss is 50.603327323394076, parameters k is 22.73994953858175 and b is -69.88849307325731\n",
      "Iteration 33, the loss is 50.20473023055683, parameters k is 22.677593076131156 and b is -69.89837449618221\n",
      "Iteration 34, the loss is 49.806133137719435, parameters k is 22.615236613680562 and b is -69.90825591910712\n",
      "Iteration 35, the loss is 49.4075360448822, parameters k is 22.552880151229967 and b is -69.91813734203203\n",
      "Iteration 36, the loss is 49.008938952044836, parameters k is 22.490523688779373 and b is -69.92801876495693\n",
      "Iteration 37, the loss is 48.610341859207516, parameters k is 22.428167226328778 and b is -69.93790018788184\n",
      "Iteration 38, the loss is 48.21174476637014, parameters k is 22.365810763878184 and b is -69.94778161080674\n",
      "Iteration 39, the loss is 47.81314767353292, parameters k is 22.30345430142759 and b is -69.95766303373165\n",
      "Iteration 40, the loss is 47.41455058069562, parameters k is 22.241097838976994 and b is -69.96754445665655\n",
      "Iteration 41, the loss is 47.01595348785831, parameters k is 22.1787413765264 and b is -69.97742587958146\n",
      "Iteration 42, the loss is 46.617356395021, parameters k is 22.116384914075805 and b is -69.98730730250637\n",
      "Iteration 43, the loss is 46.218759302183656, parameters k is 22.05402845162521 and b is -69.99718872543127\n",
      "Iteration 44, the loss is 45.82016220934629, parameters k is 21.991671989174616 and b is -70.00707014835618\n",
      "Iteration 45, the loss is 45.421565116509065, parameters k is 21.92931552672402 and b is -70.01695157128108\n",
      "Iteration 46, the loss is 45.022968023671766, parameters k is 21.866959064273427 and b is -70.02683299420599\n",
      "Iteration 47, the loss is 44.624370930834466, parameters k is 21.804602601822832 and b is -70.0367144171309\n",
      "Iteration 48, the loss is 44.225773837997096, parameters k is 21.742246139372238 and b is -70.0465958400558\n",
      "Iteration 49, the loss is 43.8271767451598, parameters k is 21.679889676921643 and b is -70.0564772629807\n",
      "Iteration 50, the loss is 43.4285796523225, parameters k is 21.61753321447105 and b is -70.06635868590561\n",
      "Iteration 51, the loss is 43.02998255948516, parameters k is 21.555176752020454 and b is -70.07624010883052\n",
      "Iteration 52, the loss is 42.63138546664785, parameters k is 21.49282028956986 and b is -70.08612153175542\n",
      "Iteration 53, the loss is 42.23278837381056, parameters k is 21.430463827119265 and b is -70.09600295468033\n",
      "Iteration 54, the loss is 41.83419128097325, parameters k is 21.36810736466867 and b is -70.10588437760524\n",
      "Iteration 55, the loss is 41.43559418813593, parameters k is 21.305750902218076 and b is -70.11576580053014\n",
      "Iteration 56, the loss is 41.03699709529862, parameters k is 21.24339443976748 and b is -70.12564722345505\n",
      "Iteration 57, the loss is 40.638400002461296, parameters k is 21.181037977316887 and b is -70.13552864637995\n",
      "Iteration 58, the loss is 40.23980290962398, parameters k is 21.118681514866292 and b is -70.14541006930486\n",
      "Iteration 59, the loss is 39.841205816786676, parameters k is 21.056325052415698 and b is -70.15529149222976\n",
      "Iteration 60, the loss is 39.44260872394939, parameters k is 20.993968589965103 and b is -70.16517291515467\n",
      "Iteration 61, the loss is 39.04401163111211, parameters k is 20.93161212751451 and b is -70.17505433807958\n",
      "Iteration 62, the loss is 38.645414538274764, parameters k is 20.869255665063914 and b is -70.18493576100448\n",
      "Iteration 63, the loss is 38.24681744543742, parameters k is 20.80689920261332 and b is -70.19481718392939\n",
      "Iteration 64, the loss is 37.848220352600144, parameters k is 20.744542740162725 and b is -70.2046986068543\n",
      "Iteration 65, the loss is 37.449623259762845, parameters k is 20.68218627771213 and b is -70.2145800297792\n",
      "Iteration 66, the loss is 37.051026166925496, parameters k is 20.619829815261536 and b is -70.2244614527041\n",
      "Iteration 67, the loss is 36.6524290740882, parameters k is 20.55747335281094 and b is -70.23434287562901\n",
      "Iteration 68, the loss is 36.25383198125089, parameters k is 20.495116890360347 and b is -70.24422429855392\n",
      "Iteration 69, the loss is 35.85607140306773, parameters k is 20.432760427909752 and b is -70.25410572147882\n",
      "Iteration 70, the loss is 35.46044287742412, parameters k is 20.370636178897893 and b is -70.26394761871202\n",
      "Iteration 71, the loss is 35.06496125751206, parameters k is 20.308511929886034 and b is -70.27378951594523\n",
      "Iteration 72, the loss is 34.67143987713896, parameters k is 20.24655123818643 and b is -70.28359188748672\n",
      "Iteration 73, the loss is 34.27791849676584, parameters k is 20.184590546486827 and b is -70.29339425902822\n",
      "Iteration 74, the loss is 33.884397116392776, parameters k is 20.122629854787224 and b is -70.30319663056972\n",
      "Iteration 75, the loss is 33.49087573601965, parameters k is 20.06066916308762 and b is -70.31299900211121\n",
      "Iteration 76, the loss is 33.09735435564655, parameters k is 19.998708471388017 and b is -70.32280137365271\n",
      "Iteration 77, the loss is 32.70383297527346, parameters k is 19.936747779688414 and b is -70.3326037451942\n",
      "Iteration 78, the loss is 32.310313718009596, parameters k is 19.87478708798881 and b is -70.3424061167357\n",
      "Iteration 79, the loss is 31.91889382025204, parameters k is 19.81298995360146 and b is -70.35216896258551\n",
      "Iteration 80, the loss is 31.527473922494522, parameters k is 19.751192819214108 and b is -70.36193180843532\n",
      "Iteration 81, the loss is 31.136054024736953, parameters k is 19.689395684826756 and b is -70.37169465428512\n",
      "Iteration 82, the loss is 30.74463412697939, parameters k is 19.627598550439405 and b is -70.38145750013493\n",
      "Iteration 83, the loss is 30.35321422922188, parameters k is 19.565801416052054 and b is -70.39122034598473\n",
      "Iteration 84, the loss is 29.96179433146432, parameters k is 19.504004281664702 and b is -70.40098319183454\n",
      "Iteration 85, the loss is 29.570374433706817, parameters k is 19.44220714727735 and b is -70.41074603768435\n",
      "Iteration 86, the loss is 29.17895453594923, parameters k is 19.38041001289 and b is -70.42050888353415\n",
      "Iteration 87, the loss is 28.788901334146697, parameters k is 19.31861287850265 and b is -70.43027172938396\n",
      "Iteration 88, the loss is 28.400589028962717, parameters k is 19.2570614358149 and b is -70.43999504954206\n",
      "Iteration 89, the loss is 28.012276723778665, parameters k is 19.195509993127153 and b is -70.44971836970016\n",
      "Iteration 90, the loss is 27.623964418594703, parameters k is 19.133958550439406 and b is -70.45944168985827\n",
      "Iteration 91, the loss is 27.23605553204843, parameters k is 19.07240710775166 and b is -70.46916501001637\n",
      "Iteration 92, the loss is 26.8500684469897, parameters k is 19.011038589965096 and b is -70.47884880448277\n",
      "Iteration 93, the loss is 26.46408136193099, parameters k is 18.949670072178534 and b is -70.48853259894916\n",
      "Iteration 94, the loss is 26.078094276872307, parameters k is 18.888301554391973 and b is -70.49821639341556\n",
      "Iteration 95, the loss is 25.69210719181357, parameters k is 18.82693303660541 and b is -70.50790018788196\n",
      "Iteration 96, the loss is 25.306120106754904, parameters k is 18.76556451881885 and b is -70.51758398234836\n",
      "Iteration 97, the loss is 24.920133021696206, parameters k is 18.704196001032287 and b is -70.52726777681475\n",
      "Iteration 98, the loss is 24.534145936637483, parameters k is 18.642827483245725 and b is -70.53695157128115\n",
      "Iteration 99, the loss is 24.14905550976131, parameters k is 18.581458965459163 and b is -70.54663536574755\n",
      "Iteration 100, the loss is 23.765548655528256, parameters k is 18.520286613680508 and b is -70.55627963452226\n",
      "Iteration 101, the loss is 23.382041801295212, parameters k is 18.459114261901853 and b is -70.56592390329696\n",
      "Iteration 102, the loss is 22.998534947062208, parameters k is 18.397941910123198 and b is -70.57556817207167\n",
      "Iteration 103, the loss is 22.61502809282918, parameters k is 18.336769558344542 and b is -70.58521244084638\n",
      "Iteration 104, the loss is 22.231521238596116, parameters k is 18.275597206565887 and b is -70.59485670962108\n",
      "Iteration 105, the loss is 21.848014384363108, parameters k is 18.214424854787232 and b is -70.60450097839579\n",
      "Iteration 106, the loss is 21.464984756667707, parameters k is 18.153252503008577 and b is -70.6141452471705\n",
      "Iteration 107, the loss is 21.083663264290685, parameters k is 18.092252799451266 and b is -70.6237499902535\n",
      "Iteration 108, the loss is 20.70285754382464, parameters k is 18.031253095893955 and b is -70.6333547333365\n",
      "Iteration 109, the loss is 20.32482746125962, parameters k is 17.97051754253427 and b is -70.6429199507278\n",
      "Iteration 110, the loss is 19.946797378694654, parameters k is 17.909781989174586 and b is -70.6524851681191\n",
      "Iteration 111, the loss is 19.56876729612966, parameters k is 17.849046435814902 and b is -70.6620503855104\n",
      "Iteration 112, the loss is 19.19073721356467, parameters k is 17.788310882455217 and b is -70.6716156029017\n",
      "Iteration 113, the loss is 18.81270713099971, parameters k is 17.727575329095533 and b is -70.681180820293\n",
      "Iteration 114, the loss is 18.434677048434693, parameters k is 17.66683977573585 and b is -70.69074603768429\n",
      "Iteration 115, the loss is 18.05664696586969, parameters k is 17.606104222376164 and b is -70.70031125507559\n",
      "Iteration 116, the loss is 17.679468460287417, parameters k is 17.54536866901648 and b is -70.70987647246689\n",
      "Iteration 117, the loss is 17.304201452053842, parameters k is 17.484854775735847 and b is -70.7194021641665\n",
      "Iteration 118, the loss is 16.930819699623118, parameters k is 17.424340882455216 and b is -70.7289278558661\n",
      "Iteration 119, the loss is 16.56392852661955, parameters k is 17.36442133700067 and b is -70.73833497049061\n",
      "Iteration 120, the loss is 16.20011517118244, parameters k is 17.304744637395927 and b is -70.74770255942342\n",
      "Iteration 121, the loss is 15.840306862446123, parameters k is 17.24548414332478 and b is -70.75699109697283\n",
      "Iteration 122, the loss is 15.482633478161134, parameters k is 17.186223649253634 and b is -70.76627963452223\n",
      "Iteration 123, the loss is 15.131620221848209, parameters k is 17.12761299707972 and b is -70.77544959499654\n",
      "Iteration 124, the loss is 14.782568234963959, parameters k is 17.069200447672603 and b is -70.78458002977915\n",
      "Iteration 125, the loss is 14.438026142944054, parameters k is 17.011204815261536 and b is -70.79363141317836\n",
      "Iteration 126, the loss is 14.094745943537871, parameters k is 16.95320918285047 and b is -70.80268279657757\n",
      "Iteration 127, the loss is 13.755138784078678, parameters k is 16.895623155182484 and b is -70.81165512859339\n",
      "Iteration 128, the loss is 13.418521551850159, parameters k is 16.83824088245521 and b is -70.8205879349175\n",
      "Iteration 129, the loss is 13.087741236956699, parameters k is 16.78127264134849 and b is -70.82944168985821\n",
      "Iteration 130, the loss is 12.760644363724005, parameters k is 16.72473720656588 and b is -70.83821639341552\n",
      "Iteration 131, the loss is 12.436490440267747, parameters k is 16.668415368621215 and b is -70.84695157128114\n",
      "Iteration 132, the loss is 12.116599437938978, parameters k is 16.61252277968841 and b is -70.85560769776335\n",
      "Iteration 133, the loss is 11.798115863025306, parameters k is 16.5566301907556 and b is -70.86426382424555\n",
      "Iteration 134, the loss is 11.483005100701844, parameters k is 16.501154597870226 and b is -70.87284089934437\n",
      "Iteration 135, the loss is 11.167894338378375, parameters k is 16.44567900498485 and b is -70.88141797444318\n",
      "Iteration 136, the loss is 10.852783576054915, parameters k is 16.390203412099474 and b is -70.889995049542\n",
      "Iteration 137, the loss is 10.537672813731456, parameters k is 16.3347278192141 and b is -70.89857212464081\n",
      "Iteration 138, the loss is 10.22390952275637, parameters k is 16.279252226328722 and b is -70.90714919973962\n",
      "Iteration 139, the loss is 9.912379507953915, parameters k is 16.224019835024375 and b is -70.91568674914673\n",
      "Iteration 140, the loss is 9.60510085735786, parameters k is 16.169236257949276 and b is -70.92414524717044\n",
      "Iteration 141, the loss is 9.301504244146587, parameters k is 16.114452680874177 and b is -70.93260374519416\n",
      "Iteration 142, the loss is 9.010246465855182, parameters k is 16.060921831071806 and b is -70.94086461475938\n",
      "Iteration 143, the loss is 8.725117067080891, parameters k is 16.00808248324572 and b is -70.9490069072495\n",
      "Iteration 144, the loss is 8.446604389208325, parameters k is 15.955677997079711 and b is -70.95707014835622\n",
      "Iteration 145, the loss is 8.177492477811194, parameters k is 15.904190744115285 and b is -70.96497528669614\n",
      "Iteration 146, the loss is 7.916300809847678, parameters k is 15.853374084036233 and b is -70.97276184796097\n",
      "Iteration 147, the loss is 7.6661236138226165, parameters k is 15.803478925933465 and b is -70.98039030645899\n",
      "Iteration 148, the loss is 7.430470990656695, parameters k is 15.75515894569631 and b is -70.98774208511512\n",
      "Iteration 149, the loss is 7.20886301669829, parameters k is 15.707991534629116 and b is -70.99489623531275\n",
      "Iteration 150, the loss is 7.006232028360577, parameters k is 15.663156297474966 and b is -71.00165512859338\n",
      "Iteration 151, the loss is 6.813825735157057, parameters k is 15.619441890360342 and b is -71.00821639341552\n",
      "Iteration 152, the loss is 6.6405910540507564, parameters k is 15.577787641348484 and b is -71.01442192701236\n",
      "Iteration 153, the loss is 6.483407738553911, parameters k is 15.538011692731883 and b is -71.02031125507561\n",
      "Iteration 154, the loss is 6.345511024156265, parameters k is 15.500901870597495 and b is -71.02576580053015\n",
      "Iteration 155, the loss is 6.219457230191219, parameters k is 15.465540190755599 and b is -71.0309436661428\n",
      "Iteration 156, the loss is 6.1025181547421665, parameters k is 15.431125665063899 and b is -71.03596342898865\n",
      "Iteration 157, the loss is 6.003716261327245, parameters k is 15.399698570202238 and b is -71.0405088835341\n",
      "Iteration 158, the loss is 5.910565700885357, parameters k is 15.369224597870222 and b is -71.04489623531276\n",
      "Iteration 159, the loss is 5.825245253741783, parameters k is 15.340010546486823 and b is -71.04908595863292\n",
      "Iteration 160, the loss is 5.74791769001632, parameters k is 15.311973491150855 and b is -71.05307805349457\n",
      "Iteration 161, the loss is 5.681197045760212, parameters k is 15.285925882455203 and b is -71.05675394282264\n",
      "Iteration 162, the loss is 5.62272839807461, parameters k is 15.261385546486823 and b is -71.0601926780005\n",
      "Iteration 163, the loss is 5.570890546843075, parameters k is 15.238712483245717 and b is -71.06335473333647\n",
      "Iteration 164, the loss is 5.522726579211203, parameters k is 15.216309222376152 and b is -71.06647726298074\n",
      "Iteration 165, the loss is 5.48367737042422, parameters k is 15.196410309332673 and b is -71.06920453570801\n",
      "Iteration 166, the loss is 5.450922375261663, parameters k is 15.178192305380104 and b is -71.07165512859339\n",
      "Iteration 167, the loss is 5.421849346232791, parameters k is 15.161025645301054 and b is -71.07394761871197\n",
      "Iteration 168, the loss is 5.396217244472228, parameters k is 15.145106297474968 and b is -71.07604248037205\n",
      "Iteration 169, the loss is 5.372717734793183, parameters k is 15.129659360716074 and b is -71.07805829064873\n",
      "Iteration 170, the loss is 5.3518525020563015, parameters k is 15.115155309332675 and b is -71.07991599815861\n",
      "Iteration 171, the loss is 5.331985948918926, parameters k is 15.101140072178525 and b is -71.08169465428509\n",
      "Iteration 172, the loss is 5.312974856484837, parameters k is 15.087343016842556 and b is -71.08343378471987\n",
      "Iteration 173, the loss is 5.296299425112516, parameters k is 15.07430509194137 and b is -71.08505433807956\n",
      "Iteration 174, the loss is 5.281892467496414, parameters k is 15.06195704846311 and b is -71.08655631436415\n",
      "Iteration 175, the loss is 5.270101508499169, parameters k is 15.050950665063901 and b is -71.08786066219024\n",
      "Iteration 176, the loss is 5.259935686442725, parameters k is 15.040884242139 and b is -71.08900690724953\n",
      "Iteration 177, the loss is 5.251010544723787, parameters k is 15.031053708542162 and b is -71.09011362661711\n",
      "Iteration 178, the loss is 5.243705157878908, parameters k is 15.022270131467064 and b is -71.0910622432179\n",
      "Iteration 179, the loss is 5.2381982906185565, parameters k is 15.014726949648882 and b is -71.09181323136019\n",
      "Iteration 180, the loss is 5.233746891617743, parameters k is 15.007948273759554 and b is -71.09244564242738\n",
      "Iteration 181, the loss is 5.230187811180183, parameters k is 15.001708807356392 and b is -71.09299900211117\n",
      "Iteration 182, the loss is 5.227143293624316, parameters k is 14.996203609727933 and b is -71.09343378471986\n",
      "Iteration 183, the loss is 5.224425200805009, parameters k is 14.990936396289198 and b is -71.09382904163687\n",
      "Iteration 184, the loss is 5.221977985358297, parameters k is 14.985928036605404 and b is -71.09418477286216\n",
      "Iteration 185, the loss is 5.219730512443761, parameters k is 14.981156989174574 and b is -71.09450097839576\n",
      "Iteration 186, the loss is 5.217944665313121, parameters k is 14.976627838976945 and b is -71.09477765823766\n",
      "Iteration 187, the loss is 5.2169124395182065, parameters k is 14.973316672969041 and b is -71.09485670962106\n",
      "Iteration 188, the loss is 5.215996253002825, parameters k is 14.970289222376156 and b is -71.09489623531276\n",
      "Iteration 189, the loss is 5.215215426070331, parameters k is 14.967494894312916 and b is -71.09489623531276\n",
      "Iteration 190, the loss is 5.214480586325735, parameters k is 14.964700566249675 and b is -71.09489623531276\n",
      "Iteration 191, the loss is 5.21383155277747, parameters k is 14.96214892593347 and b is -71.09485670962106\n",
      "Iteration 192, the loss is 5.213296979985794, parameters k is 14.959838194708173 and b is -71.09477765823766\n",
      "Iteration 193, the loss is 5.212762407194124, parameters k is 14.957527463482876 and b is -71.09469860685427\n",
      "Iteration 194, the loss is 5.212227834402443, parameters k is 14.955216732257579 and b is -71.09461955547087\n",
      "Iteration 195, the loss is 5.211735398591575, parameters k is 14.952906001032282 and b is -71.09454050408748\n",
      "Iteration 196, the loss is 5.211300027890542, parameters k is 14.9508228192141 and b is -71.09442192701238\n",
      "Iteration 197, the loss is 5.210864657189508, parameters k is 14.948739637395917 and b is -71.09430334993728\n",
      "Iteration 198, the loss is 5.210429286488466, parameters k is 14.946656455577735 and b is -71.09418477286218\n",
      "Iteration 199, the loss is 5.209993915787438, parameters k is 14.944573273759552 and b is -71.09406619578708\n",
      "Iteration 200, the loss is 5.209594627342856, parameters k is 14.94249009194137 and b is -71.09394761871198\n",
      "Iteration 201, the loss is 5.209253909426274, parameters k is 14.940651020795125 and b is -71.09378951594518\n",
      "Iteration 202, the loss is 5.208913191509694, parameters k is 14.93881194964888 and b is -71.09363141317837\n",
      "Iteration 203, the loss is 5.20857247359311, parameters k is 14.936972878502635 and b is -71.09347331041157\n",
      "Iteration 204, the loss is 5.20823175567653, parameters k is 14.93513380735639 and b is -71.09331520764476\n",
      "Iteration 205, the loss is 5.207891037759946, parameters k is 14.933294736210145 and b is -71.09315710487796\n",
      "Iteration 206, the loss is 5.207592384666513, parameters k is 14.9314556650639 and b is -71.09299900211116\n",
      "Iteration 207, the loss is 5.207460547862382, parameters k is 14.930135368621213 and b is -71.09276184796096\n",
      "Iteration 208, the loss is 5.207390731577763, parameters k is 14.929361949648882 and b is -71.09244564242736\n",
      "Iteration 209, the loss is 5.207320915293135, parameters k is 14.928588530676551 and b is -71.09212943689377\n",
      "Iteration 210, the loss is 5.207266371401401, parameters k is 14.92781511170422 and b is -71.09181323136018\n",
      "Iteration 211, the loss is 5.207227761329332, parameters k is 14.927305645301058 and b is -71.09145750013488\n",
      "Iteration 212, the loss is 5.20718915125727, parameters k is 14.926796178897895 and b is -71.09110176890958\n",
      "Iteration 213, the loss is 5.207150541185218, parameters k is 14.926286712494733 and b is -71.09074603768428\n",
      "Iteration 214, the loss is 5.207111931113154, parameters k is 14.92577724609157 and b is -71.09039030645899\n",
      "Iteration 215, the loss is 5.207073321041097, parameters k is 14.925267779688408 and b is -71.09003457523369\n",
      "Iteration 216, the loss is 5.207034710969037, parameters k is 14.924758313285245 and b is -71.08967884400839\n",
      "Iteration 217, the loss is 5.206996100896965, parameters k is 14.924248846882083 and b is -71.08932311278309\n",
      "Iteration 218, the loss is 5.206957490824916, parameters k is 14.92373938047892 and b is -71.0889673815578\n",
      "Iteration 219, the loss is 5.206918880752856, parameters k is 14.923229914075758 and b is -71.0886116503325\n",
      "Iteration 220, the loss is 5.20688027068079, parameters k is 14.922720447672596 and b is -71.0882559191072\n",
      "Iteration 221, the loss is 5.206845704548096, parameters k is 14.922210981269433 and b is -71.0879001878819\n",
      "Iteration 222, the loss is 5.206824629612346, parameters k is 14.921977483245717 and b is -71.0875049309649\n",
      "Iteration 223, the loss is 5.206803554676592, parameters k is 14.921743985222001 and b is -71.0871096740479\n",
      "Iteration 224, the loss is 5.206782479740842, parameters k is 14.921510487198285 and b is -71.08671441713089\n",
      "Iteration 225, the loss is 5.206761404805089, parameters k is 14.921276989174569 and b is -71.08631916021389\n",
      "Iteration 226, the loss is 5.206740329869336, parameters k is 14.921043491150852 and b is -71.08592390329689\n",
      "Iteration 227, the loss is 5.206719254933584, parameters k is 14.920809993127136 and b is -71.08552864637988\n",
      "Iteration 228, the loss is 5.2066981799978365, parameters k is 14.92057649510342 and b is -71.08513338946288\n",
      "Iteration 229, the loss is 5.206677105062088, parameters k is 14.920342997079704 and b is -71.08473813254588\n",
      "Iteration 230, the loss is 5.206656030126335, parameters k is 14.920109499055988 and b is -71.08434287562888\n",
      "Iteration 231, the loss is 5.206634955190577, parameters k is 14.919876001032272 and b is -71.08394761871187\n",
      "Iteration 232, the loss is 5.2066138802548325, parameters k is 14.919642503008555 and b is -71.08355236179487\n",
      "Iteration 233, the loss is 5.206592805319074, parameters k is 14.91940900498484 and b is -71.08315710487787\n",
      "Iteration 234, the loss is 5.206571730383323, parameters k is 14.919175506961123 and b is -71.08276184796087\n",
      "Iteration 235, the loss is 5.20655065544758, parameters k is 14.918942008937407 and b is -71.08236659104386\n",
      "Iteration 236, the loss is 5.206529580511822, parameters k is 14.91870851091369 and b is -71.08197133412686\n",
      "Iteration 237, the loss is 5.206508505576073, parameters k is 14.918475012889974 and b is -71.08157607720986\n",
      "Iteration 238, the loss is 5.206487430640321, parameters k is 14.918241514866258 and b is -71.08118082029286\n",
      "Iteration 239, the loss is 5.206466355704564, parameters k is 14.918008016842542 and b is -71.08078556337585\n",
      "Iteration 240, the loss is 5.206445280768819, parameters k is 14.917774518818826 and b is -71.08039030645885\n",
      "Iteration 241, the loss is 5.206424205833065, parameters k is 14.91754102079511 and b is -71.07999504954185\n",
      "Iteration 242, the loss is 5.20640313089731, parameters k is 14.917307522771393 and b is -71.07959979262485\n",
      "Iteration 243, the loss is 5.206382055961572, parameters k is 14.917074024747677 and b is -71.07920453570785\n",
      "Iteration 244, the loss is 5.206360981025814, parameters k is 14.916840526723961 and b is -71.07880927879084\n",
      "Iteration 245, the loss is 5.206339906090059, parameters k is 14.916607028700245 and b is -71.07841402187384\n",
      "Iteration 246, the loss is 5.2063188311543085, parameters k is 14.916373530676529 and b is -71.07801876495684\n",
      "Iteration 247, the loss is 5.206297756218558, parameters k is 14.916140032652812 and b is -71.07762350803984\n",
      "Iteration 248, the loss is 5.2062766812828105, parameters k is 14.915906534629096 and b is -71.07722825112283\n",
      "Iteration 249, the loss is 5.20625560634705, parameters k is 14.91567303660538 and b is -71.07683299420583\n",
      "Iteration 250, the loss is 5.206234531411304, parameters k is 14.915439538581664 and b is -71.07643773728883\n",
      "Iteration 251, the loss is 5.2062134564755445, parameters k is 14.915206040557948 and b is -71.07604248037183\n",
      "Iteration 252, the loss is 5.2061923815397995, parameters k is 14.914972542534231 and b is -71.07564722345482\n",
      "Iteration 253, the loss is 5.206171306604051, parameters k is 14.914739044510515 and b is -71.07525196653782\n",
      "Iteration 254, the loss is 5.206150231668295, parameters k is 14.914505546486799 and b is -71.07485670962082\n",
      "Iteration 255, the loss is 5.206129156732551, parameters k is 14.914272048463083 and b is -71.07446145270382\n",
      "Iteration 256, the loss is 5.206108081796788, parameters k is 14.914038550439367 and b is -71.07406619578681\n",
      "Iteration 257, the loss is 5.206087006861042, parameters k is 14.91380505241565 and b is -71.07367093886981\n",
      "Iteration 258, the loss is 5.206065931925293, parameters k is 14.913571554391934 and b is -71.07327568195281\n",
      "Iteration 259, the loss is 5.2060448569895375, parameters k is 14.913338056368218 and b is -71.0728804250358\n",
      "Iteration 260, the loss is 5.206023782053787, parameters k is 14.913104558344502 and b is -71.0724851681188\n",
      "Iteration 261, the loss is 5.206002707118039, parameters k is 14.912871060320786 and b is -71.0720899112018\n",
      "Iteration 262, the loss is 5.205981632182284, parameters k is 14.91263756229707 and b is -71.0716946542848\n",
      "Iteration 263, the loss is 5.205960557246531, parameters k is 14.912404064273353 and b is -71.0712993973678\n",
      "Iteration 264, the loss is 5.205939482310785, parameters k is 14.912170566249637 and b is -71.07090414045079\n",
      "Iteration 265, the loss is 5.205918407375035, parameters k is 14.911937068225921 and b is -71.07050888353379\n",
      "Iteration 266, the loss is 5.205897332439281, parameters k is 14.911703570202205 and b is -71.07011362661679\n",
      "Iteration 267, the loss is 5.205876257503527, parameters k is 14.911470072178489 and b is -71.06971836969979\n",
      "Iteration 268, the loss is 5.205855182567777, parameters k is 14.911236574154772 and b is -71.06932311278278\n",
      "Iteration 269, the loss is 5.205834107632028, parameters k is 14.911003076131056 and b is -71.06892785586578\n",
      "Iteration 270, the loss is 5.20581303269627, parameters k is 14.91076957810734 and b is -71.06853259894878\n",
      "Iteration 271, the loss is 5.205791957760523, parameters k is 14.910536080083624 and b is -71.06813734203178\n",
      "Iteration 272, the loss is 5.20577088282477, parameters k is 14.910302582059908 and b is -71.06774208511477\n",
      "Iteration 273, the loss is 5.205749807889017, parameters k is 14.910069084036191 and b is -71.06734682819777\n",
      "Iteration 274, the loss is 5.205728732953262, parameters k is 14.909835586012475 and b is -71.06695157128077\n",
      "Iteration 275, the loss is 5.205707658017517, parameters k is 14.909602087988759 and b is -71.06655631436377\n",
      "Iteration 276, the loss is 5.205686583081758, parameters k is 14.909368589965043 and b is -71.06616105744676\n",
      "Iteration 277, the loss is 5.205665508146011, parameters k is 14.909135091941327 and b is -71.06576580052976\n",
      "Iteration 278, the loss is 5.20564443321026, parameters k is 14.90890159391761 and b is -71.06537054361276\n",
      "Iteration 279, the loss is 5.205623358274507, parameters k is 14.908668095893894 and b is -71.06497528669576\n",
      "Iteration 280, the loss is 5.205602283338757, parameters k is 14.908434597870178 and b is -71.06458002977875\n",
      "Iteration 281, the loss is 5.205581208403009, parameters k is 14.908201099846462 and b is -71.06418477286175\n",
      "Iteration 282, the loss is 5.205560133467254, parameters k is 14.907967601822746 and b is -71.06378951594475\n",
      "Iteration 283, the loss is 5.205539058531507, parameters k is 14.90773410379903 and b is -71.06339425902775\n",
      "Iteration 284, the loss is 5.205517983595755, parameters k is 14.907500605775313 and b is -71.06299900211074\n",
      "Iteration 285, the loss is 5.20549690866, parameters k is 14.907267107751597 and b is -71.06260374519374\n",
      "Iteration 286, the loss is 5.205475833724246, parameters k is 14.90703360972788 and b is -71.06220848827674\n",
      "Iteration 287, the loss is 5.205454758788494, parameters k is 14.906800111704165 and b is -71.06181323135974\n",
      "Iteration 288, the loss is 5.205433683852743, parameters k is 14.906566613680448 and b is -71.06141797444273\n",
      "Iteration 289, the loss is 5.205412608916999, parameters k is 14.906333115656732 and b is -71.06102271752573\n",
      "Iteration 290, the loss is 5.205391533981243, parameters k is 14.906099617633016 and b is -71.06062746060873\n",
      "Iteration 291, the loss is 5.205370459045485, parameters k is 14.9058661196093 and b is -71.06023220369173\n",
      "Iteration 292, the loss is 5.205349384109737, parameters k is 14.905632621585584 and b is -71.05983694677472\n",
      "Iteration 293, the loss is 5.205328309173989, parameters k is 14.905399123561867 and b is -71.05944168985772\n",
      "Iteration 294, the loss is 5.205307234238237, parameters k is 14.905165625538151 and b is -71.05904643294072\n",
      "Iteration 295, the loss is 5.2052861593024815, parameters k is 14.904932127514435 and b is -71.05865117602372\n",
      "Iteration 296, the loss is 5.2052650843667285, parameters k is 14.904698629490719 and b is -71.05825591910671\n",
      "Iteration 297, the loss is 5.205244009430977, parameters k is 14.904465131467003 and b is -71.05786066218971\n",
      "Iteration 298, the loss is 5.205222934495233, parameters k is 14.904231633443286 and b is -71.05746540527271\n",
      "Iteration 299, the loss is 5.205201859559477, parameters k is 14.90399813541957 and b is -71.0570701483557\n",
      "Iteration 300, the loss is 5.205180784623729, parameters k is 14.903764637395854 and b is -71.0566748914387\n",
      "Iteration 301, the loss is 5.205159709687976, parameters k is 14.903531139372138 and b is -71.0562796345217\n",
      "Iteration 302, the loss is 5.2051386347522195, parameters k is 14.903297641348422 and b is -71.0558843776047\n",
      "Iteration 303, the loss is 5.205117559816474, parameters k is 14.903064143324706 and b is -71.0554891206877\n",
      "Iteration 304, the loss is 5.205096484880723, parameters k is 14.90283064530099 and b is -71.0550938637707\n",
      "Iteration 305, the loss is 5.205075409944963, parameters k is 14.902597147277273 and b is -71.05469860685369\n",
      "Iteration 306, the loss is 5.205054335009217, parameters k is 14.902363649253557 and b is -71.05430334993669\n",
      "Iteration 307, the loss is 5.205033260073468, parameters k is 14.90213015122984 and b is -71.05390809301969\n",
      "Iteration 308, the loss is 5.205014320981633, parameters k is 14.901896653206125 and b is -71.05351283610268\n",
      "Iteration 309, the loss is 5.204995405097893, parameters k is 14.901885566249604 and b is -71.05307805349399\n",
      "Iteration 310, the loss is 5.2049772972145325, parameters k is 14.901874479293083 and b is -71.0526432708853\n",
      "Iteration 311, the loss is 5.204959045252559, parameters k is 14.901640981269367 and b is -71.0522480139683\n",
      "Iteration 312, the loss is 5.204940129368818, parameters k is 14.901629894312846 and b is -71.0518132313596\n",
      "Iteration 313, the loss is 5.2049213343556, parameters k is 14.901618807356325 and b is -71.05137844875091\n",
      "Iteration 314, the loss is 5.204903769523479, parameters k is 14.901385309332609 and b is -71.05098319183391\n",
      "Iteration 315, the loss is 5.204884853639738, parameters k is 14.901374222376088 and b is -71.05054840922521\n",
      "Iteration 316, the loss is 5.204865937755998, parameters k is 14.901363135419567 and b is -71.05011362661652\n",
      "Iteration 317, the loss is 5.204847927535081, parameters k is 14.901352048463046 and b is -71.04967884400783\n",
      "Iteration 318, the loss is 5.204829577910664, parameters k is 14.90111855043933 and b is -71.04928358709083\n",
      "Iteration 319, the loss is 5.204810662026916, parameters k is 14.90110746348281 and b is -71.04884880448213\n",
      "Iteration 320, the loss is 5.204791964676139, parameters k is 14.901096376526288 and b is -71.04841402187344\n",
      "Iteration 321, the loss is 5.204774302181585, parameters k is 14.900862878502572 and b is -71.04801876495644\n",
      "Iteration 322, the loss is 5.2047553862978395, parameters k is 14.900851791546051 and b is -71.04758398234775\n",
      "Iteration 323, the loss is 5.204736470414097, parameters k is 14.90084070458953 and b is -71.04714919973905\n",
      "Iteration 324, the loss is 5.2047185578556165, parameters k is 14.90082961763301 and b is -71.04671441713036\n",
      "Iteration 325, the loss is 5.2047001105687665, parameters k is 14.900596119609293 and b is -71.04631916021336\n",
      "Iteration 326, the loss is 5.204681194685021, parameters k is 14.900585032652772 and b is -71.04588437760466\n",
      "Iteration 327, the loss is 5.204662594996681, parameters k is 14.900573945696252 and b is -71.04544959499597\n",
      "Iteration 328, the loss is 5.204644834839686, parameters k is 14.900340447672535 and b is -71.04505433807897\n",
      "Iteration 329, the loss is 5.204625918955943, parameters k is 14.900329360716015 and b is -71.04461955547028\n",
      "Iteration 330, the loss is 5.204607003072206, parameters k is 14.900318273759494 and b is -71.04418477286158\n",
      "Iteration 331, the loss is 5.2045891881761515, parameters k is 14.900307186802973 and b is -71.04374999025289\n",
      "Iteration 332, the loss is 5.20457064322687, parameters k is 14.900073688779257 and b is -71.04335473333589\n",
      "Iteration 333, the loss is 5.204551727343123, parameters k is 14.900062601822736 and b is -71.0429199507272\n",
      "Iteration 334, the loss is 5.204533225317226, parameters k is 14.900051514866215 and b is -71.0424851681185\n",
      "Iteration 335, the loss is 5.204515367497797, parameters k is 14.899818016842499 and b is -71.0420899112015\n",
      "Iteration 336, the loss is 5.204496451614051, parameters k is 14.899806929885978 and b is -71.04165512859281\n",
      "Iteration 337, the loss is 5.2044775357303035, parameters k is 14.899795842929457 and b is -71.04122034598412\n",
      "Iteration 338, the loss is 5.204459818496701, parameters k is 14.899784755972936 and b is -71.04078556337542\n",
      "Iteration 339, the loss is 5.20444117588497, parameters k is 14.89955125794922 and b is -71.04039030645842\n",
      "Iteration 340, the loss is 5.204422260001222, parameters k is 14.8995401709927 and b is -71.03995552384973\n",
      "Iteration 341, the loss is 5.20440385563776, parameters k is 14.899529084036178 and b is -71.03952074124103\n",
      "Iteration 342, the loss is 5.204385900155893, parameters k is 14.899295586012462 and b is -71.03912548432403\n",
      "Iteration 343, the loss is 5.204366984272153, parameters k is 14.899284499055941 and b is -71.03869070171534\n",
      "Iteration 344, the loss is 5.204348068388401, parameters k is 14.89927341209942 and b is -71.03825591910665\n",
      "Iteration 345, the loss is 5.204330448817239, parameters k is 14.8992623251429 and b is -71.03782113649795\n",
      "Iteration 346, the loss is 5.2043117085430755, parameters k is 14.899028827119183 and b is -71.03742587958095\n",
      "Iteration 347, the loss is 5.204292792659329, parameters k is 14.899017740162662 and b is -71.03699109697226\n",
      "Iteration 348, the loss is 5.2042744859583046, parameters k is 14.899006653206142 and b is -71.03655631436357\n",
      "Iteration 349, the loss is 5.204256432813998, parameters k is 14.898773155182425 and b is -71.03616105744656\n",
      "Iteration 350, the loss is 5.204237516930248, parameters k is 14.898762068225905 and b is -71.03572627483787\n",
      "Iteration 351, the loss is 5.2042186010465095, parameters k is 14.898750981269384 and b is -71.03529149222918\n",
      "Iteration 352, the loss is 5.2042010791377855, parameters k is 14.898739894312863 and b is -71.03485670962048\n",
      "Iteration 353, the loss is 5.2041822412011784, parameters k is 14.898506396289147 and b is -71.03446145270348\n",
      "Iteration 354, the loss is 5.204163325317435, parameters k is 14.898495309332626 and b is -71.03402667009479\n",
      "Iteration 355, the loss is 5.204145116278841, parameters k is 14.898484222376105 and b is -71.0335918874861\n",
      "Iteration 356, the loss is 5.204126965472096, parameters k is 14.898250724352389 and b is -71.0331966305691\n",
      "Iteration 357, the loss is 5.204108049588354, parameters k is 14.898239637395868 and b is -71.0327618479604\n",
      "Iteration 358, the loss is 5.204089153419913, parameters k is 14.898228550439347 and b is -71.03232706535171\n",
      "Iteration 359, the loss is 5.204071689743024, parameters k is 14.89799505241563 and b is -71.0319318084347\n",
      "Iteration 360, the loss is 5.204052773859279, parameters k is 14.89798396545911 and b is -71.03149702582601\n",
      "Iteration 361, the loss is 5.204033857975536, parameters k is 14.897972878502589 and b is -71.03106224321732\n",
      "Iteration 362, the loss is 5.204015746599384, parameters k is 14.897961791546068 and b is -71.03062746060863\n",
      "Iteration 363, the loss is 5.203997498130205, parameters k is 14.897728293522352 and b is -71.03023220369163\n",
      "Iteration 364, the loss is 5.203978582246458, parameters k is 14.897717206565831 and b is -71.02979742108293\n",
      "Iteration 365, the loss is 5.2039597837404505, parameters k is 14.89770611960931 and b is -71.02936263847424\n",
      "Iteration 366, the loss is 5.2039422224011265, parameters k is 14.897472621585594 and b is -71.02896738155724\n",
      "Iteration 367, the loss is 5.203923306517386, parameters k is 14.897461534629073 and b is -71.02853259894854\n",
      "Iteration 368, the loss is 5.203904390633637, parameters k is 14.897450447672552 and b is -71.02809781633985\n",
      "Iteration 369, the loss is 5.203886376919929, parameters k is 14.897439360716032 and b is -71.02766303373116\n",
      "Iteration 370, the loss is 5.203868030788305, parameters k is 14.897205862692315 and b is -71.02726777681416\n",
      "Iteration 371, the loss is 5.203849114904559, parameters k is 14.897194775735795 and b is -71.02683299420546\n",
      "Iteration 372, the loss is 5.203830414060996, parameters k is 14.897183688779274 and b is -71.02639821159677\n",
      "Iteration 373, the loss is 5.203812755059225, parameters k is 14.896950190755557 and b is -71.02600295467977\n",
      "Iteration 374, the loss is 5.203793839175485, parameters k is 14.896939103799037 and b is -71.02556817207108\n",
      "Iteration 375, the loss is 5.203774923291743, parameters k is 14.896928016842516 and b is -71.02513338946238\n",
      "Iteration 376, the loss is 5.203757007240471, parameters k is 14.896916929885995 and b is -71.02469860685369\n",
      "Iteration 377, the loss is 5.2037385634464055, parameters k is 14.896683431862279 and b is -71.02430334993669\n",
      "Iteration 378, the loss is 5.203719647562663, parameters k is 14.896672344905758 and b is -71.023868567328\n",
      "Iteration 379, the loss is 5.203701044381531, parameters k is 14.896661257949237 and b is -71.0234337847193\n",
      "Iteration 380, the loss is 5.2036832877173325, parameters k is 14.89642775992552 and b is -71.0230385278023\n",
      "Iteration 381, the loss is 5.203664371833588, parameters k is 14.896416672969 and b is -71.0226037451936\n",
      "Iteration 382, the loss is 5.203645455949845, parameters k is 14.896405586012479 and b is -71.02216896258491\n",
      "Iteration 383, the loss is 5.20362763756101, parameters k is 14.896394499055958 and b is -71.02173417997622\n",
      "Iteration 384, the loss is 5.2036090961045085, parameters k is 14.896161001032242 and b is -71.02133892305922\n",
      "Iteration 385, the loss is 5.203590180220766, parameters k is 14.896149914075721 and b is -71.02090414045053\n",
      "Iteration 386, the loss is 5.2035716747020695, parameters k is 14.8961388271192 and b is -71.02046935784183\n",
      "Iteration 387, the loss is 5.203553820375429, parameters k is 14.895905329095484 and b is -71.02007410092483\n",
      "Iteration 388, the loss is 5.203534904491691, parameters k is 14.895894242138963 and b is -71.01963931831614\n",
      "Iteration 389, the loss is 5.203515988607947, parameters k is 14.895883155182442 and b is -71.01920453570744\n",
      "Iteration 390, the loss is 5.203498267881544, parameters k is 14.895872068225922 and b is -71.01876975309875\n",
      "Iteration 391, the loss is 5.203479628762614, parameters k is 14.895638570202205 and b is -71.01837449618175\n",
      "Iteration 392, the loss is 5.2034607128788695, parameters k is 14.895627483245685 and b is -71.01793971357306\n",
      "Iteration 393, the loss is 5.203442305022621, parameters k is 14.895616396289164 and b is -71.01750493096436\n",
      "Iteration 394, the loss is 5.2034243530335385, parameters k is 14.895382898265447 and b is -71.01710967404736\n",
      "Iteration 395, the loss is 5.20340543714979, parameters k is 14.895371811308927 and b is -71.01667489143867\n",
      "Iteration 396, the loss is 5.2033865212660535, parameters k is 14.895360724352406 and b is -71.01624010882998\n",
      "Iteration 397, the loss is 5.203368898202091, parameters k is 14.895349637395885 and b is -71.01580532622128\n",
      "Iteration 398, the loss is 5.203350161420713, parameters k is 14.895116139372169 and b is -71.01541006930428\n",
      "Iteration 399, the loss is 5.203331245536968, parameters k is 14.895105052415648 and b is -71.01497528669559\n",
      "Iteration 400, the loss is 5.203312935343158, parameters k is 14.895093965459127 and b is -71.0145405040869\n",
      "Iteration 401, the loss is 5.203294885691637, parameters k is 14.89486046743541 and b is -71.01414524716989\n",
      "Iteration 402, the loss is 5.203275969807898, parameters k is 14.89484938047889 and b is -71.0137104645612\n",
      "Iteration 403, the loss is 5.203257053924153, parameters k is 14.894838293522369 and b is -71.0132756819525\n",
      "Iteration 404, the loss is 5.203239528522634, parameters k is 14.894827206565848 and b is -71.01284089934381\n",
      "Iteration 405, the loss is 5.203220694078822, parameters k is 14.894593708542132 and b is -71.01244564242681\n",
      "Iteration 406, the loss is 5.203201778195082, parameters k is 14.894582621585611 and b is -71.01201085981812\n",
      "Iteration 407, the loss is 5.2031835656637, parameters k is 14.89457153462909 and b is -71.01157607720943\n",
      "Iteration 408, the loss is 5.203165418349741, parameters k is 14.894338036605374 and b is -71.01118082029242\n",
      "Iteration 409, the loss is 5.203146502465999, parameters k is 14.894326949648853 and b is -71.01074603768373\n",
      "Iteration 410, the loss is 5.203127602804766, parameters k is 14.894315862692332 and b is -71.01031125507504\n",
      "Iteration 411, the loss is 5.203110142620661, parameters k is 14.894082364668616 and b is -71.00991599815804\n",
      "Iteration 412, the loss is 5.203091226736921, parameters k is 14.894071277712095 and b is -71.00948121554934\n",
      "Iteration 413, the loss is 5.2030723108531785, parameters k is 14.894060190755575 and b is -71.00904643294065\n",
      "Iteration 414, the loss is 5.2030541959842385, parameters k is 14.894049103799054 and b is -71.00861165033196\n",
      "Iteration 415, the loss is 5.203035951007842, parameters k is 14.893815605775337 and b is -71.00821639341495\n",
      "Iteration 416, the loss is 5.203017035124106, parameters k is 14.893804518818817 and b is -71.00778161080626\n",
      "Iteration 417, the loss is 5.20299823312531, parameters k is 14.893793431862296 and b is -71.00734682819757\n",
      "Iteration 418, the loss is 5.202980675278765, parameters k is 14.89355993383858 and b is -71.00695157128057\n",
      "Iteration 419, the loss is 5.202961759395025, parameters k is 14.893548846882059 and b is -71.00651678867187\n",
      "Iteration 420, the loss is 5.202942843511282, parameters k is 14.893537759925538 and b is -71.00608200606318\n",
      "Iteration 421, the loss is 5.202924826304785, parameters k is 14.893526672969017 and b is -71.00564722345449\n",
      "Iteration 422, the loss is 5.202906483665945, parameters k is 14.8932931749453 and b is -71.00525196653749\n",
      "Iteration 423, the loss is 5.2028875677822075, parameters k is 14.89328208798878 and b is -71.0048171839288\n",
      "Iteration 424, the loss is 5.202868863445848, parameters k is 14.893271001032259 and b is -71.0043824013201\n",
      "Iteration 425, the loss is 5.2028512079368685, parameters k is 14.893037503008543 and b is -71.0039871444031\n",
      "Iteration 426, the loss is 5.202832292053126, parameters k is 14.893026416052022 and b is -71.0035523617944\n",
      "Iteration 427, the loss is 5.202813376169384, parameters k is 14.893015329095501 and b is -71.00311757918571\n",
      "Iteration 428, the loss is 5.202795456625324, parameters k is 14.89300424213898 and b is -71.00268279657702\n",
      "Iteration 429, the loss is 5.202777016324047, parameters k is 14.892770744115264 and b is -71.00228753966002\n",
      "Iteration 430, the loss is 5.202758100440309, parameters k is 14.892759657158743 and b is -71.00185275705132\n",
      "Iteration 431, the loss is 5.2027394937663844, parameters k is 14.892748570202222 and b is -71.00141797444263\n",
      "Iteration 432, the loss is 5.202721740594976, parameters k is 14.892515072178506 and b is -71.00102271752563\n",
      "Iteration 433, the loss is 5.202702824711229, parameters k is 14.892503985221985 and b is -71.00058793491694\n",
      "Iteration 434, the loss is 5.202683908827484, parameters k is 14.892492898265465 and b is -71.00015315230824\n",
      "Iteration 435, the loss is 5.202666086945867, parameters k is 14.892481811308944 and b is -70.99971836969955\n",
      "Iteration 436, the loss is 5.202647548982148, parameters k is 14.892248313285227 and b is -70.99932311278255\n",
      "Iteration 437, the loss is 5.202628633098406, parameters k is 14.892237226328707 and b is -70.99888833017386\n",
      "Iteration 438, the loss is 5.202610124086926, parameters k is 14.892226139372186 and b is -70.99845354756516\n",
      "Iteration 439, the loss is 5.2025922732530745, parameters k is 14.89199264134847 and b is -70.99805829064816\n",
      "Iteration 440, the loss is 5.202573357369332, parameters k is 14.891981554391949 and b is -70.99762350803947\n",
      "Iteration 441, the loss is 5.202554441485591, parameters k is 14.891970467435428 and b is -70.99718872543077\n",
      "Iteration 442, the loss is 5.20253671726641, parameters k is 14.891959380478907 and b is -70.99675394282208\n",
      "Iteration 443, the loss is 5.202518081640255, parameters k is 14.89172588245519 and b is -70.99635868590508\n",
      "Iteration 444, the loss is 5.202499165756514, parameters k is 14.89171479549867 and b is -70.99592390329639\n",
      "Iteration 445, the loss is 5.202480754407467, parameters k is 14.891703708542149 and b is -70.9954891206877\n",
      "Iteration 446, the loss is 5.20246333514034, parameters k is 14.891470210518433 and b is -70.99509386377069\n",
      "Iteration 447, the loss is 5.20244649868249, parameters k is 14.89170860972792 and b is -70.9946195554703\n",
      "Iteration 448, the loss is 5.202425423746739, parameters k is 14.891475111704203 and b is -70.99422429855329\n",
      "Iteration 449, the loss is 5.2024087933072005, parameters k is 14.891241613680487 and b is -70.99382904163629\n",
      "Iteration 450, the loss is 5.20239116802176, parameters k is 14.891480012889973 and b is -70.99335473333589\n",
      "Iteration 451, the loss is 5.202370093086011, parameters k is 14.891246514866257 and b is -70.99295947641889\n",
      "Iteration 452, the loss is 5.202354251474052, parameters k is 14.89101301684254 and b is -70.99256421950189\n",
      "Iteration 453, the loss is 5.202335837361036, parameters k is 14.891251416052027 and b is -70.99208991120149\n",
      "Iteration 454, the loss is 5.202314762425284, parameters k is 14.89101791802831 and b is -70.99169465428449\n",
      "Iteration 455, the loss is 5.202299709640917, parameters k is 14.890784420004595 and b is -70.99129939736748\n",
      "Iteration 456, the loss is 5.202280506700306, parameters k is 14.891022819214081 and b is -70.99082508906709\n",
      "Iteration 457, the loss is 5.202259431764558, parameters k is 14.890789321190365 and b is -70.99042983215008\n",
      "Iteration 458, the loss is 5.202245167807777, parameters k is 14.890555823166649 and b is -70.99003457523308\n",
      "Iteration 459, the loss is 5.20222517603958, parameters k is 14.890794222376135 and b is -70.98956026693268\n",
      "Iteration 460, the loss is 5.202204101103829, parameters k is 14.890560724352419 and b is -70.98916501001568\n",
      "Iteration 461, the loss is 5.202190625974637, parameters k is 14.890327226328703 and b is -70.98876975309868\n",
      "Iteration 462, the loss is 5.202169845378856, parameters k is 14.890565625538189 and b is -70.98829544479828\n",
      "Iteration 463, the loss is 5.20214926493072, parameters k is 14.890332127514473 and b is -70.98790018788128\n",
      "Iteration 464, the loss is 5.202135589653877, parameters k is 14.890570526723959 and b is -70.98742587958088\n",
      "Iteration 465, the loss is 5.202114514718125, parameters k is 14.890337028700243 and b is -70.98703062266388\n",
      "Iteration 466, the loss is 5.20209472309758, parameters k is 14.890103530676527 and b is -70.98663536574688\n",
      "Iteration 467, the loss is 5.202080258993156, parameters k is 14.890341929886013 and b is -70.98616105744648\n",
      "Iteration 468, the loss is 5.202059184057389, parameters k is 14.890108431862297 and b is -70.98576580052948\n",
      "Iteration 469, the loss is 5.202040181264437, parameters k is 14.88987493383858 and b is -70.98537054361248\n",
      "Iteration 470, the loss is 5.202024928332414, parameters k is 14.890113333048067 and b is -70.98489623531208\n",
      "Iteration 471, the loss is 5.202003853396667, parameters k is 14.88987983502435 and b is -70.98450097839508\n",
      "Iteration 472, the loss is 5.201985639431301, parameters k is 14.889646337000634 and b is -70.98410572147807\n",
      "Iteration 473, the loss is 5.201969597671696, parameters k is 14.88988473621012 and b is -70.98363141317768\n",
      "Iteration 474, the loss is 5.20194852273594, parameters k is 14.889651238186405 and b is -70.98323615626067\n",
      "Iteration 475, the loss is 5.201931097598152, parameters k is 14.889417740162688 and b is -70.98284089934367\n",
      "Iteration 476, the loss is 5.201914267010967, parameters k is 14.889656139372175 and b is -70.98236659104327\n",
      "Iteration 477, the loss is 5.2018931920752145, parameters k is 14.889422641348458 and b is -70.98197133412627\n",
      "Iteration 478, the loss is 5.201876555765006, parameters k is 14.889189143324742 and b is -70.98157607720927\n",
      "Iteration 479, the loss is 5.201858936350231, parameters k is 14.889427542534229 and b is -70.98110176890887\n",
      "Iteration 480, the loss is 5.2018383108336215, parameters k is 14.889194044510512 and b is -70.98070651199187\n",
      "Iteration 481, the loss is 5.2018210496511, parameters k is 14.889210032652805 and b is -70.98027172938318\n",
      "Iteration 482, the loss is 5.201802569916487, parameters k is 14.888976534629089 and b is -70.97987647246617\n",
      "Iteration 483, the loss is 5.201783640762738, parameters k is 14.888992522771382 and b is -70.97944168985748\n",
      "Iteration 484, the loss is 5.201766351188579, parameters k is 14.889008510913674 and b is -70.97900690724879\n",
      "Iteration 485, the loss is 5.201747899845596, parameters k is 14.888775012889958 and b is -70.97861165033179\n",
      "Iteration 486, the loss is 5.2017289706918435, parameters k is 14.888791001032251 and b is -70.97817686772309\n",
      "Iteration 487, the loss is 5.201711652726057, parameters k is 14.888806989174544 and b is -70.9777420851144\n",
      "Iteration 488, the loss is 5.2016932297747065, parameters k is 14.888573491150828 and b is -70.9773468281974\n",
      "Iteration 489, the loss is 5.201674300620954, parameters k is 14.88858947929312 and b is -70.9769120455887\n",
      "Iteration 490, the loss is 5.201656954263535, parameters k is 14.888605467435413 and b is -70.97647726298001\n",
      "Iteration 491, the loss is 5.201638559703819, parameters k is 14.888371969411697 and b is -70.97608200606301\n",
      "Iteration 492, the loss is 5.201619630550068, parameters k is 14.88838795755399 and b is -70.97564722345432\n",
      "Iteration 493, the loss is 5.201602255801014, parameters k is 14.888403945696282 and b is -70.97521244084562\n",
      "Iteration 494, the loss is 5.201583889632931, parameters k is 14.888170447672566 and b is -70.97481718392862\n",
      "Iteration 495, the loss is 5.201564960479176, parameters k is 14.888186435814859 and b is -70.97438240131993\n",
      "Iteration 496, the loss is 5.2015475573384915, parameters k is 14.888202423957152 and b is -70.97394761871124\n",
      "Iteration 497, the loss is 5.20152921956204, parameters k is 14.887968925933436 and b is -70.97355236179423\n",
      "Iteration 498, the loss is 5.201510290408294, parameters k is 14.887984914075728 and b is -70.97311757918554\n",
      "Iteration 499, the loss is 5.201492858875965, parameters k is 14.888000902218021 and b is -70.97268279657685\n"
     ]
    }
   ],
   "source": [
    "#initialized parameters\n",
    "\n",
    "k = random.random() * 200 - 100  # -100 100\n",
    "b = random.random() * 200 - 100  # -100 100\n",
    "\n",
    "learning_rate = 0.01\n",
    "\n",
    "iteration_num = 500 \n",
    "losses = []\n",
    "for i in range(iteration_num):\n",
    "    \n",
    "    price_use_current_parameters = [price(r, k, b) for r in X_rm]  # \\hat{y}\n",
    "    \n",
    "    current_loss = loss(y, price_use_current_parameters)\n",
    "    losses.append(current_loss)\n",
    "    print(\"Iteration {}, the loss is {}, parameters k is {} and b is {}\".format(i,current_loss,k,b))\n",
    "    \n",
    "    k_gradient = partial_derivative_k(X_rm, y, price_use_current_parameters)\n",
    "    b_gradient = partial_derivative_b(y, price_use_current_parameters)\n",
    "    \n",
    "    k = k + (-1 * k_gradient) * learning_rate\n",
    "    b = b + (-1 * b_gradient) * learning_rate\n",
    "best_k = k\n",
    "best_b = b"
   ]
  },
  {
   "cell_type": "code",
   "execution_count": 147,
   "metadata": {},
   "outputs": [
    {
     "data": {
      "text/plain": [
       "[<matplotlib.lines.Line2D at 0x7f3345cf9c50>]"
      ]
     },
     "execution_count": 147,
     "metadata": {},
     "output_type": "execute_result"
    },
    {
     "data": {
      "image/png": "[encoded data removed]",
      "text/plain": [
       "<Figure size 432x288 with 1 Axes>"
      ]
     },
     "metadata": {
      "needs_background": "light"
     },
     "output_type": "display_data"
    }
   ],
   "source": [
    "plt.plot(list(range(iteration_num)),losses)"
   ]
  },
  {
   "cell_type": "code",
   "execution_count": 148,
   "metadata": {},
   "outputs": [
    {
     "data": {
      "text/plain": [
       "<matplotlib.collections.PathCollection at 0x7f3345c55110>"
      ]
     },
     "execution_count": 148,
     "metadata": {},
     "output_type": "execute_result"
    },
    {
     "data": {
      "image/png": "[encoded data removed]",
      "text/plain": [
       "<Figure size 432x288 with 1 Axes>"
      ]
     },
     "metadata": {
      "needs_background": "light"
     },
     "output_type": "display_data"
    }
   ],
   "source": [
    "price_use_best_parameters = [price(r, best_k, best_b) for r in X_rm]\n",
    "\n",
    "plt.scatter(X_rm,y)\n",
    "plt.scatter(X_rm,price_use_current_parameters)"
   ]
  },
  {
   "cell_type": "markdown",
   "metadata": {},
   "source": [
    "### 一开始不能收敛，改了learning rate 和迭代次数，把learning rate改大，迭代次数改多，收敛了，可以看到绝对值损失函数受误差影响比较大，所以收敛比较慢"
   ]
  },
  {
   "cell_type": "markdown",
   "metadata": {},
   "source": [
    "<评阅点>\n",
    "+ 是否将Loss改成了“绝对值”(3')\n",
    "+ 是否完成了偏导的重新定义(5')\n",
    "+ 新的模型Loss是否能够收敛 (11’)"
   ]
  },
  {
   "cell_type": "markdown",
   "metadata": {},
   "source": []
  }
 ],
 "metadata": {
  "kernelspec": {
   "display_name": "Python 3",
   "language": "python",
   "name": "python3"
  },
  "language_info": {
   "codemirror_mode": {
    "name": "ipython",
    "version": 3
   },
   "file_extension": ".py",
   "mimetype": "text/x-python",
   "name": "python",
   "nbconvert_exporter": "python",
   "pygments_lexer": "ipython3",
   "version": "3.7.4"
  }
 },
 "nbformat": 4,
 "nbformat_minor": 2
}
