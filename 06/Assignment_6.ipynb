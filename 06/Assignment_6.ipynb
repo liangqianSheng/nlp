{
 "cells": [
  {
   "cell_type": "markdown",
   "metadata": {
    "colab_type": "text",
    "id": "KfEjoax1njNa"
   },
   "source": [
    "# Assignment 6"
   ]
  },
  {
   "cell_type": "markdown",
   "metadata": {
    "colab_type": "text",
    "id": "oglxapwhnjNc"
   },
   "source": [
    "### 1.复习上课内容以及复现课程代码"
   ]
  },
  {
   "cell_type": "markdown",
   "metadata": {
    "colab_type": "text",
    "id": "Vj_NfMVcnjNe"
   },
   "source": [
    "在本部分，你需要复习上课内容和课程代码后，自己复现课程代码。"
   ]
  },
  {
   "cell_type": "markdown",
   "metadata": {
    "colab_type": "text",
    "id": "5dAokfuJnjNf"
   },
   "source": [
    "### 2.回答以下理论题目?"
   ]
  },
  {
   "cell_type": "markdown",
   "metadata": {
    "colab_type": "text",
    "id": "To_jLAhLnjNg"
   },
   "source": [
    "#### 1. Compared to FNN, what is the biggest advantage of CNN?"
   ]
  },
  {
   "cell_type": "markdown",
   "metadata": {},
   "source": [
    "CNN needs fewer parameters and can share parameters between input units. FNN requires a matrix of large numbers of parameters with a separate parameter describing the interaction between each input unit and each output unit."
   ]
  },
  {
   "cell_type": "markdown",
   "metadata": {
    "colab_type": "text",
    "id": "9JVsUiuBnjNh"
   },
   "source": [
    "#### 2. Suppose your input is a 100 by 100 gray image, and you use a convolutional layer with 50 filters that are each 5x5. How many parameters does this hidden layer have (including the bias parameters)? "
   ]
  },
  {
   "cell_type": "markdown",
   "metadata": {},
   "source": [
    "50X5X5X2"
   ]
  },
  {
   "cell_type": "markdown",
   "metadata": {
    "colab_type": "text",
    "id": "zmT83dIsnjNi"
   },
   "source": [
    "#### 3. What are \"local invariant\" and \"parameter sharing\" ?"
   ]
  },
  {
   "cell_type": "markdown",
   "metadata": {},
   "source": [
    "Parameter sharing refers to using the same parameter for more than one function in a model. In CNN, each member of the kernel is used at every position of the input."
   ]
  },
  {
   "cell_type": "markdown",
   "metadata": {
    "colab_type": "text",
    "id": "cgmR8fQ7njNj"
   },
   "source": [
    "#### 4. Why we use batch normalization ?"
   ]
  },
  {
   "cell_type": "markdown",
   "metadata": {},
   "source": [
    "To reparametrize very deep network so that the statistics of the feature map remain the same regardless of spatial location."
   ]
  },
  {
   "cell_type": "markdown",
   "metadata": {
    "colab_type": "text",
    "id": "kWnx6uQgnjNk"
   },
   "source": [
    "#### 5. What problem does dropout try to solve ?"
   ]
  },
  {
   "cell_type": "markdown",
   "metadata": {},
   "source": [
    "Overfitting."
   ]
  },
  {
   "cell_type": "markdown",
   "metadata": {
    "colab_type": "text",
    "id": "KAr6LTKsnjNl"
   },
   "source": [
    "#### 6.  Is the following statement correct and why ? \"Because pooling layers do not have parameters, they do not affect  the backpropagation(derivatives) calculation\""
   ]
  },
  {
   "cell_type": "markdown",
   "metadata": {},
   "source": [
    "Wrong. Because pooling layers will cause some information loss which will affect the bp calculation."
   ]
  },
  {
   "cell_type": "markdown",
   "metadata": {
    "colab_type": "text",
    "id": "izIK5aYpnjNm"
   },
   "source": [
    "### 3. 实践题"
   ]
  },
  {
   "cell_type": "markdown",
   "metadata": {
    "colab_type": "text",
    "id": "iyrQJfzSnjNn"
   },
   "source": [
    "#### 3.1 In the first session of the practical part, you will implement an image classification model using any deep learning libraries that you are familiar with,  which means, except for tensorflow and keras, you can also use pytorch/caffe/... .  The dataset used in this session is the cifar10 which contains 50000 color (RGB) images, each with size 32x32x3.  All 50000 images are classified into ten categories. "
   ]
  },
  {
   "cell_type": "code",
   "execution_count": 0,
   "metadata": {
    "colab": {},
    "colab_type": "code",
    "id": "SNkhazkInjNo"
   },
   "outputs": [],
   "source": [
    "\n",
    "\n",
    "import tensorflow as tf\n",
    "import tensorflow.keras as keras\n"
   ]
  },
  {
   "cell_type": "code",
   "execution_count": 0,
   "metadata": {
    "colab": {},
    "colab_type": "code",
    "id": "Lh09Q9eanjNs"
   },
   "outputs": [],
   "source": [
    "from tensorflow.keras.models import Sequential\n",
    "from tensorflow.keras.layers import Dense, Dropout, Activation, Flatten\n",
    "from tensorflow.keras.layers import Conv2D, MaxPooling2D\n",
    "\n",
    "\n",
    "import matplotlib\n",
    "%matplotlib inline\n",
    "import matplotlib.pyplot as plt\n",
    "from tensorflow.keras.preprocessing.image import ImageDataGenerator\n",
    "\n",
    "\n",
    "classes_num = 10\n",
    "batch_size = 20\n",
    "epochs_num = 50"
   ]
  },
  {
   "cell_type": "markdown",
   "metadata": {
    "colab_type": "text",
    "id": "6Ky4RJ6GnjNv"
   },
   "source": [
    "Load the dataset. "
   ]
  },
  {
   "cell_type": "code",
   "execution_count": 4,
   "metadata": {
    "colab": {
     "base_uri": "https://localhost:8080/",
     "height": 51
    },
    "colab_type": "code",
    "id": "2R2cO0pznjNw",
    "outputId": "135760e1-ea1e-4b1a-bacf-99da21349282"
   },
   "outputs": [
    {
     "name": "stdout",
     "output_type": "stream",
     "text": [
      "Downloading data from https://www.cs.toronto.edu/~kriz/cifar-10-python.tar.gz\n",
      "170500096/170498071 [==============================] - 4s 0us/step\n"
     ]
    }
   ],
   "source": [
    "(x_train,y_train),(x_test,y_test) = tf.keras.datasets.cifar10.load_data()"
   ]
  },
  {
   "cell_type": "code",
   "execution_count": 5,
   "metadata": {
    "colab": {
     "base_uri": "https://localhost:8080/",
     "height": 211
    },
    "colab_type": "code",
    "id": "rS5bWEUAnjNz",
    "outputId": "33b96065-2ca8-433f-8c3f-73dcdee3a0a2"
   },
   "outputs": [
    {
     "data": {
      "image/png": "[encoded data removed]",
      "text/plain": [
       "<Figure size 432x288 with 10 Axes>"
      ]
     },
     "metadata": {
      "tags": []
     },
     "output_type": "display_data"
    }
   ],
   "source": [
    "for i in range(1,11):\n",
    "    plt.subplot(2,5,i)\n",
    "    plt.imshow(x_train[i-1])\n",
    "    plt.text(3,10,str(y_train[i-1]))\n",
    "    plt.xticks([])\n",
    "    plt.yticks([])\n",
    "plt.show()"
   ]
  },
  {
   "cell_type": "markdown",
   "metadata": {
    "colab_type": "text",
    "id": "R3jy7bjKnjN3"
   },
   "source": [
    "##### It is your time to build your model. Try your best to build a model with good performance on the test set."
   ]
  },
  {
   "cell_type": "code",
   "execution_count": 6,
   "metadata": {
    "colab": {
     "base_uri": "https://localhost:8080/",
     "height": 34
    },
    "colab_type": "code",
    "id": "l7t8nOrBnjN3",
    "outputId": "12e0af38-7a02-429e-9d6b-7ac0e74ae164"
   },
   "outputs": [
    {
     "data": {
      "text/plain": [
       "(10000, 32, 32, 3)"
      ]
     },
     "execution_count": 6,
     "metadata": {
      "tags": []
     },
     "output_type": "execute_result"
    }
   ],
   "source": [
    "x_test.shape\n"
   ]
  },
  {
   "cell_type": "code",
   "execution_count": 7,
   "metadata": {
    "colab": {
     "base_uri": "https://localhost:8080/",
     "height": 34
    },
    "colab_type": "code",
    "id": "7AJ96HSxnjN6",
    "outputId": "3940e999-08c1-4235-f4a5-28c050103372"
   },
   "outputs": [
    {
     "data": {
      "text/plain": [
       "(50000, 32, 32, 3)"
      ]
     },
     "execution_count": 7,
     "metadata": {
      "tags": []
     },
     "output_type": "execute_result"
    }
   ],
   "source": [
    "x_train.shape"
   ]
  },
  {
   "cell_type": "code",
   "execution_count": 0,
   "metadata": {
    "colab": {},
    "colab_type": "code",
    "id": "z-eiDcyYnjN8"
   },
   "outputs": [],
   "source": [
    "from tensorflow import keras"
   ]
  },
  {
   "cell_type": "code",
   "execution_count": 0,
   "metadata": {
    "colab": {},
    "colab_type": "code",
    "id": "rja0Ig27njN_"
   },
   "outputs": [],
   "source": [
    "def quality_classify_model():\n",
    "    model = Sequential()\n",
    "    model.add(Conv2D(32, (3, 3), padding='same', input_shape=(32,32,3))) # 卷积层\n",
    "    model.add(Activation('relu')) # 激活函数\n",
    "    model.add(MaxPooling2D(pool_size=(2, 2))) # 最大池化\n",
    "    model.add(Conv2D(32, (3, 3)))\n",
    "    model.add(Activation('relu'))\n",
    "    model.add(MaxPooling2D(pool_size=(2, 2)))\n",
    "    model.add(Conv2D(64, (3, 3), padding='same'))\n",
    "    model.add(Activation('relu'))\n",
    "    model.add(MaxPooling2D(pool_size=(2, 2)))\n",
    "\n",
    "    model.add(Flatten()) # 全连接层\n",
    "    model.add(Dense(64))\n",
    "    model.add(Activation('relu'))\n",
    "    model.add(Dropout(0.5)) # 随机抛弃一半\n",
    "    model.add(Dense(classes_num))\n",
    "    model.add(Activation('softmax'))\n",
    "\n",
    "    # 编译模型\n",
    "    opt = keras.optimizers.RMSprop(lr=0.0001, decay=1e-6)\n",
    "    model.compile(loss='categorical_crossentropy', optimizer=opt, metrics=['accuracy'])\n",
    "    return model"
   ]
  },
  {
   "cell_type": "code",
   "execution_count": 10,
   "metadata": {
    "colab": {
     "base_uri": "https://localhost:8080/",
     "height": 1000
    },
    "colab_type": "code",
    "id": "kEXgi6UMnjOB",
    "outputId": "de06e271-5ea5-4f49-d6e7-5aff587fea66"
   },
   "outputs": [
    {
     "name": "stdout",
     "output_type": "stream",
     "text": [
      "WARNING:tensorflow:From /usr/local/lib/python3.6/dist-packages/tensorflow_core/python/ops/resource_variable_ops.py:1630: calling BaseResourceVariable.__init__ (from tensorflow.python.ops.resource_variable_ops) with constraint is deprecated and will be removed in a future version.\n",
      "Instructions for updating:\n",
      "If using Keras pass *_constraint arguments to layers.\n",
      "Train on 50000 samples, validate on 10000 samples\n",
      "Epoch 1/50\n",
      "50000/50000 [==============================] - 11s 225us/sample - loss: 2.1550 - acc: 0.1970 - val_loss: 1.9611 - val_acc: 0.3179\n",
      "Epoch 2/50\n",
      "50000/50000 [==============================] - 5s 99us/sample - loss: 1.9384 - acc: 0.2910 - val_loss: 1.7655 - val_acc: 0.3881\n",
      "Epoch 3/50\n",
      "50000/50000 [==============================] - 5s 100us/sample - loss: 1.8154 - acc: 0.3336 - val_loss: 1.6890 - val_acc: 0.4061\n",
      "Epoch 4/50\n",
      "50000/50000 [==============================] - 5s 97us/sample - loss: 1.7254 - acc: 0.3671 - val_loss: 1.5605 - val_acc: 0.4481\n",
      "Epoch 5/50\n",
      "50000/50000 [==============================] - 5s 100us/sample - loss: 1.6652 - acc: 0.3894 - val_loss: 1.5461 - val_acc: 0.4523\n",
      "Epoch 6/50\n",
      "50000/50000 [==============================] - 5s 100us/sample - loss: 1.6198 - acc: 0.4108 - val_loss: 1.4635 - val_acc: 0.4781\n",
      "Epoch 7/50\n",
      "50000/50000 [==============================] - 5s 101us/sample - loss: 1.5762 - acc: 0.4252 - val_loss: 1.4422 - val_acc: 0.4878\n",
      "Epoch 8/50\n",
      "50000/50000 [==============================] - 5s 100us/sample - loss: 1.5406 - acc: 0.4406 - val_loss: 1.4022 - val_acc: 0.4968\n",
      "Epoch 9/50\n",
      "50000/50000 [==============================] - 5s 100us/sample - loss: 1.5165 - acc: 0.4528 - val_loss: 1.3744 - val_acc: 0.5154\n",
      "Epoch 10/50\n",
      "50000/50000 [==============================] - 5s 100us/sample - loss: 1.4840 - acc: 0.4636 - val_loss: 1.4049 - val_acc: 0.4951\n",
      "Epoch 11/50\n",
      "50000/50000 [==============================] - 5s 101us/sample - loss: 1.4605 - acc: 0.4729 - val_loss: 1.3393 - val_acc: 0.5222\n",
      "Epoch 12/50\n",
      "50000/50000 [==============================] - 5s 98us/sample - loss: 1.4402 - acc: 0.4848 - val_loss: 1.3176 - val_acc: 0.5245\n",
      "Epoch 13/50\n",
      "50000/50000 [==============================] - 5s 99us/sample - loss: 1.4198 - acc: 0.4903 - val_loss: 1.2898 - val_acc: 0.5373\n",
      "Epoch 14/50\n",
      "50000/50000 [==============================] - 5s 101us/sample - loss: 1.3978 - acc: 0.4979 - val_loss: 1.2730 - val_acc: 0.5472\n",
      "Epoch 15/50\n",
      "50000/50000 [==============================] - 5s 100us/sample - loss: 1.3801 - acc: 0.5048 - val_loss: 1.2510 - val_acc: 0.5570\n",
      "Epoch 16/50\n",
      "50000/50000 [==============================] - 5s 98us/sample - loss: 1.3635 - acc: 0.5119 - val_loss: 1.2767 - val_acc: 0.5480\n",
      "Epoch 17/50\n",
      "50000/50000 [==============================] - 5s 101us/sample - loss: 1.3480 - acc: 0.5193 - val_loss: 1.2611 - val_acc: 0.5576\n",
      "Epoch 18/50\n",
      "50000/50000 [==============================] - 5s 100us/sample - loss: 1.3323 - acc: 0.5262 - val_loss: 1.2572 - val_acc: 0.5591\n",
      "Epoch 19/50\n",
      "50000/50000 [==============================] - 5s 101us/sample - loss: 1.3161 - acc: 0.5322 - val_loss: 1.2448 - val_acc: 0.5481\n",
      "Epoch 20/50\n",
      "50000/50000 [==============================] - 5s 98us/sample - loss: 1.3025 - acc: 0.5378 - val_loss: 1.2229 - val_acc: 0.5619\n",
      "Epoch 21/50\n",
      "50000/50000 [==============================] - 5s 100us/sample - loss: 1.2920 - acc: 0.5417 - val_loss: 1.1772 - val_acc: 0.5921\n",
      "Epoch 22/50\n",
      "50000/50000 [==============================] - 5s 99us/sample - loss: 1.2768 - acc: 0.5465 - val_loss: 1.1970 - val_acc: 0.5813\n",
      "Epoch 23/50\n",
      "50000/50000 [==============================] - 5s 101us/sample - loss: 1.2603 - acc: 0.5536 - val_loss: 1.1359 - val_acc: 0.6042\n",
      "Epoch 24/50\n",
      "50000/50000 [==============================] - 5s 98us/sample - loss: 1.2445 - acc: 0.5601 - val_loss: 1.1372 - val_acc: 0.6012\n",
      "Epoch 25/50\n",
      "50000/50000 [==============================] - 5s 101us/sample - loss: 1.2393 - acc: 0.5633 - val_loss: 1.1458 - val_acc: 0.5946\n",
      "Epoch 26/50\n",
      "50000/50000 [==============================] - 5s 100us/sample - loss: 1.2267 - acc: 0.5659 - val_loss: 1.1100 - val_acc: 0.6095\n",
      "Epoch 27/50\n",
      "50000/50000 [==============================] - 5s 99us/sample - loss: 1.2137 - acc: 0.5718 - val_loss: 1.1534 - val_acc: 0.6010\n",
      "Epoch 28/50\n",
      "50000/50000 [==============================] - 5s 99us/sample - loss: 1.1986 - acc: 0.5755 - val_loss: 1.1145 - val_acc: 0.6111\n",
      "Epoch 29/50\n",
      "50000/50000 [==============================] - 5s 100us/sample - loss: 1.1874 - acc: 0.5796 - val_loss: 1.0648 - val_acc: 0.6276\n",
      "Epoch 30/50\n",
      "50000/50000 [==============================] - 5s 99us/sample - loss: 1.1758 - acc: 0.5859 - val_loss: 1.0709 - val_acc: 0.6277\n",
      "Epoch 31/50\n",
      "50000/50000 [==============================] - 5s 100us/sample - loss: 1.1654 - acc: 0.5926 - val_loss: 1.0892 - val_acc: 0.6189\n",
      "Epoch 32/50\n",
      "50000/50000 [==============================] - 5s 99us/sample - loss: 1.1556 - acc: 0.5906 - val_loss: 1.0819 - val_acc: 0.6198\n",
      "Epoch 33/50\n",
      "50000/50000 [==============================] - 5s 99us/sample - loss: 1.1451 - acc: 0.5978 - val_loss: 1.0591 - val_acc: 0.6281\n",
      "Epoch 34/50\n",
      "50000/50000 [==============================] - 5s 98us/sample - loss: 1.1354 - acc: 0.5989 - val_loss: 1.0322 - val_acc: 0.6429\n",
      "Epoch 35/50\n",
      "50000/50000 [==============================] - 5s 100us/sample - loss: 1.1347 - acc: 0.6021 - val_loss: 1.1752 - val_acc: 0.5759\n",
      "Epoch 36/50\n",
      "50000/50000 [==============================] - 5s 99us/sample - loss: 1.1164 - acc: 0.6072 - val_loss: 1.0314 - val_acc: 0.6392\n",
      "Epoch 37/50\n",
      "50000/50000 [==============================] - 5s 98us/sample - loss: 1.1097 - acc: 0.6082 - val_loss: 1.0439 - val_acc: 0.6394\n",
      "Epoch 38/50\n",
      "50000/50000 [==============================] - 5s 101us/sample - loss: 1.1013 - acc: 0.6115 - val_loss: 1.0104 - val_acc: 0.6465\n",
      "Epoch 39/50\n",
      "50000/50000 [==============================] - 5s 99us/sample - loss: 1.0917 - acc: 0.6157 - val_loss: 1.0287 - val_acc: 0.6406\n",
      "Epoch 40/50\n",
      "50000/50000 [==============================] - 5s 100us/sample - loss: 1.0833 - acc: 0.6189 - val_loss: 0.9898 - val_acc: 0.6549\n",
      "Epoch 41/50\n",
      "50000/50000 [==============================] - 5s 102us/sample - loss: 1.0770 - acc: 0.6206 - val_loss: 1.0183 - val_acc: 0.6449\n",
      "Epoch 42/50\n",
      "50000/50000 [==============================] - 5s 98us/sample - loss: 1.0704 - acc: 0.6229 - val_loss: 1.0762 - val_acc: 0.6360\n",
      "Epoch 43/50\n",
      "50000/50000 [==============================] - 5s 100us/sample - loss: 1.0642 - acc: 0.6262 - val_loss: 1.0360 - val_acc: 0.6413\n",
      "Epoch 44/50\n",
      "50000/50000 [==============================] - 5s 100us/sample - loss: 1.0569 - acc: 0.6281 - val_loss: 0.9779 - val_acc: 0.6609\n",
      "Epoch 45/50\n",
      "50000/50000 [==============================] - 5s 99us/sample - loss: 1.0444 - acc: 0.6342 - val_loss: 0.9873 - val_acc: 0.6553\n",
      "Epoch 46/50\n",
      "50000/50000 [==============================] - 5s 98us/sample - loss: 1.0422 - acc: 0.6349 - val_loss: 0.9711 - val_acc: 0.6569\n",
      "Epoch 47/50\n",
      "50000/50000 [==============================] - 5s 100us/sample - loss: 1.0322 - acc: 0.6360 - val_loss: 0.9710 - val_acc: 0.6613\n",
      "Epoch 48/50\n",
      "50000/50000 [==============================] - 5s 99us/sample - loss: 1.0295 - acc: 0.6384 - val_loss: 0.9710 - val_acc: 0.6654\n",
      "Epoch 49/50\n",
      "50000/50000 [==============================] - 5s 99us/sample - loss: 1.0222 - acc: 0.6408 - val_loss: 0.9710 - val_acc: 0.6579\n",
      "Epoch 50/50\n",
      "50000/50000 [==============================] - 5s 102us/sample - loss: 1.0161 - acc: 0.6434 - val_loss: 0.9731 - val_acc: 0.6602\n"
     ]
    }
   ],
   "source": [
    "    # 多分类标签生成\n",
    "    y_train = keras.utils.to_categorical(y_train, classes_num)\n",
    "    y_test = keras.utils.to_categorical(y_test, classes_num)\n",
    "    # 生成训练数据\n",
    "    x_train = x_train.astype('float32')\n",
    "    x_test = x_test.astype('float32')\n",
    "    x_train /= 255\n",
    "    x_test /= 255\n",
    "    \n",
    "    # 开始训练\n",
    "    model = quality_classify_model()\n",
    "    hist = model.fit(x_train, y_train, batch_size=64, epochs=epochs_num, validation_data=(x_test, y_test), shuffle=True)\n"
   ]
  },
  {
   "cell_type": "code",
   "execution_count": 11,
   "metadata": {
    "colab": {
     "base_uri": "https://localhost:8080/",
     "height": 105
    },
    "colab_type": "code",
    "id": "11HDlhiAnjOD",
    "outputId": "8615cacc-60fc-4599-e017-3f0595155b81"
   },
   "outputs": [
    {
     "name": "stdout",
     "output_type": "stream",
     "text": [
      "train acc:\n",
      "[0.19698, 0.29104, 0.3336, 0.36708, 0.38936, 0.41076, 0.42524, 0.4406, 0.45278, 0.46362, 0.47286, 0.48482, 0.49028, 0.49794, 0.50484, 0.5119, 0.51932, 0.52618, 0.53224, 0.53778, 0.54172, 0.54648, 0.55364, 0.56006, 0.56332, 0.56592, 0.57178, 0.57548, 0.57962, 0.58586, 0.59262, 0.59062, 0.59778, 0.59888, 0.6021, 0.60716, 0.60822, 0.6115, 0.61568, 0.61886, 0.62058, 0.62288, 0.62616, 0.6281, 0.63418, 0.6349, 0.63598, 0.63844, 0.6408, 0.64338]\n",
      "validation acc:\n",
      "[0.3179, 0.3881, 0.4061, 0.4481, 0.4523, 0.4781, 0.4878, 0.4968, 0.5154, 0.4951, 0.5222, 0.5245, 0.5373, 0.5472, 0.557, 0.548, 0.5576, 0.5591, 0.5481, 0.5619, 0.5921, 0.5813, 0.6042, 0.6012, 0.5946, 0.6095, 0.601, 0.6111, 0.6276, 0.6277, 0.6189, 0.6198, 0.6281, 0.6429, 0.5759, 0.6392, 0.6394, 0.6465, 0.6406, 0.6549, 0.6449, 0.636, 0.6413, 0.6609, 0.6553, 0.6569, 0.6613, 0.6654, 0.6579, 0.6602]\n"
     ]
    }
   ],
   "source": [
    "# 查看准确率\n",
    "hist_dict = hist.history\n",
    "print(\"train acc:\")\n",
    "print(hist_dict['acc'])\n",
    "print(\"validation acc:\")\n",
    "print(hist_dict['val_acc'])"
   ]
  },
  {
   "cell_type": "code",
   "execution_count": 12,
   "metadata": {
    "colab": {
     "base_uri": "https://localhost:8080/",
     "height": 562
    },
    "colab_type": "code",
    "id": "rtddGUCb0Um2",
    "outputId": "205f5325-2101-43c2-83ae-21ed0678d95a"
   },
   "outputs": [
    {
     "data": {
      "image/png": "[encoded data removed]",
      "text/plain": [
       "<Figure size 432x288 with 1 Axes>"
      ]
     },
     "metadata": {
      "tags": []
     },
     "output_type": "display_data"
    },
    {
     "data": {
      "text/plain": [
       "<Figure size 432x288 with 0 Axes>"
      ]
     },
     "metadata": {
      "tags": []
     },
     "output_type": "display_data"
    },
    {
     "data": {
      "image/png": "[encoded data removed]",
      "text/plain": [
       "<Figure size 432x288 with 1 Axes>"
      ]
     },
     "metadata": {
      "tags": []
     },
     "output_type": "display_data"
    }
   ],
   "source": [
    "  train_acc = hist.history['acc']\n",
    "  val_acc = hist.history['val_acc']\n",
    "  train_loss = hist.history['loss']\n",
    "  val_loss = hist.history['val_loss']\n",
    "\n",
    "  # 绘图\n",
    "  epochs = range(1, len(train_acc)+1)\n",
    "  plt.plot(epochs, train_acc, 'bo', label = 'Training acc')\n",
    "  plt.plot(epochs, val_acc, 'r', label = 'Validation acc')\n",
    "  plt.title('Training and validation accuracy')\n",
    "  plt.legend()\n",
    "  plt.show()\n",
    "  plt.savefig(\"accuracy.png\")\n",
    "  plt.figure() # 新建一个图\n",
    "  plt.plot(epochs, train_loss, 'bo', label = 'Training loss')\n",
    "  plt.plot(epochs, val_loss, 'r', label = 'Validation loss')\n",
    "  plt.title('Training and validation loss')\n",
    "  plt.legend()\n",
    "  plt.savefig(\"loss.png\")\n",
    "  plt.show()"
   ]
  },
  {
   "cell_type": "code",
   "execution_count": 0,
   "metadata": {
    "colab": {},
    "colab_type": "code",
    "id": "j-zhx7hJswK5"
   },
   "outputs": [],
   "source": [
    "from google.colab import drive\n",
    "drive.mount('/content/drive')"
   ]
  },
  {
   "cell_type": "markdown",
   "metadata": {
    "colab_type": "text",
    "id": "80yYRaEVnjOF"
   },
   "source": [
    "### 4. Optional "
   ]
  },
  {
   "cell_type": "markdown",
   "metadata": {
    "colab_type": "text",
    "id": "-UKglCAdnjOG"
   },
   "source": [
    "##### Do you want to build a CNN from scratch ? "
   ]
  },
  {
   "cell_type": "markdown",
   "metadata": {
    "colab_type": "text",
    "id": "gPv5DKFgnjOI"
   },
   "source": [
    "In this optianl part, you will build a cnn network step by step."
   ]
  },
  {
   "cell_type": "code",
   "execution_count": 0,
   "metadata": {
    "colab": {},
    "colab_type": "code",
    "id": "_ZL8it30njOJ"
   },
   "outputs": [],
   "source": [
    "import numpy as np\n",
    "np.random.seed(1)"
   ]
  },
  {
   "cell_type": "markdown",
   "metadata": {
    "colab_type": "text",
    "id": "76VKeNDKnjOL"
   },
   "source": [
    "##### 4.1 Implement a convolution step"
   ]
  },
  {
   "cell_type": "markdown",
   "metadata": {
    "colab_type": "text",
    "id": "wUNtVPjnnjOM"
   },
   "source": [
    "Hints: Numpy.sum function might be useful."
   ]
  },
  {
   "cell_type": "code",
   "execution_count": 0,
   "metadata": {
    "colab": {},
    "colab_type": "code",
    "id": "ULrAjLWMnjON"
   },
   "outputs": [],
   "source": [
    "def conv_single_step(a_prev_slice,W,b):\n",
    "    '''\n",
    "    Apply one filter defined by parameters W on a single slice (a_slice_prev) of the output activation \n",
    "    of the previous layer.\n",
    "    Arguments:\n",
    "    a_prev_slice: slice of input data (shape=(f,f,n_C_prev))\n",
    "    W: Weight parameters contained in a window. (shape = (f,f,n_C_prev))\n",
    "    b: Bias parameters contained in a window. (shape=(1,1,1))\n",
    "    \n",
    "    Reutrns:\n",
    "    \n",
    "    Z: a scalar value, the result of convolving the sliding window (W, b) on a slice x of the input data \n",
    "    '''\n",
    "    # Element-wise product\n",
    "    s = None\n",
    "    \n",
    "    # Sum over s  \n",
    "    Z = None\n",
    "    \n",
    "    # Add bias b to z.\n",
    "    Z = None\n",
    "    \n",
    "    return Z"
   ]
  },
  {
   "cell_type": "code",
   "execution_count": 0,
   "metadata": {
    "colab": {},
    "colab_type": "code",
    "id": "85xafJBVnjOP"
   },
   "outputs": [],
   "source": [
    "np.random.seed(1)\n",
    "a_slice_prev = np.random.randn(4, 4, 3)\n",
    "W = np.random.randn(4, 4, 3)\n",
    "b = np.random.randn(1, 1, 1)\n",
    "\n",
    "Z = conv_single_step(a_slice_prev, W, b)\n",
    "print(\"Z =\", Z)"
   ]
  },
  {
   "cell_type": "markdown",
   "metadata": {
    "colab_type": "text",
    "id": "AbgxKtmunjOR"
   },
   "source": [
    "Use the code above to test your code. If your c\n",
    "ode is correct, you should be able to get the output shown as below."
   ]
  },
  {
   "cell_type": "markdown",
   "metadata": {
    "colab_type": "text",
    "id": "92fFayVZnjOS"
   },
   "source": [
    "<table>\n",
    "    <tr>\n",
    "        <td>\n",
    "            Z\n",
    "        </td>\n",
    "        <td>\n",
    "            -6.99908945068\n",
    "        </td>\n",
    "    </tr>\n",
    "\n",
    "</table>"
   ]
  },
  {
   "cell_type": "markdown",
   "metadata": {
    "colab_type": "text",
    "id": "hInyXhmNnjOT"
   },
   "source": [
    "##### 4.2 Padding"
   ]
  },
  {
   "cell_type": "markdown",
   "metadata": {
    "colab_type": "text",
    "id": "DUsL8aUrnjOT"
   },
   "source": [
    "Hints: Numpy.pad function might be useful."
   ]
  },
  {
   "cell_type": "code",
   "execution_count": 0,
   "metadata": {
    "colab": {},
    "colab_type": "code",
    "id": "OwUFH00CnjOU"
   },
   "outputs": [],
   "source": [
    "def zero_pad(X, pad):\n",
    "    \"\"\"\n",
    "    Pad with zeros all images of the dataset X. The padding is applied to the height and width of an image, \n",
    "    as illustrated in Figure 1.\n",
    "    \n",
    "    Argument:\n",
    "    X: python numpy array of shape (m, n_H, n_W, n_C) representing a batch of m images\n",
    "    pad: integer, amount of padding around each image on vertical and horizontal dimensions\n",
    "    \n",
    "    Returns:\n",
    "    X_pad: padded image of shape (m, n_H + 2*pad, n_W + 2*pad, n_C)\n",
    "    \"\"\"\n",
    "\n",
    "    X_pad = None\n",
    "    \n",
    "    return X_pad"
   ]
  },
  {
   "cell_type": "code",
   "execution_count": 0,
   "metadata": {
    "colab": {},
    "colab_type": "code",
    "id": "iVhJk7OsnjOW"
   },
   "outputs": [],
   "source": [
    "np.random.seed(1)\n",
    "x = np.random.randn(4, 3, 3, 2)\n",
    "x_pad = zero_pad(x, 2)\n",
    "print (\"x.shape =\\n\", x.shape)\n",
    "print (\"x_pad.shape =\\n\", x_pad.shape)\n",
    "print (\"x[1,1] =\\n\", x[1,1])\n",
    "print (\"x_pad[1,1] =\\n\", x_pad[1,1])"
   ]
  },
  {
   "cell_type": "markdown",
   "metadata": {
    "colab_type": "text",
    "id": "pTqiw8kunjOY"
   },
   "source": [
    "Use the code above to test your code. If your code is correct, you should be able to get the output shown as below."
   ]
  },
  {
   "cell_type": "markdown",
   "metadata": {
    "colab_type": "text",
    "id": "VoX14TLpnjOZ"
   },
   "source": [
    "```\n",
    "x.shape =\n",
    " (4, 3, 3, 2)\n",
    "x_pad.shape =\n",
    " (4, 7, 7, 2)\n",
    "x[1,1] =\n",
    " [[ 0.90085595 -0.68372786]\n",
    " [-0.12289023 -0.93576943]\n",
    " [-0.26788808  0.53035547]]\n",
    "x_pad[1,1] =\n",
    " [[ 0.  0.]\n",
    " [ 0.  0.]\n",
    " [ 0.  0.]\n",
    " [ 0.  0.]\n",
    " [ 0.  0.]\n",
    " [ 0.  0.]\n",
    " [ 0.  0.]]\n",
    "```"
   ]
  },
  {
   "cell_type": "markdown",
   "metadata": {
    "colab_type": "text",
    "id": "hqlXn2ZxnjOa"
   },
   "source": [
    "##### 4.3 Implement a forward propagation in CNN."
   ]
  },
  {
   "cell_type": "markdown",
   "metadata": {
    "colab_type": "text",
    "id": "JPNWuOw3njOa"
   },
   "source": [
    "Hints: The formulas to calculate the output shapes are :"
   ]
  },
  {
   "cell_type": "markdown",
   "metadata": {
    "colab_type": "text",
    "id": "zPF4UehvnjOb"
   },
   "source": [
    "$$ n_H = \\lfloor \\frac{n_{H_{prev}} - f + 2 \\times pad}{stride} \\rfloor +1 $$\n",
    "$$ n_W = \\lfloor \\frac{n_{W_{prev}} - f + 2 \\times pad}{stride} \\rfloor +1 $$\n",
    "$$ n_C = \\text{number of filters used in the convolution}$$"
   ]
  },
  {
   "cell_type": "code",
   "execution_count": 0,
   "metadata": {
    "colab": {},
    "colab_type": "code",
    "id": "p0qjgVk1njOb"
   },
   "outputs": [],
   "source": [
    "def conv_forward(A_prev, W, b, hparameters):\n",
    "    \"\"\"\n",
    "    Implements the forward propagation for a convolution function\n",
    "    \n",
    "    Arguments:\n",
    "    A_prev: output activations of the previous layer, \n",
    "        numpy array of shape (m, n_H_prev, n_W_prev, n_C_prev)\n",
    "    W: Weights, numpy array of shape (f, f, n_C_prev, n_C)\n",
    "    b: Biases, numpy array of shape (1, 1, 1, n_C)\n",
    "    hparameters: python dictionary containing \"stride\" and \"pad\"\n",
    "        \n",
    "    Returns:\n",
    "    Z: conv output, numpy array of shape (m, n_H, n_W, n_C)\n",
    "    cache: cache of values needed for the conv_backward() function\n",
    "    \"\"\"\n",
    "    \n",
    "    # Get dimensions from A_prev's shape  \n",
    "    (m, n_H_prev, n_W_prev, n_C_prev) = None\n",
    "    \n",
    "    # Get dimensions from W's shape \n",
    "    (f, f, n_C_prev, n_C) = None\n",
    "    \n",
    "    # Get information from \"hparameters\" \n",
    "    stride = None\n",
    "    pad = None\n",
    "    \n",
    "    # Compute the dimensions of the CONV output volume using the formula given above. \n",
    "    # Hint: use int() to apply the 'floor' operation. \n",
    "    n_H = None\n",
    "    n_W = None\n",
    "    \n",
    "    # Initialize the output volume Z with zeros. \n",
    "    Z = None\n",
    "    \n",
    "    # Create A_prev_pad by padding A_prev\n",
    "    A_prev_pad = None\n",
    "    \n",
    "    for i in range(None):               # loop over the batch of training examples\n",
    "        a_prev_pad = None               # Select ith training example's padded activation\n",
    "        for h in range(None):           # loop over vertical axis of the output volume\n",
    "            # Find the vertical start and end of the current \"slice\" \n",
    "            vert_start = None\n",
    "            vert_end = None\n",
    "            \n",
    "            for w in range(None):       # loop over horizontal axis of the output volume\n",
    "                # Find the horizontal start and end of the current \"slice\"\n",
    "                horiz_start = None\n",
    "                horiz_end = None\n",
    "                \n",
    "                for c in range(None):   # loop over channels (= #filters) of the output volume\n",
    "                                        \n",
    "                    # Use the corners to define the (3D) slice of a_prev_pad (See Hint above the cell). \n",
    "                    a_slice_prev = None\n",
    "                    \n",
    "                    # Convolve the (3D) slice with the correct filter W and bias b, to get back one output neuron. \n",
    "                    weights = None\n",
    "                    biases = None\n",
    "                    Z[i, h, w, c] = None\n",
    "                                        \n",
    "    \n",
    "    # Making sure your output shape is correct\n",
    "    assert(Z.shape == (m, n_H, n_W, n_C))\n",
    "    \n",
    "    # Save information in \"cache\" for the backprop\n",
    "    cache = (A_prev, W, b, hparameters)\n",
    "    \n",
    "    return Z, cache"
   ]
  },
  {
   "cell_type": "code",
   "execution_count": 0,
   "metadata": {
    "colab": {},
    "colab_type": "code",
    "id": "XXxo1LTTnjOd"
   },
   "outputs": [],
   "source": [
    "np.random.seed(1)\n",
    "A_prev = np.random.randn(10,5,7,4)\n",
    "W = np.random.randn(3,3,4,8)\n",
    "b = np.random.randn(1,1,1,8)\n",
    "hparameters = {\"pad\" : 1,\n",
    "               \"stride\": 2}\n",
    "\n",
    "Z, cache_conv = conv_forward(A_prev, W, b, hparameters)\n",
    "print(\"Z's mean =\\n\", np.mean(Z))\n",
    "print(\"Z[3,2,1] =\\n\", Z[3,2,1])\n",
    "print(\"cache_conv[0][1][2][3] =\\n\", cache_conv[0][1][2][3])"
   ]
  },
  {
   "cell_type": "markdown",
   "metadata": {
    "colab_type": "text",
    "id": "pkfHqGkNnjOf"
   },
   "source": [
    "Use the code above to test your code. If your code is correct, you should be able to get the output shown as below."
   ]
  },
  {
   "cell_type": "markdown",
   "metadata": {
    "colab_type": "text",
    "id": "5r3t0-InnjOf"
   },
   "source": [
    "```\n",
    "Z's mean =\n",
    " 0.692360880758\n",
    "Z[3,2,1] =\n",
    " [ -1.28912231   2.27650251   6.61941931   0.95527176   8.25132576\n",
    "   2.31329639  13.00689405   2.34576051]\n",
    "cache_conv[0][1][2][3] = [-1.1191154   1.9560789  -0.3264995  -1.34267579]\n",
    "```"
   ]
  },
  {
   "cell_type": "markdown",
   "metadata": {
    "colab_type": "text",
    "id": "8yjHKzptnjOg"
   },
   "source": [
    "##### 4.4 Pooling layers"
   ]
  },
  {
   "cell_type": "markdown",
   "metadata": {
    "colab_type": "text",
    "id": "SyG0VhzNnjOh"
   },
   "source": [
    "Hints: As there\\'s no padding, the formulas binding the output shape of the pooling to the input shape is:\n",
    "\n",
    "$$ n_H = \\lfloor \\frac{n_{H_{prev}} - f}{stride} \\rfloor +1 $$\n",
    "\n",
    "$$ n_W = \\lfloor \\frac{n_{W_{prev}} - f}{stride} \\rfloor +1 $$\n",
    "\n",
    "$$ n_C = n_{C_{prev}}$$"
   ]
  },
  {
   "cell_type": "code",
   "execution_count": 0,
   "metadata": {
    "colab": {},
    "colab_type": "code",
    "id": "pEGwLRYHnjOh"
   },
   "outputs": [],
   "source": [
    "def pool_forward(A_prev, hparameters, mode = \"max\"):\n",
    "    \"\"\"\n",
    "    Implements the forward pass of the pooling layer\n",
    "    \n",
    "    Arguments:\n",
    "    A_prev: Input data, numpy array of shape (m, n_H_prev, n_W_prev, n_C_prev)\n",
    "    hparameters: python dictionary containing \"f\" and \"stride\"\n",
    "    mode: the pooling mode you would like to use, defined as a string (\"max\" or \"average\")\n",
    "    \n",
    "    Returns:\n",
    "    A: output of the pool layer, a numpy array of shape (m, n_H, n_W, n_C)\n",
    "    cache: cache used in the backward pass of the pooling layer, contains the input and hparameters \n",
    "    \"\"\"\n",
    "    \n",
    "    # Get dimensions from the input shape\n",
    "    (m, n_H_prev, n_W_prev, n_C_prev) = A_prev.shape\n",
    "    \n",
    "    # Get hyperparameters from \"hparameters\"\n",
    "    f = hparameters[\"f\"]\n",
    "    stride = hparameters[\"stride\"]\n",
    "    \n",
    "    # Define the dimensions of the output\n",
    "    n_H = int(1 + (n_H_prev - f) / stride)\n",
    "    n_W = int(1 + (n_W_prev - f) / stride)\n",
    "    n_C = n_C_prev\n",
    "    \n",
    "    # Initialize output matrix A\n",
    "    A = np.zeros((m, n_H, n_W, n_C))              \n",
    "    \n",
    "    for i in range(None):                         # loop over the training examples\n",
    "        for h in range(None):                     # loop on the vertical axis of the output volume\n",
    "            # Find the vertical start and end of the current \"slice\" (≈2 lines)\n",
    "            vert_start = None\n",
    "            vert_end = None\n",
    "            \n",
    "            for w in range(None):                 # loop on the horizontal axis of the output volume\n",
    "                # Find the vertical start and end of the current \"slice\" (≈2 lines)\n",
    "                horiz_start = None\n",
    "                horiz_end = None\n",
    "                \n",
    "                for c in range (None):            # loop over the channels of the output volume\n",
    "                    \n",
    "                    # Use the corners to define the current slice on the ith training example of A_prev, channel c. (≈1 line)\n",
    "                    a_prev_slice = None\n",
    "                    \n",
    "                    # Compute the pooling operation on the slice. \n",
    "                    # Use an if statement to differentiate the modes. \n",
    "                    # Use np.max and np.mean.\n",
    "                    if mode == \"max\":\n",
    "                        A[i, h, w, c] = None\n",
    "                    elif mode == \"average\":\n",
    "                        A[i, h, w, c] = None\n",
    "    \n",
    "    # Store the input and hparameters in \"cache\" for pool_backward()\n",
    "    cache = (A_prev, hparameters)\n",
    "    \n",
    "    # Making sure your output shape is correct\n",
    "    assert(A.shape == (m, n_H, n_W, n_C))\n",
    "    \n",
    "    return A, cache"
   ]
  },
  {
   "cell_type": "code",
   "execution_count": 0,
   "metadata": {
    "colab": {},
    "colab_type": "code",
    "id": "DHwuy7NKnjOj"
   },
   "outputs": [],
   "source": [
    "np.random.seed(1)\n",
    "A_prev = np.random.randn(2, 5, 5, 3)\n",
    "hparameters = {\"stride\" : 1, \"f\": 3}\n",
    "\n",
    "A, cache = pool_forward(A_prev, hparameters)\n",
    "print(\"mode = max\")\n",
    "print(\"A.shape = \" + str(A.shape))\n",
    "print(\"A =\\n\", A)\n",
    "print()\n",
    "A, cache = pool_forward(A_prev, hparameters, mode = \"average\")\n",
    "print(\"mode = average\")\n",
    "print(\"A.shape = \" + str(A.shape))\n",
    "print(\"A =\\n\", A)"
   ]
  },
  {
   "cell_type": "markdown",
   "metadata": {
    "colab_type": "text",
    "id": "rm7ir3jUnjOl"
   },
   "source": [
    "Use the code above to test your code. If your code is correct, you should be able to get the output shown as below."
   ]
  },
  {
   "cell_type": "markdown",
   "metadata": {
    "colab_type": "text",
    "id": "044nY2VbnjOm"
   },
   "source": [
    "```\n",
    "mode = max\n",
    "A.shape = (2, 3, 3, 3)\n",
    "A =\n",
    " [[[[ 1.74481176  0.90159072  1.65980218]\n",
    "   [ 1.74481176  1.46210794  1.65980218]\n",
    "   [ 1.74481176  1.6924546   1.65980218]]\n",
    "\n",
    "  [[ 1.14472371  0.90159072  2.10025514]\n",
    "   [ 1.14472371  0.90159072  1.65980218]\n",
    "   [ 1.14472371  1.6924546   1.65980218]]\n",
    "\n",
    "  [[ 1.13162939  1.51981682  2.18557541]\n",
    "   [ 1.13162939  1.51981682  2.18557541]\n",
    "   [ 1.13162939  1.6924546   2.18557541]]]\n",
    "\n",
    "\n",
    " [[[ 1.19891788  0.84616065  0.82797464]\n",
    "   [ 0.69803203  0.84616065  1.2245077 ]\n",
    "   [ 0.69803203  1.12141771  1.2245077 ]]\n",
    "\n",
    "  [[ 1.96710175  0.84616065  1.27375593]\n",
    "   [ 1.96710175  0.84616065  1.23616403]\n",
    "   [ 1.62765075  1.12141771  1.2245077 ]]\n",
    "\n",
    "  [[ 1.96710175  0.86888616  1.27375593]\n",
    "   [ 1.96710175  0.86888616  1.23616403]\n",
    "   [ 1.62765075  1.12141771  0.79280687]]]]\n",
    "\n",
    "mode = average\n",
    "A.shape = (2, 3, 3, 3)\n",
    "A =\n",
    " [[[[ -3.01046719e-02  -3.24021315e-03  -3.36298859e-01]\n",
    "   [  1.43310483e-01   1.93146751e-01  -4.44905196e-01]\n",
    "   [  1.28934436e-01   2.22428468e-01   1.25067597e-01]]\n",
    "\n",
    "  [[ -3.81801899e-01   1.59993515e-02   1.70562706e-01]\n",
    "   [  4.73707165e-02   2.59244658e-02   9.20338402e-02]\n",
    "   [  3.97048605e-02   1.57189094e-01   3.45302489e-01]]\n",
    "\n",
    "  [[ -3.82680519e-01   2.32579951e-01   6.25997903e-01]\n",
    "   [ -2.47157416e-01  -3.48524998e-04   3.50539717e-01]\n",
    "   [ -9.52551510e-02   2.68511000e-01   4.66056368e-01]]]\n",
    "\n",
    "\n",
    " [[[ -1.73134159e-01   3.23771981e-01  -3.43175716e-01]\n",
    "   [  3.80634669e-02   7.26706274e-02  -2.30268958e-01]\n",
    "   [  2.03009393e-02   1.41414785e-01  -1.23158476e-02]]\n",
    "\n",
    "  [[  4.44976963e-01  -2.61694592e-03  -3.10403073e-01]\n",
    "   [  5.08114737e-01  -2.34937338e-01  -2.39611830e-01]\n",
    "   [  1.18726772e-01   1.72552294e-01  -2.21121966e-01]]\n",
    "\n",
    "  [[  4.29449255e-01   8.44699612e-02  -2.72909051e-01]\n",
    "   [  6.76351685e-01  -1.20138225e-01  -2.44076712e-01]\n",
    "   [  1.50774518e-01   2.89111751e-01   1.23238536e-03]]]]\n",
    "```"
   ]
  },
  {
   "cell_type": "markdown",
   "metadata": {
    "colab_type": "text",
    "id": "xSrn67CUnjOm"
   },
   "source": [
    "####  Congratulations! You hanve finished the assignment 6.  You now understand how convolutional neural networks work."
   ]
  }
 ],
 "metadata": {
  "accelerator": "GPU",
  "colab": {
   "collapsed_sections": [],
   "name": "Assignment_6.ipynb",
   "provenance": [],
   "toc_visible": true
  },
  "kernelspec": {
   "display_name": "Python 3",
   "language": "python",
   "name": "python3"
  },
  "language_info": {
   "codemirror_mode": {
    "name": "ipython",
    "version": 3
   },
   "file_extension": ".py",
   "mimetype": "text/x-python",
   "name": "python",
   "nbconvert_exporter": "python",
   "pygments_lexer": "ipython3",
   "version": "3.7.4"
  }
 },
 "nbformat": 4,
 "nbformat_minor": 1
}
