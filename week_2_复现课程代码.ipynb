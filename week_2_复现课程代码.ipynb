{
 "cells": [
  {
   "cell_type": "code",
   "execution_count": 10,
   "metadata": {},
   "outputs": [],
   "source": [
    "coordination_source = \"\"\"\n",
    "{name:'兰州', geoCoord:[103.73, 36.03]},\n",
    "{name:'嘉峪关', geoCoord:[98.17, 39.47]},\n",
    "{name:'西宁', geoCoord:[101.74, 36.56]},\n",
    "{name:'成都', geoCoord:[104.06, 30.67]},\n",
    "{name:'石家庄', geoCoord:[114.48, 38.03]},\n",
    "{name:'拉萨', geoCoord:[102.73, 25.04]},\n",
    "{name:'贵阳', geoCoord:[106.71, 26.57]},\n",
    "{name:'武汉', geoCoord:[114.31, 30.52]},\n",
    "{name:'郑州', geoCoord:[113.65, 34.76]},\n",
    "{name:'济南', geoCoord:[117, 36.65]},\n",
    "{name:'南京', geoCoord:[118.78, 32.04]},\n",
    "{name:'合肥', geoCoord:[117.27, 31.86]},\n",
    "{name:'杭州', geoCoord:[120.19, 30.26]},\n",
    "{name:'南昌', geoCoord:[115.89, 28.68]},\n",
    "{name:'福州', geoCoord:[119.3, 26.08]},\n",
    "{name:'广州', geoCoord:[113.23, 23.16]},\n",
    "{name:'长沙', geoCoord:[113, 28.21]},\n",
    "//{name:'海口', geoCoord:[110.35, 20.02]},\n",
    "{name:'沈阳', geoCoord:[123.38, 41.8]},\n",
    "{name:'长春', geoCoord:[125.35, 43.88]},\n",
    "{name:'哈尔滨', geoCoord:[126.63, 45.75]},\n",
    "{name:'太原', geoCoord:[112.53, 37.87]},\n",
    "{name:'西安', geoCoord:[108.95, 34.27]},\n",
    "//{name:'台湾', geoCoord:[121.30, 25.03]},\n",
    "{name:'北京', geoCoord:[116.46, 39.92]},\n",
    "{name:'上海', geoCoord:[121.48, 31.22]},\n",
    "{name:'重庆', geoCoord:[106.54, 29.59]},\n",
    "{name:'天津', geoCoord:[117.2, 39.13]},\n",
    "{name:'呼和浩特', geoCoord:[111.65, 40.82]},\n",
    "{name:'南宁', geoCoord:[108.33, 22.84]},\n",
    "//{name:'西藏', geoCoord:[91.11, 29.97]},\n",
    "{name:'银川', geoCoord:[106.27, 38.47]},\n",
    "{name:'乌鲁木齐', geoCoord:[87.68, 43.77]},\n",
    "{name:'香港', geoCoord:[114.17, 22.28]},\n",
    "{name:'澳门', geoCoord:[113.54, 22.19]}\n",
    "\"\"\""
   ]
  },
  {
   "cell_type": "code",
   "execution_count": 11,
   "metadata": {},
   "outputs": [],
   "source": [
    "import re\n",
    "def get_city_info(city_coordination):\n",
    "    city_location = {}\n",
    "    for line in city_coordination.split(\"\\n\"):\n",
    "        if line.startswith(\"//\"): continue\n",
    "        if not line.strip(): continue\n",
    "\n",
    "        city = re.findall(\"name:'(\\w+)'\",line)[0]  # [0]to get string out of list\n",
    "        x_y = re.findall(\"Coord:\\[(\\d+.\\d+),\\s(\\d+.\\d+)]\",line)[0]\n",
    "        x_y = tuple(map(float,x_y))\n",
    "        city_location[city] = x_y\n",
    "    return city_location\n"
   ]
  },
  {
   "cell_type": "code",
   "execution_count": 12,
   "metadata": {},
   "outputs": [
    {
     "data": {
      "text/plain": [
       "{'兰州': (103.73, 36.03),\n",
       " '嘉峪关': (98.17, 39.47),\n",
       " '西宁': (101.74, 36.56),\n",
       " '成都': (104.06, 30.67),\n",
       " '石家庄': (114.48, 38.03),\n",
       " '拉萨': (102.73, 25.04),\n",
       " '贵阳': (106.71, 26.57),\n",
       " '武汉': (114.31, 30.52),\n",
       " '郑州': (113.65, 34.76),\n",
       " '济南': (117.0, 36.65),\n",
       " '南京': (118.78, 32.04),\n",
       " '合肥': (117.27, 31.86),\n",
       " '杭州': (120.19, 30.26),\n",
       " '南昌': (115.89, 28.68),\n",
       " '福州': (119.3, 26.08),\n",
       " '广州': (113.23, 23.16),\n",
       " '长沙': (113.0, 28.21),\n",
       " '沈阳': (123.38, 41.8),\n",
       " '长春': (125.35, 43.88),\n",
       " '哈尔滨': (126.63, 45.75),\n",
       " '太原': (112.53, 37.87),\n",
       " '西安': (108.95, 34.27),\n",
       " '北京': (116.46, 39.92),\n",
       " '上海': (121.48, 31.22),\n",
       " '重庆': (106.54, 29.59),\n",
       " '天津': (117.2, 39.13),\n",
       " '呼和浩特': (111.65, 40.82),\n",
       " '南宁': (108.33, 22.84),\n",
       " '银川': (106.27, 38.47),\n",
       " '乌鲁木齐': (87.68, 43.77),\n",
       " '香港': (114.17, 22.28),\n",
       " '澳门': (113.54, 22.19)}"
      ]
     },
     "execution_count": 12,
     "metadata": {},
     "output_type": "execute_result"
    }
   ],
   "source": [
    "city_info = get_city_info(coordination_source)\n",
    "\n",
    "city_info\n"
   ]
  },
  {
   "cell_type": "code",
   "execution_count": 13,
   "metadata": {},
   "outputs": [
    {
     "data": {
      "text/plain": [
       "955.0178184477649"
      ]
     },
     "execution_count": 13,
     "metadata": {},
     "output_type": "execute_result"
    }
   ],
   "source": [
    "import math\n",
    "\n",
    "def geo_distance(origin, destination):\n",
    "    \"\"\"\n",
    "    Calculate the Haversine distance.\n",
    "\n",
    "    Parameters\n",
    "    ----------\n",
    "    origin : tuple of float\n",
    "        (lat, long)\n",
    "    destination : tuple of float\n",
    "        (lat, long)\n",
    "\n",
    "    Returns\n",
    "    -------\n",
    "    distance_in_km : float\n",
    "\n",
    "    Examples\n",
    "    --------\n",
    "    >>> origin = (48.1372, 11.5756)  # Munich\n",
    "    >>> destination = (52.5186, 13.4083)  # Berlin\n",
    "    >>> round(distance(origin, destination), 1)\n",
    "    504.2\n",
    "    \"\"\"\n",
    "    lat1, lon1 = origin\n",
    "    lat2, lon2 = destination\n",
    "    radius = 6371  # km\n",
    "\n",
    "    dlat = math.radians(lat2 - lat1)\n",
    "    dlon = math.radians(lon2 - lon1)\n",
    "    a = (math.sin(dlat / 2) * math.sin(dlat / 2) +\n",
    "         math.cos(math.radians(lat1)) * math.cos(math.radians(lat2)) *\n",
    "         math.sin(dlon / 2) * math.sin(dlon / 2))\n",
    "    c = 2 * math.atan2(math.sqrt(a), math.sqrt(1 - a))\n",
    "    d = radius * c\n",
    "    \n",
    "\n",
    "    return d\n",
    "\n",
    "\n",
    "\n",
    "def get_city_distance(city1,city2):\n",
    "    return geo_distance(city_info[city1],city_info[city2])\n",
    "\n",
    "get_city_distance(\"长沙\",\"上海\")\n"
   ]
  },
  {
   "cell_type": "code",
   "execution_count": 14,
   "metadata": {},
   "outputs": [],
   "source": [
    "import networkx as nx\n",
    "import matplotlib.pyplot as plt\n",
    "%matplotlib inline\n",
    "\n",
    "plt.rcParams['font.sans-serif'] = ['SimHei']\n",
    "# plt.rcParams['axes.unicode_minus'] = False\n",
    "\n"
   ]
  },
  {
   "cell_type": "code",
   "execution_count": 15,
   "metadata": {},
   "outputs": [
    {
     "data": {
      "text/plain": [
       "dict_keys(['兰州', '嘉峪关', '西宁', '成都', '石家庄', '拉萨', '贵阳', '武汉', '郑州', '济南', '南京', '合肥', '杭州', '南昌', '福州', '广州', '长沙', '沈阳', '长春', '哈尔滨', '太原', '西安', '北京', '上海', '重庆', '天津', '呼和浩特', '南宁', '银川', '乌鲁木齐', '香港', '澳门'])"
      ]
     },
     "execution_count": 15,
     "metadata": {},
     "output_type": "execute_result"
    }
   ],
   "source": [
    "\n",
    "city_info.keys()\n",
    "\n"
   ]
  },
  {
   "cell_type": "code",
   "execution_count": 16,
   "metadata": {},
   "outputs": [
    {
     "data": {
      "image/png": "[encoded data removed]",
      "text/plain": [
       "<Figure size 432x288 with 1 Axes>"
      ]
     },
     "metadata": {},
     "output_type": "display_data"
    }
   ],
   "source": [
    "city_graph = nx.Graph()\n",
    "\n",
    "city_graph.add_nodes_from(list(city_info.keys()))\n",
    "\n",
    "nx.draw(city_graph, city_info, with_labels=True, node_size=10)"
   ]
  },
  {
   "cell_type": "code",
   "execution_count": 17,
   "metadata": {},
   "outputs": [],
   "source": [
    "threshold = 700\n",
    "\n",
    "from collections import defaultdict\n",
    "\n",
    "def build_connection(city_info):\n",
    "    cities = list(city_info.keys())\n",
    "    cities_connection = defaultdict(list)\n",
    "    for c1 in cities:\n",
    "        for c2 in cities:\n",
    "            if c1 == c2:\n",
    "                continue\n",
    "            if get_city_distance(c1,c2) < threshold:\n",
    "                cities_connection[c1].append(c2)\n",
    "    return cities_connection\n",
    "\n",
    "cities_connection = build_connection(city_info)\n",
    "\n"
   ]
  },
  {
   "cell_type": "code",
   "execution_count": 18,
   "metadata": {},
   "outputs": [
    {
     "data": {
      "text/plain": [
       "defaultdict(list,\n",
       "            {'兰州': ['嘉峪关', '西宁', '成都', '拉萨', '贵阳', '西安', '重庆', '南宁', '银川'],\n",
       "             '嘉峪关': ['兰州', '西宁', '成都', '拉萨'],\n",
       "             '西宁': ['兰州', '嘉峪关', '成都', '拉萨', '贵阳', '重庆', '银川'],\n",
       "             '成都': ['兰州', '嘉峪关', '西宁', '拉萨', '贵阳', '西安', '重庆', '南宁', '银川'],\n",
       "             '石家庄': ['武汉',\n",
       "              '郑州',\n",
       "              '济南',\n",
       "              '南京',\n",
       "              '合肥',\n",
       "              '南昌',\n",
       "              '广州',\n",
       "              '长沙',\n",
       "              '太原',\n",
       "              '西安',\n",
       "              '北京',\n",
       "              '天津',\n",
       "              '呼和浩特'],\n",
       "             '拉萨': ['兰州', '嘉峪关', '西宁', '成都', '贵阳', '重庆', '南宁', '银川'],\n",
       "             '贵阳': ['兰州', '西宁', '成都', '拉萨', '西安', '重庆', '南宁', '银川'],\n",
       "             '武汉': ['石家庄',\n",
       "              '郑州',\n",
       "              '济南',\n",
       "              '南京',\n",
       "              '合肥',\n",
       "              '杭州',\n",
       "              '南昌',\n",
       "              '福州',\n",
       "              '广州',\n",
       "              '长沙',\n",
       "              '太原',\n",
       "              '西安',\n",
       "              '北京',\n",
       "              '天津',\n",
       "              '呼和浩特',\n",
       "              '香港',\n",
       "              '澳门'],\n",
       "             '郑州': ['石家庄',\n",
       "              '武汉',\n",
       "              '济南',\n",
       "              '南京',\n",
       "              '合肥',\n",
       "              '南昌',\n",
       "              '广州',\n",
       "              '长沙',\n",
       "              '太原',\n",
       "              '西安',\n",
       "              '北京',\n",
       "              '天津',\n",
       "              '呼和浩特',\n",
       "              '香港',\n",
       "              '澳门'],\n",
       "             '济南': ['石家庄',\n",
       "              '武汉',\n",
       "              '郑州',\n",
       "              '南京',\n",
       "              '合肥',\n",
       "              '杭州',\n",
       "              '南昌',\n",
       "              '福州',\n",
       "              '长沙',\n",
       "              '太原',\n",
       "              '北京',\n",
       "              '上海',\n",
       "              '天津',\n",
       "              '呼和浩特'],\n",
       "             '南京': ['石家庄',\n",
       "              '武汉',\n",
       "              '郑州',\n",
       "              '济南',\n",
       "              '合肥',\n",
       "              '杭州',\n",
       "              '南昌',\n",
       "              '福州',\n",
       "              '长沙',\n",
       "              '北京',\n",
       "              '上海',\n",
       "              '天津'],\n",
       "             '合肥': ['石家庄',\n",
       "              '武汉',\n",
       "              '郑州',\n",
       "              '济南',\n",
       "              '南京',\n",
       "              '杭州',\n",
       "              '南昌',\n",
       "              '福州',\n",
       "              '广州',\n",
       "              '长沙',\n",
       "              '太原',\n",
       "              '北京',\n",
       "              '上海',\n",
       "              '天津',\n",
       "              '香港',\n",
       "              '澳门'],\n",
       "             '杭州': ['武汉', '济南', '南京', '合肥', '南昌', '福州', '北京', '上海', '天津'],\n",
       "             '南昌': ['石家庄',\n",
       "              '武汉',\n",
       "              '郑州',\n",
       "              '济南',\n",
       "              '南京',\n",
       "              '合肥',\n",
       "              '杭州',\n",
       "              '福州',\n",
       "              '广州',\n",
       "              '长沙',\n",
       "              '太原',\n",
       "              '北京',\n",
       "              '上海',\n",
       "              '天津',\n",
       "              '香港',\n",
       "              '澳门'],\n",
       "             '福州': ['武汉',\n",
       "              '济南',\n",
       "              '南京',\n",
       "              '合肥',\n",
       "              '杭州',\n",
       "              '南昌',\n",
       "              '广州',\n",
       "              '上海',\n",
       "              '香港',\n",
       "              '澳门'],\n",
       "             '广州': ['石家庄',\n",
       "              '武汉',\n",
       "              '郑州',\n",
       "              '合肥',\n",
       "              '南昌',\n",
       "              '福州',\n",
       "              '长沙',\n",
       "              '太原',\n",
       "              '西安',\n",
       "              '南宁',\n",
       "              '香港',\n",
       "              '澳门'],\n",
       "             '长沙': ['石家庄',\n",
       "              '武汉',\n",
       "              '郑州',\n",
       "              '济南',\n",
       "              '南京',\n",
       "              '合肥',\n",
       "              '南昌',\n",
       "              '广州',\n",
       "              '太原',\n",
       "              '西安',\n",
       "              '北京',\n",
       "              '天津',\n",
       "              '呼和浩特',\n",
       "              '南宁',\n",
       "              '香港',\n",
       "              '澳门'],\n",
       "             '沈阳': ['长春', '哈尔滨', '上海'],\n",
       "             '长春': ['沈阳', '哈尔滨'],\n",
       "             '哈尔滨': ['沈阳', '长春'],\n",
       "             '太原': ['石家庄',\n",
       "              '武汉',\n",
       "              '郑州',\n",
       "              '济南',\n",
       "              '合肥',\n",
       "              '南昌',\n",
       "              '广州',\n",
       "              '长沙',\n",
       "              '西安',\n",
       "              '北京',\n",
       "              '天津',\n",
       "              '呼和浩特',\n",
       "              '银川',\n",
       "              '澳门'],\n",
       "             '西安': ['兰州',\n",
       "              '成都',\n",
       "              '石家庄',\n",
       "              '贵阳',\n",
       "              '武汉',\n",
       "              '郑州',\n",
       "              '广州',\n",
       "              '长沙',\n",
       "              '太原',\n",
       "              '重庆',\n",
       "              '呼和浩特',\n",
       "              '南宁',\n",
       "              '银川'],\n",
       "             '北京': ['石家庄',\n",
       "              '武汉',\n",
       "              '郑州',\n",
       "              '济南',\n",
       "              '南京',\n",
       "              '合肥',\n",
       "              '杭州',\n",
       "              '南昌',\n",
       "              '长沙',\n",
       "              '太原',\n",
       "              '天津',\n",
       "              '呼和浩特'],\n",
       "             '上海': ['济南', '南京', '合肥', '杭州', '南昌', '福州', '沈阳', '天津'],\n",
       "             '重庆': ['兰州', '西宁', '成都', '拉萨', '贵阳', '西安', '呼和浩特', '南宁', '银川'],\n",
       "             '天津': ['石家庄',\n",
       "              '武汉',\n",
       "              '郑州',\n",
       "              '济南',\n",
       "              '南京',\n",
       "              '合肥',\n",
       "              '杭州',\n",
       "              '南昌',\n",
       "              '长沙',\n",
       "              '太原',\n",
       "              '北京',\n",
       "              '上海',\n",
       "              '呼和浩特'],\n",
       "             '呼和浩特': ['石家庄',\n",
       "              '武汉',\n",
       "              '郑州',\n",
       "              '济南',\n",
       "              '长沙',\n",
       "              '太原',\n",
       "              '西安',\n",
       "              '北京',\n",
       "              '重庆',\n",
       "              '天津',\n",
       "              '银川'],\n",
       "             '南宁': ['兰州',\n",
       "              '成都',\n",
       "              '拉萨',\n",
       "              '贵阳',\n",
       "              '广州',\n",
       "              '长沙',\n",
       "              '西安',\n",
       "              '重庆',\n",
       "              '银川',\n",
       "              '香港',\n",
       "              '澳门'],\n",
       "             '银川': ['兰州',\n",
       "              '西宁',\n",
       "              '成都',\n",
       "              '拉萨',\n",
       "              '贵阳',\n",
       "              '太原',\n",
       "              '西安',\n",
       "              '重庆',\n",
       "              '呼和浩特',\n",
       "              '南宁'],\n",
       "             '香港': ['武汉', '郑州', '合肥', '南昌', '福州', '广州', '长沙', '南宁', '澳门'],\n",
       "             '澳门': ['武汉',\n",
       "              '郑州',\n",
       "              '合肥',\n",
       "              '南昌',\n",
       "              '福州',\n",
       "              '广州',\n",
       "              '长沙',\n",
       "              '太原',\n",
       "              '南宁',\n",
       "              '香港']})"
      ]
     },
     "execution_count": 18,
     "metadata": {},
     "output_type": "execute_result"
    }
   ],
   "source": [
    "cities_connection"
   ]
  },
  {
   "cell_type": "code",
   "execution_count": 19,
   "metadata": {},
   "outputs": [
    {
     "name": "stderr",
     "output_type": "stream",
     "text": [
      "/home/lucca/anaconda3/lib/python3.7/site-packages/networkx/drawing/nx_pylab.py:579: MatplotlibDeprecationWarning: \n",
      "The iterable function was deprecated in Matplotlib 3.1 and will be removed in 3.3. Use np.iterable instead.\n",
      "  if not cb.iterable(width):\n"
     ]
    },
    {
     "data": {
      "image/png": "[encoded data removed]",
      "text/plain": [
       "<Figure size 432x288 with 1 Axes>"
      ]
     },
     "metadata": {},
     "output_type": "display_data"
    }
   ],
   "source": [
    "cities_connection_graph = nx.Graph(cities_connection)\n",
    "nx.draw(cities_connection_graph,city_info,with_labels=True,node_size=10)"
   ]
  },
  {
   "cell_type": "code",
   "execution_count": 20,
   "metadata": {},
   "outputs": [],
   "source": [
    "def bfs_search(graph,start,destination):\n",
    "    pathes = [[start]]\n",
    "    visited = set()\n",
    "    while pathes:\n",
    "        bfs_path = pathes.pop(0)\n",
    "        frontier = bfs_path[-1]\n",
    "        for place in graph[frontier]:\n",
    "            if place in visited: continue\n",
    "                \n",
    "            new_path = bfs_path + [place]\n",
    "            pathes.append(new_path)\n",
    "            \n",
    "            if place == destination:\n",
    "                return new_path\n",
    "            \n",
    "        visited.add(frontier)"
   ]
  },
  {
   "cell_type": "code",
   "execution_count": 21,
   "metadata": {},
   "outputs": [
    {
     "data": {
      "text/plain": [
       "['北京', '济南', '上海']"
      ]
     },
     "execution_count": 21,
     "metadata": {},
     "output_type": "execute_result"
    }
   ],
   "source": [
    "bfs_search(cities_connection,\"北京\",\"上海\")"
   ]
  },
  {
   "cell_type": "code",
   "execution_count": 46,
   "metadata": {},
   "outputs": [],
   "source": [
    "def sort_by_distance(pathes):\n",
    "    def get_distance_of_path(path):\n",
    "        distance = 0\n",
    "        for i,dis in enumerate(path[:-1]):\n",
    "            distance += get_city_distance(path[i],path[i+1])\n",
    "        return distance\n",
    "    return sorted(pathes, key=get_distance_of_path)\n",
    "    \n",
    "    \n",
    "def opt_bfs_search(graph,start,destination,search_strategy):\n",
    "    pathes = [[start]]\n",
    "    visited = set()\n",
    "    \n",
    "    while pathes:\n",
    "        bfs_path = pathes.pop(0)\n",
    "        frontier = bfs_path[-1]\n",
    "        if frontier in visited: continue\n",
    "            \n",
    "        if frontier == destination: return bfs_path\n",
    "        \n",
    "        for place in graph[frontier]:\n",
    "            if place in bfs_path: continue\n",
    "                \n",
    "            new_path = bfs_path + [place]\n",
    "            pathes.append(new_path)\n",
    "            \n",
    "            if place == destination:\n",
    "                return new_path\n",
    "        \n",
    "        pathes = search_strategy(pathes)\n",
    "        visited.add(frontier)"
   ]
  },
  {
   "cell_type": "code",
   "execution_count": 47,
   "metadata": {},
   "outputs": [
    {
     "data": {
      "text/plain": [
       "['北京', '天津', '上海']"
      ]
     },
     "execution_count": 47,
     "metadata": {},
     "output_type": "execute_result"
    }
   ],
   "source": [
    " opt_bfs_search(cities_connection,\"北京\",\"上海\",search_strategy=sort_by_distance)\n",
    " "
   ]
  },
  {
   "cell_type": "code",
   "execution_count": 24,
   "metadata": {},
   "outputs": [
    {
     "data": {
      "text/plain": [
       "732.5085345714293"
      ]
     },
     "execution_count": 24,
     "metadata": {},
     "output_type": "execute_result"
    }
   ],
   "source": [
    " def get_distance_of_path(path):\n",
    "    distance = 0\n",
    "    for i,_ in enumerate(path[:-1]):\n",
    "        distance += get_city_distance(path[i],path[i+1])\n",
    "    return distance\n",
    "get_distance_of_path([\"北京\",\"天津\",\"上海\"])"
   ]
  },
  {
   "cell_type": "code",
   "execution_count": 53,
   "metadata": {},
   "outputs": [
    {
     "data": {
      "text/plain": [
       "['北京', '济南', '上海']"
      ]
     },
     "execution_count": 53,
     "metadata": {},
     "output_type": "execute_result"
    }
   ],
   "source": [
    "opt_bfs_search(cities_connection,\"北京\",\"上海\",search_strategy=lambda x:x)"
   ]
  },
  {
   "cell_type": "markdown",
   "metadata": {},
   "source": [
    "### 下面的方法是先把所有方法都找出来，然后再进行排序，比较耗时，但结果是一样的"
   ]
  },
  {
   "cell_type": "code",
   "execution_count": 50,
   "metadata": {},
   "outputs": [],
   "source": [
    "def opt_bfs_search_2(graph,start,destination,search_strategy):\n",
    "    pathes = [[start]]\n",
    "    visited = set()\n",
    "    pathes_find = []\n",
    "    while pathes:\n",
    "        bfs_path = pathes.pop(0)\n",
    "        frontier = bfs_path[-1]\n",
    "        for place in graph[frontier]:\n",
    "            if place in visited: continue\n",
    "                \n",
    "            new_path = bfs_path + [place]\n",
    "            pathes.append(new_path)\n",
    "            \n",
    "            if place == destination:\n",
    "                pathes_find.append(new_path)\n",
    "            \n",
    "        visited.add(frontier)\n",
    "    \n",
    "    pathes_find = search_strategy(pathes_find)\n",
    "    return pathes_find[0]"
   ]
  },
  {
   "cell_type": "code",
   "execution_count": 51,
   "metadata": {},
   "outputs": [
    {
     "data": {
      "text/plain": [
       "['北京', '天津', '上海']"
      ]
     },
     "execution_count": 51,
     "metadata": {},
     "output_type": "execute_result"
    }
   ],
   "source": [
    " opt_bfs_search_2(cities_connection,\"北京\",\"上海\",search_strategy=sort_by_distance)"
   ]
  },
  {
   "cell_type": "code",
   "execution_count": 52,
   "metadata": {},
   "outputs": [
    {
     "data": {
      "text/plain": [
       "['北京', '济南', '上海']"
      ]
     },
     "execution_count": 52,
     "metadata": {},
     "output_type": "execute_result"
    }
   ],
   "source": [
    "opt_bfs_search_2(cities_connection,\"北京\",\"上海\",search_strategy=lambda x:x)"
   ]
  },
  {
   "cell_type": "markdown",
   "metadata": {},
   "source": [
    "## Part 2"
   ]
  },
  {
   "cell_type": "code",
   "execution_count": 29,
   "metadata": {},
   "outputs": [],
   "source": [
    "from sklearn.datasets import load_boston\n",
    "import random"
   ]
  },
  {
   "cell_type": "code",
   "execution_count": 30,
   "metadata": {},
   "outputs": [],
   "source": [
    "dataset = load_boston()"
   ]
  },
  {
   "cell_type": "code",
   "execution_count": 31,
   "metadata": {},
   "outputs": [
    {
     "data": {
      "text/plain": [
       "{'data': array([[6.3200e-03, 1.8000e+01, 2.3100e+00, ..., 1.5300e+01, 3.9690e+02,\n",
       "         4.9800e+00],\n",
       "        [2.7310e-02, 0.0000e+00, 7.0700e+00, ..., 1.7800e+01, 3.9690e+02,\n",
       "         9.1400e+00],\n",
       "        [2.7290e-02, 0.0000e+00, 7.0700e+00, ..., 1.7800e+01, 3.9283e+02,\n",
       "         4.0300e+00],\n",
       "        ...,\n",
       "        [6.0760e-02, 0.0000e+00, 1.1930e+01, ..., 2.1000e+01, 3.9690e+02,\n",
       "         5.6400e+00],\n",
       "        [1.0959e-01, 0.0000e+00, 1.1930e+01, ..., 2.1000e+01, 3.9345e+02,\n",
       "         6.4800e+00],\n",
       "        [4.7410e-02, 0.0000e+00, 1.1930e+01, ..., 2.1000e+01, 3.9690e+02,\n",
       "         7.8800e+00]]),\n",
       " 'target': array([24. , 21.6, 34.7, 33.4, 36.2, 28.7, 22.9, 27.1, 16.5, 18.9, 15. ,\n",
       "        18.9, 21.7, 20.4, 18.2, 19.9, 23.1, 17.5, 20.2, 18.2, 13.6, 19.6,\n",
       "        15.2, 14.5, 15.6, 13.9, 16.6, 14.8, 18.4, 21. , 12.7, 14.5, 13.2,\n",
       "        13.1, 13.5, 18.9, 20. , 21. , 24.7, 30.8, 34.9, 26.6, 25.3, 24.7,\n",
       "        21.2, 19.3, 20. , 16.6, 14.4, 19.4, 19.7, 20.5, 25. , 23.4, 18.9,\n",
       "        35.4, 24.7, 31.6, 23.3, 19.6, 18.7, 16. , 22.2, 25. , 33. , 23.5,\n",
       "        19.4, 22. , 17.4, 20.9, 24.2, 21.7, 22.8, 23.4, 24.1, 21.4, 20. ,\n",
       "        20.8, 21.2, 20.3, 28. , 23.9, 24.8, 22.9, 23.9, 26.6, 22.5, 22.2,\n",
       "        23.6, 28.7, 22.6, 22. , 22.9, 25. , 20.6, 28.4, 21.4, 38.7, 43.8,\n",
       "        33.2, 27.5, 26.5, 18.6, 19.3, 20.1, 19.5, 19.5, 20.4, 19.8, 19.4,\n",
       "        21.7, 22.8, 18.8, 18.7, 18.5, 18.3, 21.2, 19.2, 20.4, 19.3, 22. ,\n",
       "        20.3, 20.5, 17.3, 18.8, 21.4, 15.7, 16.2, 18. , 14.3, 19.2, 19.6,\n",
       "        23. , 18.4, 15.6, 18.1, 17.4, 17.1, 13.3, 17.8, 14. , 14.4, 13.4,\n",
       "        15.6, 11.8, 13.8, 15.6, 14.6, 17.8, 15.4, 21.5, 19.6, 15.3, 19.4,\n",
       "        17. , 15.6, 13.1, 41.3, 24.3, 23.3, 27. , 50. , 50. , 50. , 22.7,\n",
       "        25. , 50. , 23.8, 23.8, 22.3, 17.4, 19.1, 23.1, 23.6, 22.6, 29.4,\n",
       "        23.2, 24.6, 29.9, 37.2, 39.8, 36.2, 37.9, 32.5, 26.4, 29.6, 50. ,\n",
       "        32. , 29.8, 34.9, 37. , 30.5, 36.4, 31.1, 29.1, 50. , 33.3, 30.3,\n",
       "        34.6, 34.9, 32.9, 24.1, 42.3, 48.5, 50. , 22.6, 24.4, 22.5, 24.4,\n",
       "        20. , 21.7, 19.3, 22.4, 28.1, 23.7, 25. , 23.3, 28.7, 21.5, 23. ,\n",
       "        26.7, 21.7, 27.5, 30.1, 44.8, 50. , 37.6, 31.6, 46.7, 31.5, 24.3,\n",
       "        31.7, 41.7, 48.3, 29. , 24. , 25.1, 31.5, 23.7, 23.3, 22. , 20.1,\n",
       "        22.2, 23.7, 17.6, 18.5, 24.3, 20.5, 24.5, 26.2, 24.4, 24.8, 29.6,\n",
       "        42.8, 21.9, 20.9, 44. , 50. , 36. , 30.1, 33.8, 43.1, 48.8, 31. ,\n",
       "        36.5, 22.8, 30.7, 50. , 43.5, 20.7, 21.1, 25.2, 24.4, 35.2, 32.4,\n",
       "        32. , 33.2, 33.1, 29.1, 35.1, 45.4, 35.4, 46. , 50. , 32.2, 22. ,\n",
       "        20.1, 23.2, 22.3, 24.8, 28.5, 37.3, 27.9, 23.9, 21.7, 28.6, 27.1,\n",
       "        20.3, 22.5, 29. , 24.8, 22. , 26.4, 33.1, 36.1, 28.4, 33.4, 28.2,\n",
       "        22.8, 20.3, 16.1, 22.1, 19.4, 21.6, 23.8, 16.2, 17.8, 19.8, 23.1,\n",
       "        21. , 23.8, 23.1, 20.4, 18.5, 25. , 24.6, 23. , 22.2, 19.3, 22.6,\n",
       "        19.8, 17.1, 19.4, 22.2, 20.7, 21.1, 19.5, 18.5, 20.6, 19. , 18.7,\n",
       "        32.7, 16.5, 23.9, 31.2, 17.5, 17.2, 23.1, 24.5, 26.6, 22.9, 24.1,\n",
       "        18.6, 30.1, 18.2, 20.6, 17.8, 21.7, 22.7, 22.6, 25. , 19.9, 20.8,\n",
       "        16.8, 21.9, 27.5, 21.9, 23.1, 50. , 50. , 50. , 50. , 50. , 13.8,\n",
       "        13.8, 15. , 13.9, 13.3, 13.1, 10.2, 10.4, 10.9, 11.3, 12.3,  8.8,\n",
       "         7.2, 10.5,  7.4, 10.2, 11.5, 15.1, 23.2,  9.7, 13.8, 12.7, 13.1,\n",
       "        12.5,  8.5,  5. ,  6.3,  5.6,  7.2, 12.1,  8.3,  8.5,  5. , 11.9,\n",
       "        27.9, 17.2, 27.5, 15. , 17.2, 17.9, 16.3,  7. ,  7.2,  7.5, 10.4,\n",
       "         8.8,  8.4, 16.7, 14.2, 20.8, 13.4, 11.7,  8.3, 10.2, 10.9, 11. ,\n",
       "         9.5, 14.5, 14.1, 16.1, 14.3, 11.7, 13.4,  9.6,  8.7,  8.4, 12.8,\n",
       "        10.5, 17.1, 18.4, 15.4, 10.8, 11.8, 14.9, 12.6, 14.1, 13. , 13.4,\n",
       "        15.2, 16.1, 17.8, 14.9, 14.1, 12.7, 13.5, 14.9, 20. , 16.4, 17.7,\n",
       "        19.5, 20.2, 21.4, 19.9, 19. , 19.1, 19.1, 20.1, 19.9, 19.6, 23.2,\n",
       "        29.8, 13.8, 13.3, 16.7, 12. , 14.6, 21.4, 23. , 23.7, 25. , 21.8,\n",
       "        20.6, 21.2, 19.1, 20.6, 15.2,  7. ,  8.1, 13.6, 20.1, 21.8, 24.5,\n",
       "        23.1, 19.7, 18.3, 21.2, 17.5, 16.8, 22.4, 20.6, 23.9, 22. , 11.9]),\n",
       " 'feature_names': array(['CRIM', 'ZN', 'INDUS', 'CHAS', 'NOX', 'RM', 'AGE', 'DIS', 'RAD',\n",
       "        'TAX', 'PTRATIO', 'B', 'LSTAT'], dtype='<U7'),\n",
       " 'DESCR': \".. _boston_dataset:\\n\\nBoston house prices dataset\\n---------------------------\\n\\n**Data Set Characteristics:**  \\n\\n    :Number of Instances: 506 \\n\\n    :Number of Attributes: 13 numeric/categorical predictive. Median Value (attribute 14) is usually the target.\\n\\n    :Attribute Information (in order):\\n        - CRIM     per capita crime rate by town\\n        - ZN       proportion of residential land zoned for lots over 25,000 sq.ft.\\n        - INDUS    proportion of non-retail business acres per town\\n        - CHAS     Charles River dummy variable (= 1 if tract bounds river; 0 otherwise)\\n        - NOX      nitric oxides concentration (parts per 10 million)\\n        - RM       average number of rooms per dwelling\\n        - AGE      proportion of owner-occupied units built prior to 1940\\n        - DIS      weighted distances to five Boston employment centres\\n        - RAD      index of accessibility to radial highways\\n        - TAX      full-value property-tax rate per $10,000\\n        - PTRATIO  pupil-teacher ratio by town\\n        - B        1000(Bk - 0.63)^2 where Bk is the proportion of blacks by town\\n        - LSTAT    % lower status of the population\\n        - MEDV     Median value of owner-occupied homes in $1000's\\n\\n    :Missing Attribute Values: None\\n\\n    :Creator: Harrison, D. and Rubinfeld, D.L.\\n\\nThis is a copy of UCI ML housing dataset.\\nhttps://archive.ics.uci.edu/ml/machine-learning-databases/housing/\\n\\n\\nThis dataset was taken from the StatLib library which is maintained at Carnegie Mellon University.\\n\\nThe Boston house-price data of Harrison, D. and Rubinfeld, D.L. 'Hedonic\\nprices and the demand for clean air', J. Environ. Economics & Management,\\nvol.5, 81-102, 1978.   Used in Belsley, Kuh & Welsch, 'Regression diagnostics\\n...', Wiley, 1980.   N.B. Various transformations are used in the table on\\npages 244-261 of the latter.\\n\\nThe Boston house-price data has been used in many machine learning papers that address regression\\nproblems.   \\n     \\n.. topic:: References\\n\\n   - Belsley, Kuh & Welsch, 'Regression diagnostics: Identifying Influential Data and Sources of Collinearity', Wiley, 1980. 244-261.\\n   - Quinlan,R. (1993). Combining Instance-Based and Model-Based Learning. In Proceedings on the Tenth International Conference of Machine Learning, 236-243, University of Massachusetts, Amherst. Morgan Kaufmann.\\n\",\n",
       " 'filename': '/home/lucca/anaconda3/lib/python3.7/site-packages/sklearn/datasets/data/boston_house_prices.csv'}"
      ]
     },
     "execution_count": 31,
     "metadata": {},
     "output_type": "execute_result"
    }
   ],
   "source": [
    "dataset"
   ]
  },
  {
   "cell_type": "code",
   "execution_count": 32,
   "metadata": {},
   "outputs": [],
   "source": [
    "x,y=dataset['data'],dataset['target']"
   ]
  },
  {
   "cell_type": "code",
   "execution_count": 33,
   "metadata": {},
   "outputs": [
    {
     "data": {
      "text/plain": [
       "array([[6.3200e-03, 1.8000e+01, 2.3100e+00, ..., 1.5300e+01, 3.9690e+02,\n",
       "        4.9800e+00],\n",
       "       [2.7310e-02, 0.0000e+00, 7.0700e+00, ..., 1.7800e+01, 3.9690e+02,\n",
       "        9.1400e+00],\n",
       "       [2.7290e-02, 0.0000e+00, 7.0700e+00, ..., 1.7800e+01, 3.9283e+02,\n",
       "        4.0300e+00],\n",
       "       ...,\n",
       "       [6.0760e-02, 0.0000e+00, 1.1930e+01, ..., 2.1000e+01, 3.9690e+02,\n",
       "        5.6400e+00],\n",
       "       [1.0959e-01, 0.0000e+00, 1.1930e+01, ..., 2.1000e+01, 3.9345e+02,\n",
       "        6.4800e+00],\n",
       "       [4.7410e-02, 0.0000e+00, 1.1930e+01, ..., 2.1000e+01, 3.9690e+02,\n",
       "        7.8800e+00]])"
      ]
     },
     "execution_count": 33,
     "metadata": {},
     "output_type": "execute_result"
    }
   ],
   "source": [
    "x"
   ]
  },
  {
   "cell_type": "code",
   "execution_count": 34,
   "metadata": {},
   "outputs": [
    {
     "data": {
      "text/plain": [
       "(506, 13)"
      ]
     },
     "execution_count": 34,
     "metadata": {},
     "output_type": "execute_result"
    }
   ],
   "source": [
    "x.shape"
   ]
  },
  {
   "cell_type": "code",
   "execution_count": 35,
   "metadata": {},
   "outputs": [
    {
     "data": {
      "text/plain": [
       "(506,)"
      ]
     },
     "execution_count": 35,
     "metadata": {},
     "output_type": "execute_result"
    }
   ],
   "source": [
    "y.shape"
   ]
  },
  {
   "cell_type": "code",
   "execution_count": 36,
   "metadata": {},
   "outputs": [
    {
     "data": {
      "text/plain": [
       "array(['CRIM', 'ZN', 'INDUS', 'CHAS', 'NOX', 'RM', 'AGE', 'DIS', 'RAD',\n",
       "       'TAX', 'PTRATIO', 'B', 'LSTAT'], dtype='<U7')"
      ]
     },
     "execution_count": 36,
     "metadata": {},
     "output_type": "execute_result"
    }
   ],
   "source": [
    "dataset.feature_names"
   ]
  },
  {
   "cell_type": "code",
   "execution_count": 37,
   "metadata": {},
   "outputs": [
    {
     "data": {
      "text/plain": [
       "<matplotlib.collections.PathCollection at 0x7ff3f7129090>"
      ]
     },
     "execution_count": 37,
     "metadata": {},
     "output_type": "execute_result"
    },
    {
     "data": {
      "image/png": "[encoded data removed]",
      "text/plain": [
       "<Figure size 432x288 with 1 Axes>"
      ]
     },
     "metadata": {
      "needs_background": "light"
     },
     "output_type": "display_data"
    }
   ],
   "source": [
    "\n",
    "X_rm = x[:,5]\n",
    "plt.scatter(X_rm,y)"
   ]
  },
  {
   "cell_type": "code",
   "execution_count": 38,
   "metadata": {},
   "outputs": [],
   "source": [
    "def price(rm, k, b):\n",
    "    return k * rm + b"
   ]
  },
  {
   "cell_type": "code",
   "execution_count": 39,
   "metadata": {},
   "outputs": [],
   "source": [
    "# define loss function \n",
    "def loss(y,y_hat):\n",
    "    return sum((y_i - y_hat_i)**2 for y_i, y_hat_i in zip(list(y),list(y_hat)))/len(list(y))"
   ]
  },
  {
   "cell_type": "code",
   "execution_count": 40,
   "metadata": {},
   "outputs": [],
   "source": [
    "# define partial derivative \n",
    "def partial_derivative_k(x, y, y_hat): \n",
    "    n = len(y)\n",
    "    gradient = 0\n",
    "    for x_i, y_i, y_hat_i in zip(list(x),list(y),list(y_hat)):\n",
    "        gradient += (y_i-y_hat_i) * x_i\n",
    "    return -2/n * gradient\n",
    "\n",
    "def partial_derivative_b(y, y_hat):\n",
    "    n = len(y)\n",
    "    gradient = 0\n",
    "    for y_i, y_hat_i in zip(list(y),list(y_hat)):\n",
    "        gradient += (y_i-y_hat_i)\n",
    "    return -2 / n * gradient"
   ]
  },
  {
   "cell_type": "code",
   "execution_count": 41,
   "metadata": {},
   "outputs": [
    {
     "name": "stdout",
     "output_type": "stream",
     "text": [
      "Iteration 0, the loss is 29768.48578491392, parameters k is 31.570776047338086 and b is -4.191774913446338\n",
      "Iteration 1, the loss is 25097.291268791218, parameters k is 29.390665600520837 and b is -4.535147320536189\n",
      "Iteration 2, the loss is 21160.37411965713, parameters k is 27.389233382416197 and b is -4.850430588647276\n",
      "Iteration 3, the loss is 17842.311334449416, parameters k is 25.551835889713235 and b is -5.139926750738432\n",
      "Iteration 4, the loss is 15045.82355750009, parameters k is 23.865029721586332 and b is -5.405749177573656\n",
      "Iteration 5, the loss is 12688.923032572558, parameters k is 22.316473225773684 and b is -5.649838039457195\n",
      "Iteration 6, the loss is 10702.509875867581, parameters k is 20.89483620521227 and b is -5.873974500808284\n",
      "Iteration 7, the loss is 9028.346197238605, parameters k is 19.589717024629632 and b is -6.079793751425166\n",
      "Iteration 8, the loss is 7617.348674656219, parameters k is 18.391566510631918 and b is -6.26879696977705\n",
      "Iteration 9, the loss is 6428.149523412065, parameters k is 17.291618088529937 and b is -6.442362305849244\n",
      "Iteration 10, the loss is 5425.883670383193, parameters k is 16.281823644773798 and b is -6.601754963893582\n",
      "Iteration 11, the loss is 4581.166575584204, parameters k is 15.35479464575622 and b is -6.748136458851059\n",
      "Iteration 12, the loss is 3869.2327326555514, parameters k is 14.503748082200861 and b is -6.882573114168025\n",
      "Iteration 13, the loss is 3269.2095907405323, parameters k is 13.722456843656794 and b is -7.006043863177242\n",
      "Iteration 14, the loss is 2763.5056105045824, parameters k is 13.005204160031534 and b is -7.119447411119858\n",
      "Iteration 15, the loss is 2337.2945132487125, parameters k is 12.346741776850093 and b is -7.223608810206726\n",
      "Iteration 16, the loss is 1978.0806022701317, parameters k is 11.742251558244027 and b is -7.319285495823181\n",
      "Iteration 17, the loss is 1675.3324125088552, parameters k is 11.187310236752237 and b is -7.407172828039064\n",
      "Iteration 18, the loss is 1420.1739477761264, parameters k is 10.677857052037822 and b is -7.487909178966496\n",
      "Iteration 19, the loss is 1205.124453220272, parameters k is 10.210164041760992 and b is -7.562080603185269\n",
      "Iteration 20, the loss is 1023.8790936474863, parameters k is 9.780808767251683 and b is -7.630225125405384\n",
      "Iteration 21, the loss is 871.1241075979809, parameters k is 9.386649274438813 and b is -7.692836676735915\n",
      "Iteration 22, the loss is 742.3810178421979, parameters k is 9.024801106846613 and b is -7.750368708358519\n",
      "Iteration 23, the loss is 633.8753308415315, parameters k is 8.692616202481695 and b is -7.803237509043778\n",
      "Iteration 24, the loss is 542.4258756883896, parameters k is 8.387663520217336 and b is -7.851825250781804\n",
      "Iteration 25, the loss is 465.35153815120736, parameters k is 8.107711253934735 and b is -7.896482784809407\n",
      "Iteration 26, the loss is 400.3926554418161, parameters k is 7.850710504297239 and b is -7.93753220848996\n",
      "Iteration 27, the loss is 345.6447671473995, parameters k is 7.6147802886978155 and b is -7.97526922182566\n",
      "Iteration 28, the loss is 299.50278002884505, parameters k is 7.398193779710311 and b is -8.009965290842745\n",
      "Iteration 29, the loss is 260.6139097022275, parameters k is 7.1993656713629575 and b is -8.041869633677356\n",
      "Iteration 30, the loss is 227.83801954196804, parameters k is 7.0168405808039145 and b is -8.071211043892514\n",
      "Iteration 31, the loss is 200.2141940167831, parameters k is 6.849282400503681 and b is -8.09819956436588\n",
      "Iteration 32, the loss is 176.9325664514475, parameters k is 6.695464523093535 and b is -8.123028023994705\n",
      "Iteration 33, the loss is 157.31057525725922, parameters k is 6.554260867323435 and b is -8.14587344846075\n",
      "Iteration 34, the loss is 140.77295250849386, parameters k is 6.42463763948398 and b is -8.166898355376516\n",
      "Iteration 35, the loss is 126.83485816749551, parameters k is 6.305645770017748 and b is -8.186251943288292\n",
      "Iteration 36, the loss is 115.0876654855762, parameters k is 6.196413969985144 and b is -8.20407118323492\n",
      "Iteration 37, the loss is 105.18698083437386, parameters k is 6.096142356584824 and b is -8.220481820848299\n",
      "Iteration 38, the loss is 96.84254673163224, parameters k is 6.004096601092055 and b is -8.23559929632715\n",
      "Iteration 39, the loss is 89.80973203708925, parameters k is 5.919602556400461 and b is -8.249529589014685\n",
      "Iteration 40, the loss is 83.88235982699716, parameters k is 5.842041324861445 and b is -8.262369992759254\n",
      "Iteration 41, the loss is 78.88666267403505, parameters k is 5.770844730336865 and b is -8.274209827730623\n",
      "Iteration 42, the loss is 74.6761881127725, parameters k is 5.705491161337836 and b is -8.285131093899626\n",
      "Iteration 43, the loss is 71.12750492850265, parameters k is 5.645501754837431 and b is -8.295209070962155\n",
      "Iteration 44, the loss is 68.13658438590016, parameters k is 5.5904368928375 and b is -8.304512869096621\n",
      "Iteration 45, the loss is 65.61575030192598, parameters k is 5.539892986057955 and b is -8.3131059345843\n",
      "Iteration 46, the loss is 63.4911085448457, parameters k is 5.493499521217522 and b is -8.321046513991767\n",
      "Iteration 47, the loss is 61.70038059710114, parameters k is 5.450916350303425 and b is -8.32838808031145\n",
      "Iteration 48, the loss is 60.191077666170415, parameters k is 5.411831201997888 and b is -8.335179724177996\n",
      "Iteration 49, the loss is 58.91896181177401, parameters k is 5.375957397054697 and b is -8.341466513022658\n",
      "Iteration 50, the loss is 57.846748972569564, parameters k is 5.343031750911161 and b is -8.347289820793327\n",
      "Iteration 51, the loss is 56.94301586751386, parameters k is 5.31281264819067 and b is -8.352687630652495\n",
      "Iteration 52, the loss is 56.18127872429315, parameters k is 5.285078275008644 and b is -8.357694812867722\n",
      "Iteration 53, the loss is 55.53921682487021, parameters k is 5.259624996149126 and b is -8.362343379927696\n",
      "Iteration 54, the loss is 54.99801810396242, parameters k is 5.236265865239237 and b is -8.366662720750366\n",
      "Iteration 55, the loss is 54.54182761462729, parameters k is 5.214829257021681 and b is -8.370679815696642\n",
      "Iteration 56, the loss is 54.15728269100264, parameters k is 5.195157611718818 and b is -8.37441943396272\n",
      "Iteration 57, the loss is 53.83312118004616, parameters k is 5.177106282301873 and b is -8.377904314795213\n",
      "Iteration 58, the loss is 53.55985125636474, parameters k is 5.160542476231748 and b is -8.38115533385486\n",
      "Iteration 59, the loss is 53.32947313972501, parameters k is 5.1453442839290355 and b is -8.38419165594596\n",
      "Iteration 60, the loss is 53.135244556525166, parameters k is 5.13139978686539 and b is -8.387030875228936\n",
      "Iteration 61, the loss is 52.97148306899846, parameters k is 5.118606238750913 and b is -8.389689143941824\n",
      "Iteration 62, the loss is 52.833399476812744, parameters k is 5.106869313827004 and b is -8.392181290572454\n",
      "Iteration 63, the loss is 52.71695740671409, parameters k is 5.09610241676507 and b is -8.394520928345866\n",
      "Iteration 64, the loss is 52.61875497364462, parameters k is 5.086226049122208 and b is -8.39672055482069\n",
      "Iteration 65, the loss is 52.53592504386436, parameters k is 5.0771672277187685 and b is -8.398791643323142\n",
      "Iteration 66, the loss is 52.466051175975224, parameters k is 5.068858950682542 and b is -8.400744726887588\n",
      "Iteration 67, the loss is 52.407096775399175, parameters k is 5.061239707253093 and b is -8.402589475317782\n",
      "Iteration 68, the loss is 52.357345385250866, parameters k is 5.054253027759881 and b is -8.40433476593259\n",
      "Iteration 69, the loss is 52.3153503630464, parameters k is 5.0478470704817395 and b is -8.405988748513778\n",
      "Iteration 70, the loss is 52.279892467863256, parameters k is 5.041974242365133 and b is -8.407558904931014\n",
      "Iteration 71, the loss is 52.249944114486816, parameters k is 5.03659085082629 and b is -8.40905210388035\n",
      "Iteration 72, the loss is 52.224639246542594, parameters k is 5.031656784089753 and b is -8.410474651136617\n",
      "Iteration 73, the loss is 52.20324794534975, parameters k is 5.027135217724664 and b is -8.411832335687407\n",
      "Iteration 74, the loss is 52.18515503007724, parameters k is 5.022992345231743 and b is -8.41313047208617\n",
      "Iteration 75, the loss is 52.169842021796946, parameters k is 5.019197130709906 and b is -8.414373939334272\n",
      "Iteration 76, the loss is 52.15687194265594, parameters k is 5.015721081792995 and b is -8.415567216576497\n",
      "Iteration 77, the loss is 52.145876504506674, parameters k is 5.012538041195383 and b is -8.416714415871125\n",
      "Iteration 78, the loss is 52.136545311389966, parameters k is 5.009623995341382 and b is -8.417819312274371\n",
      "Iteration 79, the loss is 52.12861675930936, parameters k is 5.006956898678344 and b is -8.418885371459252\n",
      "Iteration 80, the loss is 52.121870366492715, parameters k is 5.00451651238812 and b is -8.419915775070956\n",
      "Iteration 81, the loss is 52.11612030928125, parameters k is 5.002284256316851 and b is -8.420913444004242\n",
      "Iteration 82, the loss is 52.11120997412886, parameters k is 5.000243073039795 and b is -8.421881059773126\n",
      "Iteration 83, the loss is 52.10700736598719, parameters k is 4.998377303066673 and b is -8.422821084129245\n",
      "Iteration 84, the loss is 52.10340123845866, parameters k is 4.996672570274502 and b is -8.423735777072388\n",
      "Iteration 85, the loss is 52.100297832261475, parameters k is 4.99511567672974 and b is -8.42462721338499\n",
      "Iteration 86, the loss is 52.097618126383246, parameters k is 4.993694506130241 and b is -8.425497297811551\n",
      "Iteration 87, the loss is 52.095295521333604, parameters k is 4.992397935160584 and b is -8.42634777899402\n",
      "Iteration 88, the loss is 52.09327388657235, parameters k is 4.991215752112239 and b is -8.427180262265118\n",
      "Iteration 89, the loss is 52.09150591486707, parameters k is 4.99013858217319 and b is -8.4279962213932\n",
      "Iteration 90, the loss is 52.089951735334424, parameters k is 4.989157818840412 and b is -8.428797009364544\n",
      "Iteration 91, the loss is 52.08857774450077, parameters k is 4.9882655609534154 and b is -8.429583868282013\n",
      "Iteration 92, the loss is 52.087355621111065, parameters k is 4.987454554888179 and b is -8.430357938452449\n",
      "Iteration 93, the loss is 52.086261495803214, parameters k is 4.986718141488553 and b is -8.431120266729332\n",
      "Iteration 94, the loss is 52.08527525130334, parameters k is 4.986050207346888 and b is -8.431871814171712\n",
      "Iteration 95, the loss is 52.08437993262485, parameters k is 4.985445140077426 and b is -8.432613463075457\n",
      "Iteration 96, the loss is 52.083561249980036, parameters k is 4.984897787255257 and b is -8.433346023428257\n",
      "Iteration 97, the loss is 52.082807159830985, parameters k is 4.984403418720407 and b is -8.434070238835615\n",
      "Iteration 98, the loss is 52.08210751179497, parameters k is 4.983957691971287 and b is -8.43478679196117\n",
      "Iteration 99, the loss is 52.08145375105469, parameters k is 4.983556620394299 and b is -8.435496309521165\n",
      "Iteration 100, the loss is 52.08083866754723, parameters k is 4.983196544097181 and b is -8.436199366869591\n",
      "Iteration 101, the loss is 52.08025618457806, parameters k is 4.9828741031326915 and b is -8.436896492207563\n",
      "Iteration 102, the loss is 52.079701180664564, parameters k is 4.982586212916731 and b is -8.437588170447711\n",
      "Iteration 103, the loss is 52.079169339383206, parameters k is 4.982330041661066 and b is -8.438274846761876\n",
      "Iteration 104, the loss is 52.07865702282039, parameters k is 4.982102989655546 and b is -8.43895692983805\n",
      "Iteration 105, the loss is 52.07816116491557, parameters k is 4.981902670248236 and b is -8.439634794870386\n",
      "Iteration 106, the loss is 52.07767918157034, parameters k is 4.981726892384316 and b is -8.440308786304188\n",
      "Iteration 107, the loss is 52.077208894887264, parameters k is 4.9815736445759935 and b is -8.440979220355905\n",
      "Iteration 108, the loss is 52.07674846931846, parameters k is 4.9814410801861655 and b is -8.441646387326626\n",
      "Iteration 109, the loss is 52.076296357850325, parameters k is 4.98132750391814 and b is -8.442310553725962\n",
      "Iteration 110, the loss is 52.075851256648306, parameters k is 4.981231359412597 and b is -8.44297196422186\n",
      "Iteration 111, the loss is 52.0754120668309, parameters k is 4.9811512178610275 and b is -8.443630843430634\n",
      "Iteration 112, the loss is 52.074977862252574, parameters k is 4.981085767552363 and b is -8.44428739756029\n",
      "Iteration 113, the loss is 52.07454786235095, parameters k is 4.981033804276296 and b is -8.444941815919163\n",
      "Iteration 114, the loss is 52.07412140926222, parameters k is 4.9809942225131 and b is -8.445594272300937\n",
      "Iteration 115, the loss is 52.07369794853356, parameters k is 4.980966007345484 and b is -8.446244926256126\n",
      "Iteration 116, the loss is 52.07327701286814, parameters k is 4.980948227033302 and b is -8.44689392425938\n",
      "Iteration 117, the loss is 52.072858208424364, parameters k is 4.980940026196809 and b is -8.447541400781104\n",
      "Iteration 118, the loss is 52.07244120326983, parameters k is 4.980940619558567 and b is -8.448187479271267\n",
      "Iteration 119, the loss is 52.07202571764901, parameters k is 4.980949286198245 and b is -8.448832273062573\n",
      "Iteration 120, the loss is 52.07161151578185, parameters k is 4.980965364278257 and b is -8.44947588619962\n",
      "Iteration 121, the loss is 52.071198398951104, parameters k is 4.980988246201654 and b is -8.450118414200102\n",
      "Iteration 122, the loss is 52.0707861996762, parameters k is 4.98101737416686 and b is -8.450759944753628\n",
      "Iteration 123, the loss is 52.0703747768031, parameters k is 4.981052236086709 and b is -8.45140055836327\n",
      "Iteration 124, the loss is 52.069964011366096, parameters k is 4.981092361841941 and b is -8.452040328934533\n",
      "Iteration 125, the loss is 52.06955380309973, parameters k is 4.981137319841735 and b is -8.452679324316057\n",
      "Iteration 126, the loss is 52.069144067499494, parameters k is 4.981186713866132 and b is -8.453317606796\n",
      "Iteration 127, the loss is 52.06873473334424, parameters k is 4.981240180167223 and b is -8.453955233557753\n",
      "Iteration 128, the loss is 52.06832574060806, parameters k is 4.981297384807922 and b is -8.454592257098291\n",
      "Iteration 129, the loss is 52.06791703870045, parameters k is 4.981358021218827 and b is -8.455228725612251\n",
      "Iteration 130, the loss is 52.06750858498346, parameters k is 4.981421807955314 and b is -8.45586468334453\n",
      "Iteration 131, the loss is 52.06710034352093, parameters k is 4.981488486638447 and b is -8.45650017091398\n",
      "Iteration 132, the loss is 52.06669228402595, parameters k is 4.981557820064635 and b is -8.45713522561058\n",
      "Iteration 133, the loss is 52.06628438097212, parameters k is 4.981629590470221 and b is -8.457769881668256\n",
      "Iteration 134, the loss is 52.06587661284536, parameters k is 4.981703597938284 and b is -8.458404170515335\n",
      "Iteration 135, the loss is 52.06546896151339, parameters k is 4.981779658936021 and b is -8.459038121004477\n",
      "Iteration 136, the loss is 52.065061411693975, parameters k is 4.98185760497199 and b is -8.459671759623765\n",
      "Iteration 137, the loss is 52.06465395050724, parameters k is 4.981937281363404 and b is -8.46030511069049\n",
      "Iteration 138, the loss is 52.06424656709743, parameters k is 4.982018546104446 and b is -8.46093819652906\n",
      "Iteration 139, the loss is 52.06383925231532, parameters k is 4.982101268827335 and b is -8.461571037634325\n",
      "Iteration 140, the loss is 52.06343199844967, parameters k is 4.982185329848533 and b is -8.462203652821518\n",
      "Iteration 141, the loss is 52.06302479900115, parameters k is 4.982270619293124 and b is -8.462836059363905\n",
      "Iteration 142, the loss is 52.06261764849212, parameters k is 4.982357036290952 and b is -8.46346827311916\n",
      "Iteration 143, the loss is 52.06221054230562, parameters k is 4.982444488238639 and b is -8.464100308645376\n",
      "Iteration 144, the loss is 52.06180347655047, parameters k is 4.9825328901220844 and b is -8.464732179307576\n",
      "Iteration 145, the loss is 52.061396447946976, parameters k is 4.982622163894489 and b is -8.465363897375484\n",
      "Iteration 146, the loss is 52.0609894537307, parameters k is 4.9827122379053534 and b is -8.465995474113297\n",
      "Iteration 147, the loss is 52.060582491571786, parameters k is 4.9828030463762705 and b is -8.466626919862087\n",
      "Iteration 148, the loss is 52.060175559506355, parameters k is 4.982894528919681 and b is -8.467258244115456\n",
      "Iteration 149, the loss is 52.05976865587914, parameters k is 4.982986630097069 and b is -8.467889455588995\n",
      "Iteration 150, the loss is 52.05936177929489, parameters k is 4.983079299013364 and b is -8.46852056228404\n",
      "Iteration 151, the loss is 52.0589549285776, parameters k is 4.983172488944588 and b is -8.469151571546211\n",
      "Iteration 152, the loss is 52.0585481027358, parameters k is 4.983266156996009 and b is -8.469782490119151\n",
      "Iteration 153, the loss is 52.05814130093392, parameters k is 4.983360263788322 and b is -8.470413324193858\n",
      "Iteration 154, the loss is 52.05773452246747, parameters k is 4.9834547731695436 and b is -8.471044079453982\n",
      "Iteration 155, the loss is 52.05732776674262, parameters k is 4.983549651950514 and b is -8.4716747611174\n",
      "Iteration 156, the loss is 52.05692103325877, parameters k is 4.983644869662084 and b is -8.472305373974391\n",
      "Iteration 157, the loss is 52.056514321593646, parameters k is 4.983740398332194 and b is -8.472935922422677\n",
      "Iteration 158, the loss is 52.05610763139154, parameters k is 4.983836212281232 and b is -8.473566410499595\n",
      "Iteration 159, the loss is 52.055700962352184, parameters k is 4.983932287934149 and b is -8.474196841911638\n",
      "Iteration 160, the loss is 52.0552943142226, parameters k is 4.984028603647987 and b is -8.474827220061561\n",
      "Iteration 161, the loss is 52.05488768678934, parameters k is 4.984125139553532 and b is -8.47545754807328\n",
      "Iteration 162, the loss is 52.05448107987227, parameters k is 4.984221877409948 and b is -8.476087828814716\n",
      "Iteration 163, the loss is 52.054074493319725, parameters k is 4.984318800471324 and b is -8.476718064918789\n",
      "Iteration 164, the loss is 52.05366792700324, parameters k is 4.984415893364159 and b is -8.477348258802662\n",
      "Iteration 165, the loss is 52.05326138081483, parameters k is 4.984513141974885 and b is -8.477978412685435\n",
      "Iteration 166, the loss is 52.05285485466324, parameters k is 4.98461053334661 and b is -8.478608528604367\n",
      "Iteration 167, the loss is 52.05244834847121, parameters k is 4.984708055584326 and b is -8.479238608429789\n",
      "Iteration 168, the loss is 52.052041862173745, parameters k is 4.984805697767878 and b is -8.479868653878777\n",
      "Iteration 169, the loss is 52.051635395715735, parameters k is 4.984903449872073 and b is -8.480498666527716\n",
      "Iteration 170, the loss is 52.05122894905063, parameters k is 4.985001302693334 and b is -8.481128647823828\n",
      "Iteration 171, the loss is 52.05082252213913, parameters k is 4.985099247782364 and b is -8.481758599095759\n",
      "Iteration 172, the loss is 52.05041611494788, parameters k is 4.985197277382331 and b is -8.482388521563296\n",
      "Iteration 173, the loss is 52.05000972744864, parameters k is 4.985295384372112 and b is -8.483018416346287\n",
      "Iteration 174, the loss is 52.04960335961743, parameters k is 4.985393562214201 and b is -8.483648284472835\n",
      "Iteration 175, the loss is 52.04919701143393, parameters k is 4.985491804906873 and b is -8.484278126886815\n",
      "Iteration 176, the loss is 52.04879068288094, parameters k is 4.985590106940279 and b is -8.484907944454777\n",
      "Iteration 177, the loss is 52.04838437394365, parameters k is 4.985688463256131 and b is -8.485537737972281\n",
      "Iteration 178, the loss is 52.04797808460952, parameters k is 4.985786869210695 and b is -8.48616750816972\n",
      "Iteration 179, the loss is 52.047571814867894, parameters k is 4.985885320540818 and b is -8.486797255717656\n",
      "Iteration 180, the loss is 52.0471655647096, parameters k is 4.985983813332735 and b is -8.487426981231726\n",
      "Iteration 181, the loss is 52.046759334126584, parameters k is 4.9860823439934405 and b is -8.488056685277142\n",
      "Iteration 182, the loss is 52.04635312311224, parameters k is 4.986180909224394 and b is -8.488686368372823\n",
      "Iteration 183, the loss is 52.04594693166058, parameters k is 4.9862795059973894 and b is -8.489316030995193\n",
      "Iteration 184, the loss is 52.045540759766546, parameters k is 4.986378131532404 and b is -8.489945673581659\n",
      "Iteration 185, the loss is 52.045134607425744, parameters k is 4.9864767832772525 and b is -8.490575296533809\n",
      "Iteration 186, the loss is 52.044728474634134, parameters k is 4.98657545888892 and b is -8.491204900220351\n",
      "Iteration 187, the loss is 52.04432236138841, parameters k is 4.986674156216415 and b is -8.491834484979805\n",
      "Iteration 188, the loss is 52.04391626768546, parameters k is 4.986772873285036 and b is -8.492464051122976\n",
      "Iteration 189, the loss is 52.043510193522664, parameters k is 4.98687160828192 and b is -8.493093598935229\n",
      "Iteration 190, the loss is 52.043104138897505, parameters k is 4.9869703595427834 and b is -8.493723128678571\n",
      "Iteration 191, the loss is 52.04269810380787, parameters k is 4.987069125539743 and b is -8.494352640593565\n",
      "Iteration 192, the loss is 52.04229208825171, parameters k is 4.987167904870136 and b is -8.494982134901091\n",
      "Iteration 193, the loss is 52.04188609222711, parameters k is 4.987266696246258 and b is -8.495611611803955\n",
      "Iteration 194, the loss is 52.04148011573252, parameters k is 4.9873654984859455 and b is -8.496241071488374\n",
      "Iteration 195, the loss is 52.04107415876633, parameters k is 4.987464310503921 and b is -8.496870514125328\n",
      "Iteration 196, the loss is 52.04066822132706, parameters k is 4.987563131303857 and b is -8.497499939871823\n",
      "Iteration 197, the loss is 52.04026230341329, parameters k is 4.987661959971082 and b is -8.498129348872018\n",
      "Iteration 198, the loss is 52.039856405023706, parameters k is 4.987760795665894 and b is -8.498758741258294\n",
      "Iteration 199, the loss is 52.03945052615702, parameters k is 4.98785963761741 and b is -8.49938811715221\n"
     ]
    }
   ],
   "source": [
    "#initialized parameters\n",
    "\n",
    "k = random.random() * 200 - 100  # -100 100\n",
    "b = random.random() * 200 - 100  # -100 100\n",
    "\n",
    "learning_rate = 1e-3\n",
    "\n",
    "iteration_num = 200 \n",
    "losses = []\n",
    "for i in range(iteration_num):\n",
    "    \n",
    "    price_use_current_parameters = [price(r, k, b) for r in X_rm]  # \\hat{y}\n",
    "    \n",
    "    current_loss = loss(y, price_use_current_parameters)\n",
    "    losses.append(current_loss)\n",
    "    print(\"Iteration {}, the loss is {}, parameters k is {} and b is {}\".format(i,current_loss,k,b))\n",
    "    \n",
    "    k_gradient = partial_derivative_k(X_rm, y, price_use_current_parameters)\n",
    "    b_gradient = partial_derivative_b(y, price_use_current_parameters)\n",
    "    \n",
    "    k = k + (-1 * k_gradient) * learning_rate\n",
    "    b = b + (-1 * b_gradient) * learning_rate\n",
    "best_k = k\n",
    "best_b = b"
   ]
  },
  {
   "cell_type": "code",
   "execution_count": 42,
   "metadata": {},
   "outputs": [
    {
     "data": {
      "text/plain": [
       "[<matplotlib.lines.Line2D at 0x7ff3f57cf910>]"
      ]
     },
     "execution_count": 42,
     "metadata": {},
     "output_type": "execute_result"
    },
    {
     "data": {
      "image/png": "[encoded data removed]",
      "text/plain": [
       "<Figure size 432x288 with 1 Axes>"
      ]
     },
     "metadata": {
      "needs_background": "light"
     },
     "output_type": "display_data"
    }
   ],
   "source": [
    "plt.plot(list(range(iteration_num)),losses)"
   ]
  },
  {
   "cell_type": "code",
   "execution_count": 43,
   "metadata": {},
   "outputs": [
    {
     "data": {
      "text/plain": [
       "<matplotlib.collections.PathCollection at 0x7ff3f575bd90>"
      ]
     },
     "execution_count": 43,
     "metadata": {},
     "output_type": "execute_result"
    },
    {
     "data": {
      "image/png": "[encoded data removed]",
      "text/plain": [
       "<Figure size 432x288 with 1 Axes>"
      ]
     },
     "metadata": {
      "needs_background": "light"
     },
     "output_type": "display_data"
    }
   ],
   "source": [
    "price_use_best_parameters = [price(r, best_k, best_b) for r in X_rm]\n",
    "\n",
    "plt.scatter(X_rm,y)\n",
    "plt.scatter(X_rm,price_use_current_parameters)"
   ]
  },
  {
   "cell_type": "code",
   "execution_count": null,
   "metadata": {},
   "outputs": [],
   "source": []
  }
 ],
 "metadata": {
  "kernelspec": {
   "display_name": "Python 3",
   "language": "python",
   "name": "python3"
  },
  "language_info": {
   "codemirror_mode": {
    "name": "ipython",
    "version": 3
   },
   "file_extension": ".py",
   "mimetype": "text/x-python",
   "name": "python",
   "nbconvert_exporter": "python",
   "pygments_lexer": "ipython3",
   "version": "3.7.4"
  }
 },
 "nbformat": 4,
 "nbformat_minor": 2
}
